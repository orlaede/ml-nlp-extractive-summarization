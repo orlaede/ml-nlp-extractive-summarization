{
  "nbformat": 4,
  "nbformat_minor": 0,
  "metadata": {
    "colab": {
      "name": "text-summarization.ipynb",
      "provenance": [],
      "collapsed_sections": []
    },
    "kernelspec": {
      "display_name": "Python 3",
      "name": "python3"
    },
    "widgets": {
      "application/vnd.jupyter.widget-state+json": {
        "15706bd50508435eae375ae9ab89720e": {
          "model_module": "@jupyter-widgets/controls",
          "model_name": "HBoxModel",
          "model_module_version": "1.5.0",
          "state": {
            "_view_name": "HBoxView",
            "_dom_classes": [],
            "_model_name": "HBoxModel",
            "_view_module": "@jupyter-widgets/controls",
            "_model_module_version": "1.5.0",
            "_view_count": null,
            "_view_module_version": "1.5.0",
            "box_style": "",
            "layout": "IPY_MODEL_124aaff5fca740c2b6c4317a3cc29ebd",
            "_model_module": "@jupyter-widgets/controls",
            "children": [
              "IPY_MODEL_f6ca248807e3474f87928f1bada381bb",
              "IPY_MODEL_1a6a9cf005ce49e89816a0fed8c79f6b",
              "IPY_MODEL_cec1ac54a05c47bfa986eed41b25a2ac"
            ]
          }
        },
        "124aaff5fca740c2b6c4317a3cc29ebd": {
          "model_module": "@jupyter-widgets/base",
          "model_name": "LayoutModel",
          "model_module_version": "1.2.0",
          "state": {
            "_view_name": "LayoutView",
            "grid_template_rows": null,
            "right": null,
            "justify_content": null,
            "_view_module": "@jupyter-widgets/base",
            "overflow": null,
            "_model_module_version": "1.2.0",
            "_view_count": null,
            "flex_flow": null,
            "width": null,
            "min_width": null,
            "border": null,
            "align_items": null,
            "bottom": null,
            "_model_module": "@jupyter-widgets/base",
            "top": null,
            "grid_column": null,
            "overflow_y": null,
            "overflow_x": null,
            "grid_auto_flow": null,
            "grid_area": null,
            "grid_template_columns": null,
            "flex": null,
            "_model_name": "LayoutModel",
            "justify_items": null,
            "grid_row": null,
            "max_height": null,
            "align_content": null,
            "visibility": null,
            "align_self": null,
            "height": null,
            "min_height": null,
            "padding": null,
            "grid_auto_rows": null,
            "grid_gap": null,
            "max_width": null,
            "order": null,
            "_view_module_version": "1.2.0",
            "grid_template_areas": null,
            "object_position": null,
            "object_fit": null,
            "grid_auto_columns": null,
            "margin": null,
            "display": null,
            "left": null
          }
        },
        "f6ca248807e3474f87928f1bada381bb": {
          "model_module": "@jupyter-widgets/controls",
          "model_name": "HTMLModel",
          "model_module_version": "1.5.0",
          "state": {
            "_view_name": "HTMLView",
            "style": "IPY_MODEL_fcb35de5e6304f57aa93bf796f5a6a99",
            "_dom_classes": [],
            "description": "",
            "_model_name": "HTMLModel",
            "placeholder": "​",
            "_view_module": "@jupyter-widgets/controls",
            "_model_module_version": "1.5.0",
            "value": "Dl Completed...: 100%",
            "_view_count": null,
            "_view_module_version": "1.5.0",
            "description_tooltip": null,
            "_model_module": "@jupyter-widgets/controls",
            "layout": "IPY_MODEL_57a9149a34524d2b9af72f03ad7b0e5a"
          }
        },
        "1a6a9cf005ce49e89816a0fed8c79f6b": {
          "model_module": "@jupyter-widgets/controls",
          "model_name": "FloatProgressModel",
          "model_module_version": "1.5.0",
          "state": {
            "_view_name": "ProgressView",
            "style": "IPY_MODEL_6bbba8cf06bb4f09947b01448fada757",
            "_dom_classes": [],
            "description": "",
            "_model_name": "FloatProgressModel",
            "bar_style": "success",
            "max": 1,
            "_view_module": "@jupyter-widgets/controls",
            "_model_module_version": "1.5.0",
            "value": 1,
            "_view_count": null,
            "_view_module_version": "1.5.0",
            "orientation": "horizontal",
            "min": 0,
            "description_tooltip": null,
            "_model_module": "@jupyter-widgets/controls",
            "layout": "IPY_MODEL_6c89967eff3b4d26a025634995b37a4a"
          }
        },
        "cec1ac54a05c47bfa986eed41b25a2ac": {
          "model_module": "@jupyter-widgets/controls",
          "model_name": "HTMLModel",
          "model_module_version": "1.5.0",
          "state": {
            "_view_name": "HTMLView",
            "style": "IPY_MODEL_fc5b8a943a744505b6073f744ba2891c",
            "_dom_classes": [],
            "description": "",
            "_model_name": "HTMLModel",
            "placeholder": "​",
            "_view_module": "@jupyter-widgets/controls",
            "_model_module_version": "1.5.0",
            "value": " 1/1 [00:19&lt;00:00,  9.28s/ url]",
            "_view_count": null,
            "_view_module_version": "1.5.0",
            "description_tooltip": null,
            "_model_module": "@jupyter-widgets/controls",
            "layout": "IPY_MODEL_20d788152b14415183619b1c82fdbf13"
          }
        },
        "fcb35de5e6304f57aa93bf796f5a6a99": {
          "model_module": "@jupyter-widgets/controls",
          "model_name": "DescriptionStyleModel",
          "model_module_version": "1.5.0",
          "state": {
            "_view_name": "StyleView",
            "_model_name": "DescriptionStyleModel",
            "description_width": "",
            "_view_module": "@jupyter-widgets/base",
            "_model_module_version": "1.5.0",
            "_view_count": null,
            "_view_module_version": "1.2.0",
            "_model_module": "@jupyter-widgets/controls"
          }
        },
        "57a9149a34524d2b9af72f03ad7b0e5a": {
          "model_module": "@jupyter-widgets/base",
          "model_name": "LayoutModel",
          "model_module_version": "1.2.0",
          "state": {
            "_view_name": "LayoutView",
            "grid_template_rows": null,
            "right": null,
            "justify_content": null,
            "_view_module": "@jupyter-widgets/base",
            "overflow": null,
            "_model_module_version": "1.2.0",
            "_view_count": null,
            "flex_flow": null,
            "width": null,
            "min_width": null,
            "border": null,
            "align_items": null,
            "bottom": null,
            "_model_module": "@jupyter-widgets/base",
            "top": null,
            "grid_column": null,
            "overflow_y": null,
            "overflow_x": null,
            "grid_auto_flow": null,
            "grid_area": null,
            "grid_template_columns": null,
            "flex": null,
            "_model_name": "LayoutModel",
            "justify_items": null,
            "grid_row": null,
            "max_height": null,
            "align_content": null,
            "visibility": null,
            "align_self": null,
            "height": null,
            "min_height": null,
            "padding": null,
            "grid_auto_rows": null,
            "grid_gap": null,
            "max_width": null,
            "order": null,
            "_view_module_version": "1.2.0",
            "grid_template_areas": null,
            "object_position": null,
            "object_fit": null,
            "grid_auto_columns": null,
            "margin": null,
            "display": null,
            "left": null
          }
        },
        "6bbba8cf06bb4f09947b01448fada757": {
          "model_module": "@jupyter-widgets/controls",
          "model_name": "ProgressStyleModel",
          "model_module_version": "1.5.0",
          "state": {
            "_view_name": "StyleView",
            "_model_name": "ProgressStyleModel",
            "description_width": "",
            "_view_module": "@jupyter-widgets/base",
            "_model_module_version": "1.5.0",
            "_view_count": null,
            "_view_module_version": "1.2.0",
            "bar_color": null,
            "_model_module": "@jupyter-widgets/controls"
          }
        },
        "6c89967eff3b4d26a025634995b37a4a": {
          "model_module": "@jupyter-widgets/base",
          "model_name": "LayoutModel",
          "model_module_version": "1.2.0",
          "state": {
            "_view_name": "LayoutView",
            "grid_template_rows": null,
            "right": null,
            "justify_content": null,
            "_view_module": "@jupyter-widgets/base",
            "overflow": null,
            "_model_module_version": "1.2.0",
            "_view_count": null,
            "flex_flow": null,
            "width": "20px",
            "min_width": null,
            "border": null,
            "align_items": null,
            "bottom": null,
            "_model_module": "@jupyter-widgets/base",
            "top": null,
            "grid_column": null,
            "overflow_y": null,
            "overflow_x": null,
            "grid_auto_flow": null,
            "grid_area": null,
            "grid_template_columns": null,
            "flex": null,
            "_model_name": "LayoutModel",
            "justify_items": null,
            "grid_row": null,
            "max_height": null,
            "align_content": null,
            "visibility": null,
            "align_self": null,
            "height": null,
            "min_height": null,
            "padding": null,
            "grid_auto_rows": null,
            "grid_gap": null,
            "max_width": null,
            "order": null,
            "_view_module_version": "1.2.0",
            "grid_template_areas": null,
            "object_position": null,
            "object_fit": null,
            "grid_auto_columns": null,
            "margin": null,
            "display": null,
            "left": null
          }
        },
        "fc5b8a943a744505b6073f744ba2891c": {
          "model_module": "@jupyter-widgets/controls",
          "model_name": "DescriptionStyleModel",
          "model_module_version": "1.5.0",
          "state": {
            "_view_name": "StyleView",
            "_model_name": "DescriptionStyleModel",
            "description_width": "",
            "_view_module": "@jupyter-widgets/base",
            "_model_module_version": "1.5.0",
            "_view_count": null,
            "_view_module_version": "1.2.0",
            "_model_module": "@jupyter-widgets/controls"
          }
        },
        "20d788152b14415183619b1c82fdbf13": {
          "model_module": "@jupyter-widgets/base",
          "model_name": "LayoutModel",
          "model_module_version": "1.2.0",
          "state": {
            "_view_name": "LayoutView",
            "grid_template_rows": null,
            "right": null,
            "justify_content": null,
            "_view_module": "@jupyter-widgets/base",
            "overflow": null,
            "_model_module_version": "1.2.0",
            "_view_count": null,
            "flex_flow": null,
            "width": null,
            "min_width": null,
            "border": null,
            "align_items": null,
            "bottom": null,
            "_model_module": "@jupyter-widgets/base",
            "top": null,
            "grid_column": null,
            "overflow_y": null,
            "overflow_x": null,
            "grid_auto_flow": null,
            "grid_area": null,
            "grid_template_columns": null,
            "flex": null,
            "_model_name": "LayoutModel",
            "justify_items": null,
            "grid_row": null,
            "max_height": null,
            "align_content": null,
            "visibility": null,
            "align_self": null,
            "height": null,
            "min_height": null,
            "padding": null,
            "grid_auto_rows": null,
            "grid_gap": null,
            "max_width": null,
            "order": null,
            "_view_module_version": "1.2.0",
            "grid_template_areas": null,
            "object_position": null,
            "object_fit": null,
            "grid_auto_columns": null,
            "margin": null,
            "display": null,
            "left": null
          }
        },
        "9e5d0229ac69413d9d59758f6ecfc46b": {
          "model_module": "@jupyter-widgets/controls",
          "model_name": "HBoxModel",
          "model_module_version": "1.5.0",
          "state": {
            "_view_name": "HBoxView",
            "_dom_classes": [],
            "_model_name": "HBoxModel",
            "_view_module": "@jupyter-widgets/controls",
            "_model_module_version": "1.5.0",
            "_view_count": null,
            "_view_module_version": "1.5.0",
            "box_style": "",
            "layout": "IPY_MODEL_206e6c5df604435199dc98f6acd51f38",
            "_model_module": "@jupyter-widgets/controls",
            "children": [
              "IPY_MODEL_2efc5620356d40a6a982d9fb24414c18",
              "IPY_MODEL_eeba5574ba7548f5ac9b4d8ebb9bda7a",
              "IPY_MODEL_4f966cbe315345e9b84e906880ae8df6"
            ]
          }
        },
        "206e6c5df604435199dc98f6acd51f38": {
          "model_module": "@jupyter-widgets/base",
          "model_name": "LayoutModel",
          "model_module_version": "1.2.0",
          "state": {
            "_view_name": "LayoutView",
            "grid_template_rows": null,
            "right": null,
            "justify_content": null,
            "_view_module": "@jupyter-widgets/base",
            "overflow": null,
            "_model_module_version": "1.2.0",
            "_view_count": null,
            "flex_flow": null,
            "width": null,
            "min_width": null,
            "border": null,
            "align_items": null,
            "bottom": null,
            "_model_module": "@jupyter-widgets/base",
            "top": null,
            "grid_column": null,
            "overflow_y": null,
            "overflow_x": null,
            "grid_auto_flow": null,
            "grid_area": null,
            "grid_template_columns": null,
            "flex": null,
            "_model_name": "LayoutModel",
            "justify_items": null,
            "grid_row": null,
            "max_height": null,
            "align_content": null,
            "visibility": null,
            "align_self": null,
            "height": null,
            "min_height": null,
            "padding": null,
            "grid_auto_rows": null,
            "grid_gap": null,
            "max_width": null,
            "order": null,
            "_view_module_version": "1.2.0",
            "grid_template_areas": null,
            "object_position": null,
            "object_fit": null,
            "grid_auto_columns": null,
            "margin": null,
            "display": null,
            "left": null
          }
        },
        "2efc5620356d40a6a982d9fb24414c18": {
          "model_module": "@jupyter-widgets/controls",
          "model_name": "HTMLModel",
          "model_module_version": "1.5.0",
          "state": {
            "_view_name": "HTMLView",
            "style": "IPY_MODEL_ff8eb5a01e064a41ae665fe2448b1a17",
            "_dom_classes": [],
            "description": "",
            "_model_name": "HTMLModel",
            "placeholder": "​",
            "_view_module": "@jupyter-widgets/controls",
            "_model_module_version": "1.5.0",
            "value": "Dl Size...: 100%",
            "_view_count": null,
            "_view_module_version": "1.5.0",
            "description_tooltip": null,
            "_model_module": "@jupyter-widgets/controls",
            "layout": "IPY_MODEL_6cbaa1aef59f41ee805b94df21746943"
          }
        },
        "eeba5574ba7548f5ac9b4d8ebb9bda7a": {
          "model_module": "@jupyter-widgets/controls",
          "model_name": "FloatProgressModel",
          "model_module_version": "1.5.0",
          "state": {
            "_view_name": "ProgressView",
            "style": "IPY_MODEL_c6b35198135b40eabeee3d1f2c4fdb25",
            "_dom_classes": [],
            "description": "",
            "_model_name": "FloatProgressModel",
            "bar_style": "success",
            "max": 1,
            "_view_module": "@jupyter-widgets/controls",
            "_model_module_version": "1.5.0",
            "value": 1,
            "_view_count": null,
            "_view_module_version": "1.5.0",
            "orientation": "horizontal",
            "min": 0,
            "description_tooltip": null,
            "_model_module": "@jupyter-widgets/controls",
            "layout": "IPY_MODEL_d7ff9e997fc14273b472e7976909cbe0"
          }
        },
        "4f966cbe315345e9b84e906880ae8df6": {
          "model_module": "@jupyter-widgets/controls",
          "model_name": "HTMLModel",
          "model_module_version": "1.5.0",
          "state": {
            "_view_name": "HTMLView",
            "style": "IPY_MODEL_3416b25a672240f1ac7ee46d7f4db352",
            "_dom_classes": [],
            "description": "",
            "_model_name": "HTMLModel",
            "placeholder": "​",
            "_view_module": "@jupyter-widgets/controls",
            "_model_module_version": "1.5.0",
            "value": " 245/245 [00:19&lt;00:00, 22.94 MiB/s]",
            "_view_count": null,
            "_view_module_version": "1.5.0",
            "description_tooltip": null,
            "_model_module": "@jupyter-widgets/controls",
            "layout": "IPY_MODEL_541470458da74e4688f675f6553cbd43"
          }
        },
        "ff8eb5a01e064a41ae665fe2448b1a17": {
          "model_module": "@jupyter-widgets/controls",
          "model_name": "DescriptionStyleModel",
          "model_module_version": "1.5.0",
          "state": {
            "_view_name": "StyleView",
            "_model_name": "DescriptionStyleModel",
            "description_width": "",
            "_view_module": "@jupyter-widgets/base",
            "_model_module_version": "1.5.0",
            "_view_count": null,
            "_view_module_version": "1.2.0",
            "_model_module": "@jupyter-widgets/controls"
          }
        },
        "6cbaa1aef59f41ee805b94df21746943": {
          "model_module": "@jupyter-widgets/base",
          "model_name": "LayoutModel",
          "model_module_version": "1.2.0",
          "state": {
            "_view_name": "LayoutView",
            "grid_template_rows": null,
            "right": null,
            "justify_content": null,
            "_view_module": "@jupyter-widgets/base",
            "overflow": null,
            "_model_module_version": "1.2.0",
            "_view_count": null,
            "flex_flow": null,
            "width": null,
            "min_width": null,
            "border": null,
            "align_items": null,
            "bottom": null,
            "_model_module": "@jupyter-widgets/base",
            "top": null,
            "grid_column": null,
            "overflow_y": null,
            "overflow_x": null,
            "grid_auto_flow": null,
            "grid_area": null,
            "grid_template_columns": null,
            "flex": null,
            "_model_name": "LayoutModel",
            "justify_items": null,
            "grid_row": null,
            "max_height": null,
            "align_content": null,
            "visibility": null,
            "align_self": null,
            "height": null,
            "min_height": null,
            "padding": null,
            "grid_auto_rows": null,
            "grid_gap": null,
            "max_width": null,
            "order": null,
            "_view_module_version": "1.2.0",
            "grid_template_areas": null,
            "object_position": null,
            "object_fit": null,
            "grid_auto_columns": null,
            "margin": null,
            "display": null,
            "left": null
          }
        },
        "c6b35198135b40eabeee3d1f2c4fdb25": {
          "model_module": "@jupyter-widgets/controls",
          "model_name": "ProgressStyleModel",
          "model_module_version": "1.5.0",
          "state": {
            "_view_name": "StyleView",
            "_model_name": "ProgressStyleModel",
            "description_width": "",
            "_view_module": "@jupyter-widgets/base",
            "_model_module_version": "1.5.0",
            "_view_count": null,
            "_view_module_version": "1.2.0",
            "bar_color": null,
            "_model_module": "@jupyter-widgets/controls"
          }
        },
        "d7ff9e997fc14273b472e7976909cbe0": {
          "model_module": "@jupyter-widgets/base",
          "model_name": "LayoutModel",
          "model_module_version": "1.2.0",
          "state": {
            "_view_name": "LayoutView",
            "grid_template_rows": null,
            "right": null,
            "justify_content": null,
            "_view_module": "@jupyter-widgets/base",
            "overflow": null,
            "_model_module_version": "1.2.0",
            "_view_count": null,
            "flex_flow": null,
            "width": "20px",
            "min_width": null,
            "border": null,
            "align_items": null,
            "bottom": null,
            "_model_module": "@jupyter-widgets/base",
            "top": null,
            "grid_column": null,
            "overflow_y": null,
            "overflow_x": null,
            "grid_auto_flow": null,
            "grid_area": null,
            "grid_template_columns": null,
            "flex": null,
            "_model_name": "LayoutModel",
            "justify_items": null,
            "grid_row": null,
            "max_height": null,
            "align_content": null,
            "visibility": null,
            "align_self": null,
            "height": null,
            "min_height": null,
            "padding": null,
            "grid_auto_rows": null,
            "grid_gap": null,
            "max_width": null,
            "order": null,
            "_view_module_version": "1.2.0",
            "grid_template_areas": null,
            "object_position": null,
            "object_fit": null,
            "grid_auto_columns": null,
            "margin": null,
            "display": null,
            "left": null
          }
        },
        "3416b25a672240f1ac7ee46d7f4db352": {
          "model_module": "@jupyter-widgets/controls",
          "model_name": "DescriptionStyleModel",
          "model_module_version": "1.5.0",
          "state": {
            "_view_name": "StyleView",
            "_model_name": "DescriptionStyleModel",
            "description_width": "",
            "_view_module": "@jupyter-widgets/base",
            "_model_module_version": "1.5.0",
            "_view_count": null,
            "_view_module_version": "1.2.0",
            "_model_module": "@jupyter-widgets/controls"
          }
        },
        "541470458da74e4688f675f6553cbd43": {
          "model_module": "@jupyter-widgets/base",
          "model_name": "LayoutModel",
          "model_module_version": "1.2.0",
          "state": {
            "_view_name": "LayoutView",
            "grid_template_rows": null,
            "right": null,
            "justify_content": null,
            "_view_module": "@jupyter-widgets/base",
            "overflow": null,
            "_model_module_version": "1.2.0",
            "_view_count": null,
            "flex_flow": null,
            "width": null,
            "min_width": null,
            "border": null,
            "align_items": null,
            "bottom": null,
            "_model_module": "@jupyter-widgets/base",
            "top": null,
            "grid_column": null,
            "overflow_y": null,
            "overflow_x": null,
            "grid_auto_flow": null,
            "grid_area": null,
            "grid_template_columns": null,
            "flex": null,
            "_model_name": "LayoutModel",
            "justify_items": null,
            "grid_row": null,
            "max_height": null,
            "align_content": null,
            "visibility": null,
            "align_self": null,
            "height": null,
            "min_height": null,
            "padding": null,
            "grid_auto_rows": null,
            "grid_gap": null,
            "max_width": null,
            "order": null,
            "_view_module_version": "1.2.0",
            "grid_template_areas": null,
            "object_position": null,
            "object_fit": null,
            "grid_auto_columns": null,
            "margin": null,
            "display": null,
            "left": null
          }
        },
        "7f1dd699e7ec45eba895e122f89d0b1c": {
          "model_module": "@jupyter-widgets/controls",
          "model_name": "HBoxModel",
          "model_module_version": "1.5.0",
          "state": {
            "_view_name": "HBoxView",
            "_dom_classes": [],
            "_model_name": "HBoxModel",
            "_view_module": "@jupyter-widgets/controls",
            "_model_module_version": "1.5.0",
            "_view_count": null,
            "_view_module_version": "1.5.0",
            "box_style": "",
            "layout": "IPY_MODEL_ac28ac0f1df24e2ba86f935a2d49c48d",
            "_model_module": "@jupyter-widgets/controls",
            "children": [
              "IPY_MODEL_631da6adf49f48bdb86dd1db6026ac7c",
              "IPY_MODEL_e04ac55afda5499b9c5da14918621a48",
              "IPY_MODEL_78106fa2981f4cc0b180140e82493432"
            ]
          }
        },
        "ac28ac0f1df24e2ba86f935a2d49c48d": {
          "model_module": "@jupyter-widgets/base",
          "model_name": "LayoutModel",
          "model_module_version": "1.2.0",
          "state": {
            "_view_name": "LayoutView",
            "grid_template_rows": null,
            "right": null,
            "justify_content": null,
            "_view_module": "@jupyter-widgets/base",
            "overflow": null,
            "_model_module_version": "1.2.0",
            "_view_count": null,
            "flex_flow": null,
            "width": null,
            "min_width": null,
            "border": null,
            "align_items": null,
            "bottom": null,
            "_model_module": "@jupyter-widgets/base",
            "top": null,
            "grid_column": null,
            "overflow_y": null,
            "overflow_x": null,
            "grid_auto_flow": null,
            "grid_area": null,
            "grid_template_columns": null,
            "flex": null,
            "_model_name": "LayoutModel",
            "justify_items": null,
            "grid_row": null,
            "max_height": null,
            "align_content": null,
            "visibility": null,
            "align_self": null,
            "height": null,
            "min_height": null,
            "padding": null,
            "grid_auto_rows": null,
            "grid_gap": null,
            "max_width": null,
            "order": null,
            "_view_module_version": "1.2.0",
            "grid_template_areas": null,
            "object_position": null,
            "object_fit": null,
            "grid_auto_columns": null,
            "margin": null,
            "display": null,
            "left": null
          }
        },
        "631da6adf49f48bdb86dd1db6026ac7c": {
          "model_module": "@jupyter-widgets/controls",
          "model_name": "HTMLModel",
          "model_module_version": "1.5.0",
          "state": {
            "_view_name": "HTMLView",
            "style": "IPY_MODEL_d43a196c9a30429fa07073f3ad58fb5b",
            "_dom_classes": [],
            "description": "",
            "_model_name": "HTMLModel",
            "placeholder": "​",
            "_view_module": "@jupyter-widgets/controls",
            "_model_module_version": "1.5.0",
            "value": "Extraction completed...: 100%",
            "_view_count": null,
            "_view_module_version": "1.5.0",
            "description_tooltip": null,
            "_model_module": "@jupyter-widgets/controls",
            "layout": "IPY_MODEL_5fdaa5daa4db4f24bff4f5005f80342e"
          }
        },
        "e04ac55afda5499b9c5da14918621a48": {
          "model_module": "@jupyter-widgets/controls",
          "model_name": "FloatProgressModel",
          "model_module_version": "1.5.0",
          "state": {
            "_view_name": "ProgressView",
            "style": "IPY_MODEL_ed17c1b340de43c7af020af0b72c53c9",
            "_dom_classes": [],
            "description": "",
            "_model_name": "FloatProgressModel",
            "bar_style": "success",
            "max": 1,
            "_view_module": "@jupyter-widgets/controls",
            "_model_module_version": "1.5.0",
            "value": 1,
            "_view_count": null,
            "_view_module_version": "1.5.0",
            "orientation": "horizontal",
            "min": 0,
            "description_tooltip": null,
            "_model_module": "@jupyter-widgets/controls",
            "layout": "IPY_MODEL_3032d2ba439f4ee3b5b80209d290b766"
          }
        },
        "78106fa2981f4cc0b180140e82493432": {
          "model_module": "@jupyter-widgets/controls",
          "model_name": "HTMLModel",
          "model_module_version": "1.5.0",
          "state": {
            "_view_name": "HTMLView",
            "style": "IPY_MODEL_b1a150b5e6e2425c946ecf62e48fc078",
            "_dom_classes": [],
            "description": "",
            "_model_name": "HTMLModel",
            "placeholder": "​",
            "_view_module": "@jupyter-widgets/controls",
            "_model_module_version": "1.5.0",
            "value": " 1/1 [00:19&lt;00:00, 19.65s/ file]",
            "_view_count": null,
            "_view_module_version": "1.5.0",
            "description_tooltip": null,
            "_model_module": "@jupyter-widgets/controls",
            "layout": "IPY_MODEL_3fcc2bb3f00345b29ece8cf8c5df1a7a"
          }
        },
        "d43a196c9a30429fa07073f3ad58fb5b": {
          "model_module": "@jupyter-widgets/controls",
          "model_name": "DescriptionStyleModel",
          "model_module_version": "1.5.0",
          "state": {
            "_view_name": "StyleView",
            "_model_name": "DescriptionStyleModel",
            "description_width": "",
            "_view_module": "@jupyter-widgets/base",
            "_model_module_version": "1.5.0",
            "_view_count": null,
            "_view_module_version": "1.2.0",
            "_model_module": "@jupyter-widgets/controls"
          }
        },
        "5fdaa5daa4db4f24bff4f5005f80342e": {
          "model_module": "@jupyter-widgets/base",
          "model_name": "LayoutModel",
          "model_module_version": "1.2.0",
          "state": {
            "_view_name": "LayoutView",
            "grid_template_rows": null,
            "right": null,
            "justify_content": null,
            "_view_module": "@jupyter-widgets/base",
            "overflow": null,
            "_model_module_version": "1.2.0",
            "_view_count": null,
            "flex_flow": null,
            "width": null,
            "min_width": null,
            "border": null,
            "align_items": null,
            "bottom": null,
            "_model_module": "@jupyter-widgets/base",
            "top": null,
            "grid_column": null,
            "overflow_y": null,
            "overflow_x": null,
            "grid_auto_flow": null,
            "grid_area": null,
            "grid_template_columns": null,
            "flex": null,
            "_model_name": "LayoutModel",
            "justify_items": null,
            "grid_row": null,
            "max_height": null,
            "align_content": null,
            "visibility": null,
            "align_self": null,
            "height": null,
            "min_height": null,
            "padding": null,
            "grid_auto_rows": null,
            "grid_gap": null,
            "max_width": null,
            "order": null,
            "_view_module_version": "1.2.0",
            "grid_template_areas": null,
            "object_position": null,
            "object_fit": null,
            "grid_auto_columns": null,
            "margin": null,
            "display": null,
            "left": null
          }
        },
        "ed17c1b340de43c7af020af0b72c53c9": {
          "model_module": "@jupyter-widgets/controls",
          "model_name": "ProgressStyleModel",
          "model_module_version": "1.5.0",
          "state": {
            "_view_name": "StyleView",
            "_model_name": "ProgressStyleModel",
            "description_width": "",
            "_view_module": "@jupyter-widgets/base",
            "_model_module_version": "1.5.0",
            "_view_count": null,
            "_view_module_version": "1.2.0",
            "bar_color": null,
            "_model_module": "@jupyter-widgets/controls"
          }
        },
        "3032d2ba439f4ee3b5b80209d290b766": {
          "model_module": "@jupyter-widgets/base",
          "model_name": "LayoutModel",
          "model_module_version": "1.2.0",
          "state": {
            "_view_name": "LayoutView",
            "grid_template_rows": null,
            "right": null,
            "justify_content": null,
            "_view_module": "@jupyter-widgets/base",
            "overflow": null,
            "_model_module_version": "1.2.0",
            "_view_count": null,
            "flex_flow": null,
            "width": "20px",
            "min_width": null,
            "border": null,
            "align_items": null,
            "bottom": null,
            "_model_module": "@jupyter-widgets/base",
            "top": null,
            "grid_column": null,
            "overflow_y": null,
            "overflow_x": null,
            "grid_auto_flow": null,
            "grid_area": null,
            "grid_template_columns": null,
            "flex": null,
            "_model_name": "LayoutModel",
            "justify_items": null,
            "grid_row": null,
            "max_height": null,
            "align_content": null,
            "visibility": null,
            "align_self": null,
            "height": null,
            "min_height": null,
            "padding": null,
            "grid_auto_rows": null,
            "grid_gap": null,
            "max_width": null,
            "order": null,
            "_view_module_version": "1.2.0",
            "grid_template_areas": null,
            "object_position": null,
            "object_fit": null,
            "grid_auto_columns": null,
            "margin": null,
            "display": null,
            "left": null
          }
        },
        "b1a150b5e6e2425c946ecf62e48fc078": {
          "model_module": "@jupyter-widgets/controls",
          "model_name": "DescriptionStyleModel",
          "model_module_version": "1.5.0",
          "state": {
            "_view_name": "StyleView",
            "_model_name": "DescriptionStyleModel",
            "description_width": "",
            "_view_module": "@jupyter-widgets/base",
            "_model_module_version": "1.5.0",
            "_view_count": null,
            "_view_module_version": "1.2.0",
            "_model_module": "@jupyter-widgets/controls"
          }
        },
        "3fcc2bb3f00345b29ece8cf8c5df1a7a": {
          "model_module": "@jupyter-widgets/base",
          "model_name": "LayoutModel",
          "model_module_version": "1.2.0",
          "state": {
            "_view_name": "LayoutView",
            "grid_template_rows": null,
            "right": null,
            "justify_content": null,
            "_view_module": "@jupyter-widgets/base",
            "overflow": null,
            "_model_module_version": "1.2.0",
            "_view_count": null,
            "flex_flow": null,
            "width": null,
            "min_width": null,
            "border": null,
            "align_items": null,
            "bottom": null,
            "_model_module": "@jupyter-widgets/base",
            "top": null,
            "grid_column": null,
            "overflow_y": null,
            "overflow_x": null,
            "grid_auto_flow": null,
            "grid_area": null,
            "grid_template_columns": null,
            "flex": null,
            "_model_name": "LayoutModel",
            "justify_items": null,
            "grid_row": null,
            "max_height": null,
            "align_content": null,
            "visibility": null,
            "align_self": null,
            "height": null,
            "min_height": null,
            "padding": null,
            "grid_auto_rows": null,
            "grid_gap": null,
            "max_width": null,
            "order": null,
            "_view_module_version": "1.2.0",
            "grid_template_areas": null,
            "object_position": null,
            "object_fit": null,
            "grid_auto_columns": null,
            "margin": null,
            "display": null,
            "left": null
          }
        },
        "38d15f75f2e1426ca6dc4dabdd1743a4": {
          "model_module": "@jupyter-widgets/controls",
          "model_name": "HBoxModel",
          "model_module_version": "1.5.0",
          "state": {
            "_view_name": "HBoxView",
            "_dom_classes": [],
            "_model_name": "HBoxModel",
            "_view_module": "@jupyter-widgets/controls",
            "_model_module_version": "1.5.0",
            "_view_count": null,
            "_view_module_version": "1.5.0",
            "box_style": "",
            "layout": "IPY_MODEL_e05d0b1ae99849909294898f6ac51c79",
            "_model_module": "@jupyter-widgets/controls",
            "children": [
              "IPY_MODEL_e7178f89a00b49d5b131fb8e64bd5461",
              "IPY_MODEL_65d23e4503864a45a83f99674fd52064",
              "IPY_MODEL_57dd5ecaa3d047a6962b09d32923eef2"
            ]
          }
        },
        "e05d0b1ae99849909294898f6ac51c79": {
          "model_module": "@jupyter-widgets/base",
          "model_name": "LayoutModel",
          "model_module_version": "1.2.0",
          "state": {
            "_view_name": "LayoutView",
            "grid_template_rows": null,
            "right": null,
            "justify_content": null,
            "_view_module": "@jupyter-widgets/base",
            "overflow": null,
            "_model_module_version": "1.2.0",
            "_view_count": null,
            "flex_flow": null,
            "width": null,
            "min_width": null,
            "border": null,
            "align_items": null,
            "bottom": null,
            "_model_module": "@jupyter-widgets/base",
            "top": null,
            "grid_column": null,
            "overflow_y": null,
            "overflow_x": null,
            "grid_auto_flow": null,
            "grid_area": null,
            "grid_template_columns": null,
            "flex": null,
            "_model_name": "LayoutModel",
            "justify_items": null,
            "grid_row": null,
            "max_height": null,
            "align_content": null,
            "visibility": null,
            "align_self": null,
            "height": null,
            "min_height": null,
            "padding": null,
            "grid_auto_rows": null,
            "grid_gap": null,
            "max_width": null,
            "order": null,
            "_view_module_version": "1.2.0",
            "grid_template_areas": null,
            "object_position": null,
            "object_fit": null,
            "grid_auto_columns": null,
            "margin": null,
            "display": null,
            "left": null
          }
        },
        "e7178f89a00b49d5b131fb8e64bd5461": {
          "model_module": "@jupyter-widgets/controls",
          "model_name": "HTMLModel",
          "model_module_version": "1.5.0",
          "state": {
            "_view_name": "HTMLView",
            "style": "IPY_MODEL_0b810478cbee45aa87db17494eca8e2f",
            "_dom_classes": [],
            "description": "",
            "_model_name": "HTMLModel",
            "placeholder": "​",
            "_view_module": "@jupyter-widgets/controls",
            "_model_module_version": "1.5.0",
            "value": "",
            "_view_count": null,
            "_view_module_version": "1.5.0",
            "description_tooltip": null,
            "_model_module": "@jupyter-widgets/controls",
            "layout": "IPY_MODEL_6b214d8463e44a16a56ce73a24e5fe82"
          }
        },
        "65d23e4503864a45a83f99674fd52064": {
          "model_module": "@jupyter-widgets/controls",
          "model_name": "FloatProgressModel",
          "model_module_version": "1.5.0",
          "state": {
            "_view_name": "ProgressView",
            "style": "IPY_MODEL_6f480073947b4d4eb9e37e887a62d7fd",
            "_dom_classes": [],
            "description": "",
            "_model_name": "FloatProgressModel",
            "bar_style": "info",
            "max": 1,
            "_view_module": "@jupyter-widgets/controls",
            "_model_module_version": "1.5.0",
            "value": 1,
            "_view_count": null,
            "_view_module_version": "1.5.0",
            "orientation": "horizontal",
            "min": 0,
            "description_tooltip": null,
            "_model_module": "@jupyter-widgets/controls",
            "layout": "IPY_MODEL_307ab00a023143aa88dbe999a5dfb0e6"
          }
        },
        "57dd5ecaa3d047a6962b09d32923eef2": {
          "model_module": "@jupyter-widgets/controls",
          "model_name": "HTMLModel",
          "model_module_version": "1.5.0",
          "state": {
            "_view_name": "HTMLView",
            "style": "IPY_MODEL_3879f5ce06d448b9be6547749ec361e9",
            "_dom_classes": [],
            "description": "",
            "_model_name": "HTMLModel",
            "placeholder": "​",
            "_view_module": "@jupyter-widgets/controls",
            "_model_module_version": "1.5.0",
            "value": " 44816/0 [00:15&lt;00:00, 3026.26 examples/s]",
            "_view_count": null,
            "_view_module_version": "1.5.0",
            "description_tooltip": null,
            "_model_module": "@jupyter-widgets/controls",
            "layout": "IPY_MODEL_78b7a405a0204826a4af7953d7891a15"
          }
        },
        "0b810478cbee45aa87db17494eca8e2f": {
          "model_module": "@jupyter-widgets/controls",
          "model_name": "DescriptionStyleModel",
          "model_module_version": "1.5.0",
          "state": {
            "_view_name": "StyleView",
            "_model_name": "DescriptionStyleModel",
            "description_width": "",
            "_view_module": "@jupyter-widgets/base",
            "_model_module_version": "1.5.0",
            "_view_count": null,
            "_view_module_version": "1.2.0",
            "_model_module": "@jupyter-widgets/controls"
          }
        },
        "6b214d8463e44a16a56ce73a24e5fe82": {
          "model_module": "@jupyter-widgets/base",
          "model_name": "LayoutModel",
          "model_module_version": "1.2.0",
          "state": {
            "_view_name": "LayoutView",
            "grid_template_rows": null,
            "right": null,
            "justify_content": null,
            "_view_module": "@jupyter-widgets/base",
            "overflow": null,
            "_model_module_version": "1.2.0",
            "_view_count": null,
            "flex_flow": null,
            "width": null,
            "min_width": null,
            "border": null,
            "align_items": null,
            "bottom": null,
            "_model_module": "@jupyter-widgets/base",
            "top": null,
            "grid_column": null,
            "overflow_y": null,
            "overflow_x": null,
            "grid_auto_flow": null,
            "grid_area": null,
            "grid_template_columns": null,
            "flex": null,
            "_model_name": "LayoutModel",
            "justify_items": null,
            "grid_row": null,
            "max_height": null,
            "align_content": null,
            "visibility": null,
            "align_self": null,
            "height": null,
            "min_height": null,
            "padding": null,
            "grid_auto_rows": null,
            "grid_gap": null,
            "max_width": null,
            "order": null,
            "_view_module_version": "1.2.0",
            "grid_template_areas": null,
            "object_position": null,
            "object_fit": null,
            "grid_auto_columns": null,
            "margin": null,
            "display": null,
            "left": null
          }
        },
        "6f480073947b4d4eb9e37e887a62d7fd": {
          "model_module": "@jupyter-widgets/controls",
          "model_name": "ProgressStyleModel",
          "model_module_version": "1.5.0",
          "state": {
            "_view_name": "StyleView",
            "_model_name": "ProgressStyleModel",
            "description_width": "",
            "_view_module": "@jupyter-widgets/base",
            "_model_module_version": "1.5.0",
            "_view_count": null,
            "_view_module_version": "1.2.0",
            "bar_color": null,
            "_model_module": "@jupyter-widgets/controls"
          }
        },
        "307ab00a023143aa88dbe999a5dfb0e6": {
          "model_module": "@jupyter-widgets/base",
          "model_name": "LayoutModel",
          "model_module_version": "1.2.0",
          "state": {
            "_view_name": "LayoutView",
            "grid_template_rows": null,
            "right": null,
            "justify_content": null,
            "_view_module": "@jupyter-widgets/base",
            "overflow": null,
            "_model_module_version": "1.2.0",
            "_view_count": null,
            "flex_flow": null,
            "width": "20px",
            "min_width": null,
            "border": null,
            "align_items": null,
            "bottom": null,
            "_model_module": "@jupyter-widgets/base",
            "top": null,
            "grid_column": null,
            "overflow_y": null,
            "overflow_x": null,
            "grid_auto_flow": null,
            "grid_area": null,
            "grid_template_columns": null,
            "flex": null,
            "_model_name": "LayoutModel",
            "justify_items": null,
            "grid_row": null,
            "max_height": null,
            "align_content": null,
            "visibility": null,
            "align_self": null,
            "height": null,
            "min_height": null,
            "padding": null,
            "grid_auto_rows": null,
            "grid_gap": null,
            "max_width": null,
            "order": null,
            "_view_module_version": "1.2.0",
            "grid_template_areas": null,
            "object_position": null,
            "object_fit": null,
            "grid_auto_columns": null,
            "margin": null,
            "display": null,
            "left": null
          }
        },
        "3879f5ce06d448b9be6547749ec361e9": {
          "model_module": "@jupyter-widgets/controls",
          "model_name": "DescriptionStyleModel",
          "model_module_version": "1.5.0",
          "state": {
            "_view_name": "StyleView",
            "_model_name": "DescriptionStyleModel",
            "description_width": "",
            "_view_module": "@jupyter-widgets/base",
            "_model_module_version": "1.5.0",
            "_view_count": null,
            "_view_module_version": "1.2.0",
            "_model_module": "@jupyter-widgets/controls"
          }
        },
        "78b7a405a0204826a4af7953d7891a15": {
          "model_module": "@jupyter-widgets/base",
          "model_name": "LayoutModel",
          "model_module_version": "1.2.0",
          "state": {
            "_view_name": "LayoutView",
            "grid_template_rows": null,
            "right": null,
            "justify_content": null,
            "_view_module": "@jupyter-widgets/base",
            "overflow": null,
            "_model_module_version": "1.2.0",
            "_view_count": null,
            "flex_flow": null,
            "width": null,
            "min_width": null,
            "border": null,
            "align_items": null,
            "bottom": null,
            "_model_module": "@jupyter-widgets/base",
            "top": null,
            "grid_column": null,
            "overflow_y": null,
            "overflow_x": null,
            "grid_auto_flow": null,
            "grid_area": null,
            "grid_template_columns": null,
            "flex": null,
            "_model_name": "LayoutModel",
            "justify_items": null,
            "grid_row": null,
            "max_height": null,
            "align_content": null,
            "visibility": null,
            "align_self": null,
            "height": null,
            "min_height": null,
            "padding": null,
            "grid_auto_rows": null,
            "grid_gap": null,
            "max_width": null,
            "order": null,
            "_view_module_version": "1.2.0",
            "grid_template_areas": null,
            "object_position": null,
            "object_fit": null,
            "grid_auto_columns": null,
            "margin": null,
            "display": null,
            "left": null
          }
        },
        "37ecdb77ee8a479fab09174935fa5923": {
          "model_module": "@jupyter-widgets/controls",
          "model_name": "HBoxModel",
          "model_module_version": "1.5.0",
          "state": {
            "_view_name": "HBoxView",
            "_dom_classes": [],
            "_model_name": "HBoxModel",
            "_view_module": "@jupyter-widgets/controls",
            "_model_module_version": "1.5.0",
            "_view_count": null,
            "_view_module_version": "1.5.0",
            "box_style": "",
            "layout": "IPY_MODEL_9b07bc14a6de42c3acef79b570f77737",
            "_model_module": "@jupyter-widgets/controls",
            "children": [
              "IPY_MODEL_6ab90339681a4e008d1a70411a6271e8",
              "IPY_MODEL_0f86d68ef9c949c09886f653fcd43a2f",
              "IPY_MODEL_f826bf042e1d41939dbe7a0316772c28"
            ]
          }
        },
        "9b07bc14a6de42c3acef79b570f77737": {
          "model_module": "@jupyter-widgets/base",
          "model_name": "LayoutModel",
          "model_module_version": "1.2.0",
          "state": {
            "_view_name": "LayoutView",
            "grid_template_rows": null,
            "right": null,
            "justify_content": null,
            "_view_module": "@jupyter-widgets/base",
            "overflow": null,
            "_model_module_version": "1.2.0",
            "_view_count": null,
            "flex_flow": null,
            "width": null,
            "min_width": null,
            "border": null,
            "align_items": null,
            "bottom": null,
            "_model_module": "@jupyter-widgets/base",
            "top": null,
            "grid_column": null,
            "overflow_y": null,
            "overflow_x": null,
            "grid_auto_flow": null,
            "grid_area": null,
            "grid_template_columns": null,
            "flex": null,
            "_model_name": "LayoutModel",
            "justify_items": null,
            "grid_row": null,
            "max_height": null,
            "align_content": null,
            "visibility": null,
            "align_self": null,
            "height": null,
            "min_height": null,
            "padding": null,
            "grid_auto_rows": null,
            "grid_gap": null,
            "max_width": null,
            "order": null,
            "_view_module_version": "1.2.0",
            "grid_template_areas": null,
            "object_position": null,
            "object_fit": null,
            "grid_auto_columns": null,
            "margin": null,
            "display": null,
            "left": null
          }
        },
        "6ab90339681a4e008d1a70411a6271e8": {
          "model_module": "@jupyter-widgets/controls",
          "model_name": "HTMLModel",
          "model_module_version": "1.5.0",
          "state": {
            "_view_name": "HTMLView",
            "style": "IPY_MODEL_e20348d6befe483a8579817402e69408",
            "_dom_classes": [],
            "description": "",
            "_model_name": "HTMLModel",
            "placeholder": "​",
            "_view_module": "@jupyter-widgets/controls",
            "_model_module_version": "1.5.0",
            "value": "100%",
            "_view_count": null,
            "_view_module_version": "1.5.0",
            "description_tooltip": null,
            "_model_module": "@jupyter-widgets/controls",
            "layout": "IPY_MODEL_27a03778179744a491fcacaa043a0da5"
          }
        },
        "0f86d68ef9c949c09886f653fcd43a2f": {
          "model_module": "@jupyter-widgets/controls",
          "model_name": "FloatProgressModel",
          "model_module_version": "1.5.0",
          "state": {
            "_view_name": "ProgressView",
            "style": "IPY_MODEL_1fb97cf241d34dd49d3b32debd442cb9",
            "_dom_classes": [],
            "description": "",
            "_model_name": "FloatProgressModel",
            "bar_style": "danger",
            "max": 44972,
            "_view_module": "@jupyter-widgets/controls",
            "_model_module_version": "1.5.0",
            "value": 44971,
            "_view_count": null,
            "_view_module_version": "1.5.0",
            "orientation": "horizontal",
            "min": 0,
            "description_tooltip": null,
            "_model_module": "@jupyter-widgets/controls",
            "layout": "IPY_MODEL_6ed5034de35547199a628494ba4f7bc3"
          }
        },
        "f826bf042e1d41939dbe7a0316772c28": {
          "model_module": "@jupyter-widgets/controls",
          "model_name": "HTMLModel",
          "model_module_version": "1.5.0",
          "state": {
            "_view_name": "HTMLView",
            "style": "IPY_MODEL_dfe1b095fafc41aa890038ec9ff9d5a5",
            "_dom_classes": [],
            "description": "",
            "_model_name": "HTMLModel",
            "placeholder": "​",
            "_view_module": "@jupyter-widgets/controls",
            "_model_module_version": "1.5.0",
            "value": " 44971/44972 [00:01&lt;00:00, 20308.31 examples/s]",
            "_view_count": null,
            "_view_module_version": "1.5.0",
            "description_tooltip": null,
            "_model_module": "@jupyter-widgets/controls",
            "layout": "IPY_MODEL_92bbb3355c2149c4a9505ad52e10370a"
          }
        },
        "e20348d6befe483a8579817402e69408": {
          "model_module": "@jupyter-widgets/controls",
          "model_name": "DescriptionStyleModel",
          "model_module_version": "1.5.0",
          "state": {
            "_view_name": "StyleView",
            "_model_name": "DescriptionStyleModel",
            "description_width": "",
            "_view_module": "@jupyter-widgets/base",
            "_model_module_version": "1.5.0",
            "_view_count": null,
            "_view_module_version": "1.2.0",
            "_model_module": "@jupyter-widgets/controls"
          }
        },
        "27a03778179744a491fcacaa043a0da5": {
          "model_module": "@jupyter-widgets/base",
          "model_name": "LayoutModel",
          "model_module_version": "1.2.0",
          "state": {
            "_view_name": "LayoutView",
            "grid_template_rows": null,
            "right": null,
            "justify_content": null,
            "_view_module": "@jupyter-widgets/base",
            "overflow": null,
            "_model_module_version": "1.2.0",
            "_view_count": null,
            "flex_flow": null,
            "width": null,
            "min_width": null,
            "border": null,
            "align_items": null,
            "bottom": null,
            "_model_module": "@jupyter-widgets/base",
            "top": null,
            "grid_column": null,
            "overflow_y": null,
            "overflow_x": null,
            "grid_auto_flow": null,
            "grid_area": null,
            "grid_template_columns": null,
            "flex": null,
            "_model_name": "LayoutModel",
            "justify_items": null,
            "grid_row": null,
            "max_height": null,
            "align_content": null,
            "visibility": null,
            "align_self": null,
            "height": null,
            "min_height": null,
            "padding": null,
            "grid_auto_rows": null,
            "grid_gap": null,
            "max_width": null,
            "order": null,
            "_view_module_version": "1.2.0",
            "grid_template_areas": null,
            "object_position": null,
            "object_fit": null,
            "grid_auto_columns": null,
            "margin": null,
            "display": null,
            "left": null
          }
        },
        "1fb97cf241d34dd49d3b32debd442cb9": {
          "model_module": "@jupyter-widgets/controls",
          "model_name": "ProgressStyleModel",
          "model_module_version": "1.5.0",
          "state": {
            "_view_name": "StyleView",
            "_model_name": "ProgressStyleModel",
            "description_width": "",
            "_view_module": "@jupyter-widgets/base",
            "_model_module_version": "1.5.0",
            "_view_count": null,
            "_view_module_version": "1.2.0",
            "bar_color": null,
            "_model_module": "@jupyter-widgets/controls"
          }
        },
        "6ed5034de35547199a628494ba4f7bc3": {
          "model_module": "@jupyter-widgets/base",
          "model_name": "LayoutModel",
          "model_module_version": "1.2.0",
          "state": {
            "_view_name": "LayoutView",
            "grid_template_rows": null,
            "right": null,
            "justify_content": null,
            "_view_module": "@jupyter-widgets/base",
            "overflow": null,
            "_model_module_version": "1.2.0",
            "_view_count": null,
            "flex_flow": null,
            "width": null,
            "min_width": null,
            "border": null,
            "align_items": null,
            "bottom": null,
            "_model_module": "@jupyter-widgets/base",
            "top": null,
            "grid_column": null,
            "overflow_y": null,
            "overflow_x": null,
            "grid_auto_flow": null,
            "grid_area": null,
            "grid_template_columns": null,
            "flex": null,
            "_model_name": "LayoutModel",
            "justify_items": null,
            "grid_row": null,
            "max_height": null,
            "align_content": null,
            "visibility": null,
            "align_self": null,
            "height": null,
            "min_height": null,
            "padding": null,
            "grid_auto_rows": null,
            "grid_gap": null,
            "max_width": null,
            "order": null,
            "_view_module_version": "1.2.0",
            "grid_template_areas": null,
            "object_position": null,
            "object_fit": null,
            "grid_auto_columns": null,
            "margin": null,
            "display": null,
            "left": null
          }
        },
        "dfe1b095fafc41aa890038ec9ff9d5a5": {
          "model_module": "@jupyter-widgets/controls",
          "model_name": "DescriptionStyleModel",
          "model_module_version": "1.5.0",
          "state": {
            "_view_name": "StyleView",
            "_model_name": "DescriptionStyleModel",
            "description_width": "",
            "_view_module": "@jupyter-widgets/base",
            "_model_module_version": "1.5.0",
            "_view_count": null,
            "_view_module_version": "1.2.0",
            "_model_module": "@jupyter-widgets/controls"
          }
        },
        "92bbb3355c2149c4a9505ad52e10370a": {
          "model_module": "@jupyter-widgets/base",
          "model_name": "LayoutModel",
          "model_module_version": "1.2.0",
          "state": {
            "_view_name": "LayoutView",
            "grid_template_rows": null,
            "right": null,
            "justify_content": null,
            "_view_module": "@jupyter-widgets/base",
            "overflow": null,
            "_model_module_version": "1.2.0",
            "_view_count": null,
            "flex_flow": null,
            "width": null,
            "min_width": null,
            "border": null,
            "align_items": null,
            "bottom": null,
            "_model_module": "@jupyter-widgets/base",
            "top": null,
            "grid_column": null,
            "overflow_y": null,
            "overflow_x": null,
            "grid_auto_flow": null,
            "grid_area": null,
            "grid_template_columns": null,
            "flex": null,
            "_model_name": "LayoutModel",
            "justify_items": null,
            "grid_row": null,
            "max_height": null,
            "align_content": null,
            "visibility": null,
            "align_self": null,
            "height": null,
            "min_height": null,
            "padding": null,
            "grid_auto_rows": null,
            "grid_gap": null,
            "max_width": null,
            "order": null,
            "_view_module_version": "1.2.0",
            "grid_template_areas": null,
            "object_position": null,
            "object_fit": null,
            "grid_auto_columns": null,
            "margin": null,
            "display": null,
            "left": null
          }
        },
        "366134b85fca48b3ad54b4946fae7059": {
          "model_module": "@jupyter-widgets/controls",
          "model_name": "HBoxModel",
          "model_module_version": "1.5.0",
          "state": {
            "_view_name": "HBoxView",
            "_dom_classes": [],
            "_model_name": "HBoxModel",
            "_view_module": "@jupyter-widgets/controls",
            "_model_module_version": "1.5.0",
            "_view_count": null,
            "_view_module_version": "1.5.0",
            "box_style": "",
            "layout": "IPY_MODEL_11f6df4285c4473bb119a468c2472454",
            "_model_module": "@jupyter-widgets/controls",
            "children": [
              "IPY_MODEL_c6ee9173611c4ec78a6d5d2c57d83a2c",
              "IPY_MODEL_3a15df3229354df389ec2b3d2c99ef0b",
              "IPY_MODEL_f6285e4a911d423fb79477902ab26eb3"
            ]
          }
        },
        "11f6df4285c4473bb119a468c2472454": {
          "model_module": "@jupyter-widgets/base",
          "model_name": "LayoutModel",
          "model_module_version": "1.2.0",
          "state": {
            "_view_name": "LayoutView",
            "grid_template_rows": null,
            "right": null,
            "justify_content": null,
            "_view_module": "@jupyter-widgets/base",
            "overflow": null,
            "_model_module_version": "1.2.0",
            "_view_count": null,
            "flex_flow": null,
            "width": null,
            "min_width": null,
            "border": null,
            "align_items": null,
            "bottom": null,
            "_model_module": "@jupyter-widgets/base",
            "top": null,
            "grid_column": null,
            "overflow_y": null,
            "overflow_x": null,
            "grid_auto_flow": null,
            "grid_area": null,
            "grid_template_columns": null,
            "flex": null,
            "_model_name": "LayoutModel",
            "justify_items": null,
            "grid_row": null,
            "max_height": null,
            "align_content": null,
            "visibility": null,
            "align_self": null,
            "height": null,
            "min_height": null,
            "padding": null,
            "grid_auto_rows": null,
            "grid_gap": null,
            "max_width": null,
            "order": null,
            "_view_module_version": "1.2.0",
            "grid_template_areas": null,
            "object_position": null,
            "object_fit": null,
            "grid_auto_columns": null,
            "margin": null,
            "display": null,
            "left": null
          }
        },
        "c6ee9173611c4ec78a6d5d2c57d83a2c": {
          "model_module": "@jupyter-widgets/controls",
          "model_name": "HTMLModel",
          "model_module_version": "1.5.0",
          "state": {
            "_view_name": "HTMLView",
            "style": "IPY_MODEL_77398b654cd540b48e1c29861b6c759f",
            "_dom_classes": [],
            "description": "",
            "_model_name": "HTMLModel",
            "placeholder": "​",
            "_view_module": "@jupyter-widgets/controls",
            "_model_module_version": "1.5.0",
            "value": "",
            "_view_count": null,
            "_view_module_version": "1.5.0",
            "description_tooltip": null,
            "_model_module": "@jupyter-widgets/controls",
            "layout": "IPY_MODEL_fac515e4a7d648ca9c9acaa41f14dbb0"
          }
        },
        "3a15df3229354df389ec2b3d2c99ef0b": {
          "model_module": "@jupyter-widgets/controls",
          "model_name": "FloatProgressModel",
          "model_module_version": "1.5.0",
          "state": {
            "_view_name": "ProgressView",
            "style": "IPY_MODEL_3d6885a44209460189d796737d443281",
            "_dom_classes": [],
            "description": "",
            "_model_name": "FloatProgressModel",
            "bar_style": "info",
            "max": 1,
            "_view_module": "@jupyter-widgets/controls",
            "_model_module_version": "1.5.0",
            "value": 1,
            "_view_count": null,
            "_view_module_version": "1.5.0",
            "orientation": "horizontal",
            "min": 0,
            "description_tooltip": null,
            "_model_module": "@jupyter-widgets/controls",
            "layout": "IPY_MODEL_baddf960aa434f9bbebf17d6a86f199b"
          }
        },
        "f6285e4a911d423fb79477902ab26eb3": {
          "model_module": "@jupyter-widgets/controls",
          "model_name": "HTMLModel",
          "model_module_version": "1.5.0",
          "state": {
            "_view_name": "HTMLView",
            "style": "IPY_MODEL_578d751f143a4b1abdf60d568eb049fb",
            "_dom_classes": [],
            "description": "",
            "_model_name": "HTMLModel",
            "placeholder": "​",
            "_view_module": "@jupyter-widgets/controls",
            "_model_module_version": "1.5.0",
            "value": " 5312/0 [00:01&lt;00:00, 3130.39 examples/s]",
            "_view_count": null,
            "_view_module_version": "1.5.0",
            "description_tooltip": null,
            "_model_module": "@jupyter-widgets/controls",
            "layout": "IPY_MODEL_c2a1c14db5284a118b5b95c31d704d1e"
          }
        },
        "77398b654cd540b48e1c29861b6c759f": {
          "model_module": "@jupyter-widgets/controls",
          "model_name": "DescriptionStyleModel",
          "model_module_version": "1.5.0",
          "state": {
            "_view_name": "StyleView",
            "_model_name": "DescriptionStyleModel",
            "description_width": "",
            "_view_module": "@jupyter-widgets/base",
            "_model_module_version": "1.5.0",
            "_view_count": null,
            "_view_module_version": "1.2.0",
            "_model_module": "@jupyter-widgets/controls"
          }
        },
        "fac515e4a7d648ca9c9acaa41f14dbb0": {
          "model_module": "@jupyter-widgets/base",
          "model_name": "LayoutModel",
          "model_module_version": "1.2.0",
          "state": {
            "_view_name": "LayoutView",
            "grid_template_rows": null,
            "right": null,
            "justify_content": null,
            "_view_module": "@jupyter-widgets/base",
            "overflow": null,
            "_model_module_version": "1.2.0",
            "_view_count": null,
            "flex_flow": null,
            "width": null,
            "min_width": null,
            "border": null,
            "align_items": null,
            "bottom": null,
            "_model_module": "@jupyter-widgets/base",
            "top": null,
            "grid_column": null,
            "overflow_y": null,
            "overflow_x": null,
            "grid_auto_flow": null,
            "grid_area": null,
            "grid_template_columns": null,
            "flex": null,
            "_model_name": "LayoutModel",
            "justify_items": null,
            "grid_row": null,
            "max_height": null,
            "align_content": null,
            "visibility": null,
            "align_self": null,
            "height": null,
            "min_height": null,
            "padding": null,
            "grid_auto_rows": null,
            "grid_gap": null,
            "max_width": null,
            "order": null,
            "_view_module_version": "1.2.0",
            "grid_template_areas": null,
            "object_position": null,
            "object_fit": null,
            "grid_auto_columns": null,
            "margin": null,
            "display": null,
            "left": null
          }
        },
        "3d6885a44209460189d796737d443281": {
          "model_module": "@jupyter-widgets/controls",
          "model_name": "ProgressStyleModel",
          "model_module_version": "1.5.0",
          "state": {
            "_view_name": "StyleView",
            "_model_name": "ProgressStyleModel",
            "description_width": "",
            "_view_module": "@jupyter-widgets/base",
            "_model_module_version": "1.5.0",
            "_view_count": null,
            "_view_module_version": "1.2.0",
            "bar_color": null,
            "_model_module": "@jupyter-widgets/controls"
          }
        },
        "baddf960aa434f9bbebf17d6a86f199b": {
          "model_module": "@jupyter-widgets/base",
          "model_name": "LayoutModel",
          "model_module_version": "1.2.0",
          "state": {
            "_view_name": "LayoutView",
            "grid_template_rows": null,
            "right": null,
            "justify_content": null,
            "_view_module": "@jupyter-widgets/base",
            "overflow": null,
            "_model_module_version": "1.2.0",
            "_view_count": null,
            "flex_flow": null,
            "width": "20px",
            "min_width": null,
            "border": null,
            "align_items": null,
            "bottom": null,
            "_model_module": "@jupyter-widgets/base",
            "top": null,
            "grid_column": null,
            "overflow_y": null,
            "overflow_x": null,
            "grid_auto_flow": null,
            "grid_area": null,
            "grid_template_columns": null,
            "flex": null,
            "_model_name": "LayoutModel",
            "justify_items": null,
            "grid_row": null,
            "max_height": null,
            "align_content": null,
            "visibility": null,
            "align_self": null,
            "height": null,
            "min_height": null,
            "padding": null,
            "grid_auto_rows": null,
            "grid_gap": null,
            "max_width": null,
            "order": null,
            "_view_module_version": "1.2.0",
            "grid_template_areas": null,
            "object_position": null,
            "object_fit": null,
            "grid_auto_columns": null,
            "margin": null,
            "display": null,
            "left": null
          }
        },
        "578d751f143a4b1abdf60d568eb049fb": {
          "model_module": "@jupyter-widgets/controls",
          "model_name": "DescriptionStyleModel",
          "model_module_version": "1.5.0",
          "state": {
            "_view_name": "StyleView",
            "_model_name": "DescriptionStyleModel",
            "description_width": "",
            "_view_module": "@jupyter-widgets/base",
            "_model_module_version": "1.5.0",
            "_view_count": null,
            "_view_module_version": "1.2.0",
            "_model_module": "@jupyter-widgets/controls"
          }
        },
        "c2a1c14db5284a118b5b95c31d704d1e": {
          "model_module": "@jupyter-widgets/base",
          "model_name": "LayoutModel",
          "model_module_version": "1.2.0",
          "state": {
            "_view_name": "LayoutView",
            "grid_template_rows": null,
            "right": null,
            "justify_content": null,
            "_view_module": "@jupyter-widgets/base",
            "overflow": null,
            "_model_module_version": "1.2.0",
            "_view_count": null,
            "flex_flow": null,
            "width": null,
            "min_width": null,
            "border": null,
            "align_items": null,
            "bottom": null,
            "_model_module": "@jupyter-widgets/base",
            "top": null,
            "grid_column": null,
            "overflow_y": null,
            "overflow_x": null,
            "grid_auto_flow": null,
            "grid_area": null,
            "grid_template_columns": null,
            "flex": null,
            "_model_name": "LayoutModel",
            "justify_items": null,
            "grid_row": null,
            "max_height": null,
            "align_content": null,
            "visibility": null,
            "align_self": null,
            "height": null,
            "min_height": null,
            "padding": null,
            "grid_auto_rows": null,
            "grid_gap": null,
            "max_width": null,
            "order": null,
            "_view_module_version": "1.2.0",
            "grid_template_areas": null,
            "object_position": null,
            "object_fit": null,
            "grid_auto_columns": null,
            "margin": null,
            "display": null,
            "left": null
          }
        },
        "7e70383b0643431b8b37e36a346894fe": {
          "model_module": "@jupyter-widgets/controls",
          "model_name": "HBoxModel",
          "model_module_version": "1.5.0",
          "state": {
            "_view_name": "HBoxView",
            "_dom_classes": [],
            "_model_name": "HBoxModel",
            "_view_module": "@jupyter-widgets/controls",
            "_model_module_version": "1.5.0",
            "_view_count": null,
            "_view_module_version": "1.5.0",
            "box_style": "",
            "layout": "IPY_MODEL_9a66510b2e8f4726a4c09a14552824f8",
            "_model_module": "@jupyter-widgets/controls",
            "children": [
              "IPY_MODEL_800f489abc94466ab4dddca6c71f9953",
              "IPY_MODEL_07ed6def5f1048d69946b03ec050f69d",
              "IPY_MODEL_74f1a813834d4ff68dcc723195606edb"
            ]
          }
        },
        "9a66510b2e8f4726a4c09a14552824f8": {
          "model_module": "@jupyter-widgets/base",
          "model_name": "LayoutModel",
          "model_module_version": "1.2.0",
          "state": {
            "_view_name": "LayoutView",
            "grid_template_rows": null,
            "right": null,
            "justify_content": null,
            "_view_module": "@jupyter-widgets/base",
            "overflow": null,
            "_model_module_version": "1.2.0",
            "_view_count": null,
            "flex_flow": null,
            "width": null,
            "min_width": null,
            "border": null,
            "align_items": null,
            "bottom": null,
            "_model_module": "@jupyter-widgets/base",
            "top": null,
            "grid_column": null,
            "overflow_y": null,
            "overflow_x": null,
            "grid_auto_flow": null,
            "grid_area": null,
            "grid_template_columns": null,
            "flex": null,
            "_model_name": "LayoutModel",
            "justify_items": null,
            "grid_row": null,
            "max_height": null,
            "align_content": null,
            "visibility": null,
            "align_self": null,
            "height": null,
            "min_height": null,
            "padding": null,
            "grid_auto_rows": null,
            "grid_gap": null,
            "max_width": null,
            "order": null,
            "_view_module_version": "1.2.0",
            "grid_template_areas": null,
            "object_position": null,
            "object_fit": null,
            "grid_auto_columns": null,
            "margin": null,
            "display": null,
            "left": null
          }
        },
        "800f489abc94466ab4dddca6c71f9953": {
          "model_module": "@jupyter-widgets/controls",
          "model_name": "HTMLModel",
          "model_module_version": "1.5.0",
          "state": {
            "_view_name": "HTMLView",
            "style": "IPY_MODEL_37a8665fd9af4ecfa2152a814ff6903d",
            "_dom_classes": [],
            "description": "",
            "_model_name": "HTMLModel",
            "placeholder": "​",
            "_view_module": "@jupyter-widgets/controls",
            "_model_module_version": "1.5.0",
            "value": "100%",
            "_view_count": null,
            "_view_module_version": "1.5.0",
            "description_tooltip": null,
            "_model_module": "@jupyter-widgets/controls",
            "layout": "IPY_MODEL_3d263e43de2c4dc2a5c072e303c10733"
          }
        },
        "07ed6def5f1048d69946b03ec050f69d": {
          "model_module": "@jupyter-widgets/controls",
          "model_name": "FloatProgressModel",
          "model_module_version": "1.5.0",
          "state": {
            "_view_name": "ProgressView",
            "style": "IPY_MODEL_0f0af63e44dc4dd79204dc21a5a1e105",
            "_dom_classes": [],
            "description": "",
            "_model_name": "FloatProgressModel",
            "bar_style": "danger",
            "max": 5622,
            "_view_module": "@jupyter-widgets/controls",
            "_model_module_version": "1.5.0",
            "value": 5621,
            "_view_count": null,
            "_view_module_version": "1.5.0",
            "orientation": "horizontal",
            "min": 0,
            "description_tooltip": null,
            "_model_module": "@jupyter-widgets/controls",
            "layout": "IPY_MODEL_139c8fb133f14c8fa72e9d29205d287f"
          }
        },
        "74f1a813834d4ff68dcc723195606edb": {
          "model_module": "@jupyter-widgets/controls",
          "model_name": "HTMLModel",
          "model_module_version": "1.5.0",
          "state": {
            "_view_name": "HTMLView",
            "style": "IPY_MODEL_94e045bb900f43c99b2378cf46f1c073",
            "_dom_classes": [],
            "description": "",
            "_model_name": "HTMLModel",
            "placeholder": "​",
            "_view_module": "@jupyter-widgets/controls",
            "_model_module_version": "1.5.0",
            "value": " 5621/5622 [00:00&lt;00:00, 28689.95 examples/s]",
            "_view_count": null,
            "_view_module_version": "1.5.0",
            "description_tooltip": null,
            "_model_module": "@jupyter-widgets/controls",
            "layout": "IPY_MODEL_9084cf0ea25b4cbd9e772133a1eb742a"
          }
        },
        "37a8665fd9af4ecfa2152a814ff6903d": {
          "model_module": "@jupyter-widgets/controls",
          "model_name": "DescriptionStyleModel",
          "model_module_version": "1.5.0",
          "state": {
            "_view_name": "StyleView",
            "_model_name": "DescriptionStyleModel",
            "description_width": "",
            "_view_module": "@jupyter-widgets/base",
            "_model_module_version": "1.5.0",
            "_view_count": null,
            "_view_module_version": "1.2.0",
            "_model_module": "@jupyter-widgets/controls"
          }
        },
        "3d263e43de2c4dc2a5c072e303c10733": {
          "model_module": "@jupyter-widgets/base",
          "model_name": "LayoutModel",
          "model_module_version": "1.2.0",
          "state": {
            "_view_name": "LayoutView",
            "grid_template_rows": null,
            "right": null,
            "justify_content": null,
            "_view_module": "@jupyter-widgets/base",
            "overflow": null,
            "_model_module_version": "1.2.0",
            "_view_count": null,
            "flex_flow": null,
            "width": null,
            "min_width": null,
            "border": null,
            "align_items": null,
            "bottom": null,
            "_model_module": "@jupyter-widgets/base",
            "top": null,
            "grid_column": null,
            "overflow_y": null,
            "overflow_x": null,
            "grid_auto_flow": null,
            "grid_area": null,
            "grid_template_columns": null,
            "flex": null,
            "_model_name": "LayoutModel",
            "justify_items": null,
            "grid_row": null,
            "max_height": null,
            "align_content": null,
            "visibility": null,
            "align_self": null,
            "height": null,
            "min_height": null,
            "padding": null,
            "grid_auto_rows": null,
            "grid_gap": null,
            "max_width": null,
            "order": null,
            "_view_module_version": "1.2.0",
            "grid_template_areas": null,
            "object_position": null,
            "object_fit": null,
            "grid_auto_columns": null,
            "margin": null,
            "display": null,
            "left": null
          }
        },
        "0f0af63e44dc4dd79204dc21a5a1e105": {
          "model_module": "@jupyter-widgets/controls",
          "model_name": "ProgressStyleModel",
          "model_module_version": "1.5.0",
          "state": {
            "_view_name": "StyleView",
            "_model_name": "ProgressStyleModel",
            "description_width": "",
            "_view_module": "@jupyter-widgets/base",
            "_model_module_version": "1.5.0",
            "_view_count": null,
            "_view_module_version": "1.2.0",
            "bar_color": null,
            "_model_module": "@jupyter-widgets/controls"
          }
        },
        "139c8fb133f14c8fa72e9d29205d287f": {
          "model_module": "@jupyter-widgets/base",
          "model_name": "LayoutModel",
          "model_module_version": "1.2.0",
          "state": {
            "_view_name": "LayoutView",
            "grid_template_rows": null,
            "right": null,
            "justify_content": null,
            "_view_module": "@jupyter-widgets/base",
            "overflow": null,
            "_model_module_version": "1.2.0",
            "_view_count": null,
            "flex_flow": null,
            "width": null,
            "min_width": null,
            "border": null,
            "align_items": null,
            "bottom": null,
            "_model_module": "@jupyter-widgets/base",
            "top": null,
            "grid_column": null,
            "overflow_y": null,
            "overflow_x": null,
            "grid_auto_flow": null,
            "grid_area": null,
            "grid_template_columns": null,
            "flex": null,
            "_model_name": "LayoutModel",
            "justify_items": null,
            "grid_row": null,
            "max_height": null,
            "align_content": null,
            "visibility": null,
            "align_self": null,
            "height": null,
            "min_height": null,
            "padding": null,
            "grid_auto_rows": null,
            "grid_gap": null,
            "max_width": null,
            "order": null,
            "_view_module_version": "1.2.0",
            "grid_template_areas": null,
            "object_position": null,
            "object_fit": null,
            "grid_auto_columns": null,
            "margin": null,
            "display": null,
            "left": null
          }
        },
        "94e045bb900f43c99b2378cf46f1c073": {
          "model_module": "@jupyter-widgets/controls",
          "model_name": "DescriptionStyleModel",
          "model_module_version": "1.5.0",
          "state": {
            "_view_name": "StyleView",
            "_model_name": "DescriptionStyleModel",
            "description_width": "",
            "_view_module": "@jupyter-widgets/base",
            "_model_module_version": "1.5.0",
            "_view_count": null,
            "_view_module_version": "1.2.0",
            "_model_module": "@jupyter-widgets/controls"
          }
        },
        "9084cf0ea25b4cbd9e772133a1eb742a": {
          "model_module": "@jupyter-widgets/base",
          "model_name": "LayoutModel",
          "model_module_version": "1.2.0",
          "state": {
            "_view_name": "LayoutView",
            "grid_template_rows": null,
            "right": null,
            "justify_content": null,
            "_view_module": "@jupyter-widgets/base",
            "overflow": null,
            "_model_module_version": "1.2.0",
            "_view_count": null,
            "flex_flow": null,
            "width": null,
            "min_width": null,
            "border": null,
            "align_items": null,
            "bottom": null,
            "_model_module": "@jupyter-widgets/base",
            "top": null,
            "grid_column": null,
            "overflow_y": null,
            "overflow_x": null,
            "grid_auto_flow": null,
            "grid_area": null,
            "grid_template_columns": null,
            "flex": null,
            "_model_name": "LayoutModel",
            "justify_items": null,
            "grid_row": null,
            "max_height": null,
            "align_content": null,
            "visibility": null,
            "align_self": null,
            "height": null,
            "min_height": null,
            "padding": null,
            "grid_auto_rows": null,
            "grid_gap": null,
            "max_width": null,
            "order": null,
            "_view_module_version": "1.2.0",
            "grid_template_areas": null,
            "object_position": null,
            "object_fit": null,
            "grid_auto_columns": null,
            "margin": null,
            "display": null,
            "left": null
          }
        },
        "b2703d31d9414c63b29237d00ef423bb": {
          "model_module": "@jupyter-widgets/controls",
          "model_name": "HBoxModel",
          "model_module_version": "1.5.0",
          "state": {
            "_view_name": "HBoxView",
            "_dom_classes": [],
            "_model_name": "HBoxModel",
            "_view_module": "@jupyter-widgets/controls",
            "_model_module_version": "1.5.0",
            "_view_count": null,
            "_view_module_version": "1.5.0",
            "box_style": "",
            "layout": "IPY_MODEL_37ad9102100c447c895c8c14aa4f1af4",
            "_model_module": "@jupyter-widgets/controls",
            "children": [
              "IPY_MODEL_f4b008019d914360ae0236d010f153ab",
              "IPY_MODEL_a736363b99f4479ab6a48606e2bc4d20",
              "IPY_MODEL_e64957da657447eda2ed5d9d611c58f7"
            ]
          }
        },
        "37ad9102100c447c895c8c14aa4f1af4": {
          "model_module": "@jupyter-widgets/base",
          "model_name": "LayoutModel",
          "model_module_version": "1.2.0",
          "state": {
            "_view_name": "LayoutView",
            "grid_template_rows": null,
            "right": null,
            "justify_content": null,
            "_view_module": "@jupyter-widgets/base",
            "overflow": null,
            "_model_module_version": "1.2.0",
            "_view_count": null,
            "flex_flow": null,
            "width": null,
            "min_width": null,
            "border": null,
            "align_items": null,
            "bottom": null,
            "_model_module": "@jupyter-widgets/base",
            "top": null,
            "grid_column": null,
            "overflow_y": null,
            "overflow_x": null,
            "grid_auto_flow": null,
            "grid_area": null,
            "grid_template_columns": null,
            "flex": null,
            "_model_name": "LayoutModel",
            "justify_items": null,
            "grid_row": null,
            "max_height": null,
            "align_content": null,
            "visibility": null,
            "align_self": null,
            "height": null,
            "min_height": null,
            "padding": null,
            "grid_auto_rows": null,
            "grid_gap": null,
            "max_width": null,
            "order": null,
            "_view_module_version": "1.2.0",
            "grid_template_areas": null,
            "object_position": null,
            "object_fit": null,
            "grid_auto_columns": null,
            "margin": null,
            "display": null,
            "left": null
          }
        },
        "f4b008019d914360ae0236d010f153ab": {
          "model_module": "@jupyter-widgets/controls",
          "model_name": "HTMLModel",
          "model_module_version": "1.5.0",
          "state": {
            "_view_name": "HTMLView",
            "style": "IPY_MODEL_41b953ba2e5441fea25aa4bffedd2f76",
            "_dom_classes": [],
            "description": "",
            "_model_name": "HTMLModel",
            "placeholder": "​",
            "_view_module": "@jupyter-widgets/controls",
            "_model_module_version": "1.5.0",
            "value": "",
            "_view_count": null,
            "_view_module_version": "1.5.0",
            "description_tooltip": null,
            "_model_module": "@jupyter-widgets/controls",
            "layout": "IPY_MODEL_e11e6088282e4e7586dce6d24673c640"
          }
        },
        "a736363b99f4479ab6a48606e2bc4d20": {
          "model_module": "@jupyter-widgets/controls",
          "model_name": "FloatProgressModel",
          "model_module_version": "1.5.0",
          "state": {
            "_view_name": "ProgressView",
            "style": "IPY_MODEL_04bae90e52b84f8e81bec83d5234d9bf",
            "_dom_classes": [],
            "description": "",
            "_model_name": "FloatProgressModel",
            "bar_style": "info",
            "max": 1,
            "_view_module": "@jupyter-widgets/controls",
            "_model_module_version": "1.5.0",
            "value": 1,
            "_view_count": null,
            "_view_module_version": "1.5.0",
            "orientation": "horizontal",
            "min": 0,
            "description_tooltip": null,
            "_model_module": "@jupyter-widgets/controls",
            "layout": "IPY_MODEL_1489044ffee54da48a7b34823ab90793"
          }
        },
        "e64957da657447eda2ed5d9d611c58f7": {
          "model_module": "@jupyter-widgets/controls",
          "model_name": "HTMLModel",
          "model_module_version": "1.5.0",
          "state": {
            "_view_name": "HTMLView",
            "style": "IPY_MODEL_3b8ab016dc174bd3868da7e0f9f9c5b1",
            "_dom_classes": [],
            "description": "",
            "_model_name": "HTMLModel",
            "placeholder": "​",
            "_view_module": "@jupyter-widgets/controls",
            "_model_module_version": "1.5.0",
            "value": " 5503/0 [00:01&lt;00:00, 3050.78 examples/s]",
            "_view_count": null,
            "_view_module_version": "1.5.0",
            "description_tooltip": null,
            "_model_module": "@jupyter-widgets/controls",
            "layout": "IPY_MODEL_67c6fc149225415f83d82d25ab6bd957"
          }
        },
        "41b953ba2e5441fea25aa4bffedd2f76": {
          "model_module": "@jupyter-widgets/controls",
          "model_name": "DescriptionStyleModel",
          "model_module_version": "1.5.0",
          "state": {
            "_view_name": "StyleView",
            "_model_name": "DescriptionStyleModel",
            "description_width": "",
            "_view_module": "@jupyter-widgets/base",
            "_model_module_version": "1.5.0",
            "_view_count": null,
            "_view_module_version": "1.2.0",
            "_model_module": "@jupyter-widgets/controls"
          }
        },
        "e11e6088282e4e7586dce6d24673c640": {
          "model_module": "@jupyter-widgets/base",
          "model_name": "LayoutModel",
          "model_module_version": "1.2.0",
          "state": {
            "_view_name": "LayoutView",
            "grid_template_rows": null,
            "right": null,
            "justify_content": null,
            "_view_module": "@jupyter-widgets/base",
            "overflow": null,
            "_model_module_version": "1.2.0",
            "_view_count": null,
            "flex_flow": null,
            "width": null,
            "min_width": null,
            "border": null,
            "align_items": null,
            "bottom": null,
            "_model_module": "@jupyter-widgets/base",
            "top": null,
            "grid_column": null,
            "overflow_y": null,
            "overflow_x": null,
            "grid_auto_flow": null,
            "grid_area": null,
            "grid_template_columns": null,
            "flex": null,
            "_model_name": "LayoutModel",
            "justify_items": null,
            "grid_row": null,
            "max_height": null,
            "align_content": null,
            "visibility": null,
            "align_self": null,
            "height": null,
            "min_height": null,
            "padding": null,
            "grid_auto_rows": null,
            "grid_gap": null,
            "max_width": null,
            "order": null,
            "_view_module_version": "1.2.0",
            "grid_template_areas": null,
            "object_position": null,
            "object_fit": null,
            "grid_auto_columns": null,
            "margin": null,
            "display": null,
            "left": null
          }
        },
        "04bae90e52b84f8e81bec83d5234d9bf": {
          "model_module": "@jupyter-widgets/controls",
          "model_name": "ProgressStyleModel",
          "model_module_version": "1.5.0",
          "state": {
            "_view_name": "StyleView",
            "_model_name": "ProgressStyleModel",
            "description_width": "",
            "_view_module": "@jupyter-widgets/base",
            "_model_module_version": "1.5.0",
            "_view_count": null,
            "_view_module_version": "1.2.0",
            "bar_color": null,
            "_model_module": "@jupyter-widgets/controls"
          }
        },
        "1489044ffee54da48a7b34823ab90793": {
          "model_module": "@jupyter-widgets/base",
          "model_name": "LayoutModel",
          "model_module_version": "1.2.0",
          "state": {
            "_view_name": "LayoutView",
            "grid_template_rows": null,
            "right": null,
            "justify_content": null,
            "_view_module": "@jupyter-widgets/base",
            "overflow": null,
            "_model_module_version": "1.2.0",
            "_view_count": null,
            "flex_flow": null,
            "width": "20px",
            "min_width": null,
            "border": null,
            "align_items": null,
            "bottom": null,
            "_model_module": "@jupyter-widgets/base",
            "top": null,
            "grid_column": null,
            "overflow_y": null,
            "overflow_x": null,
            "grid_auto_flow": null,
            "grid_area": null,
            "grid_template_columns": null,
            "flex": null,
            "_model_name": "LayoutModel",
            "justify_items": null,
            "grid_row": null,
            "max_height": null,
            "align_content": null,
            "visibility": null,
            "align_self": null,
            "height": null,
            "min_height": null,
            "padding": null,
            "grid_auto_rows": null,
            "grid_gap": null,
            "max_width": null,
            "order": null,
            "_view_module_version": "1.2.0",
            "grid_template_areas": null,
            "object_position": null,
            "object_fit": null,
            "grid_auto_columns": null,
            "margin": null,
            "display": null,
            "left": null
          }
        },
        "3b8ab016dc174bd3868da7e0f9f9c5b1": {
          "model_module": "@jupyter-widgets/controls",
          "model_name": "DescriptionStyleModel",
          "model_module_version": "1.5.0",
          "state": {
            "_view_name": "StyleView",
            "_model_name": "DescriptionStyleModel",
            "description_width": "",
            "_view_module": "@jupyter-widgets/base",
            "_model_module_version": "1.5.0",
            "_view_count": null,
            "_view_module_version": "1.2.0",
            "_model_module": "@jupyter-widgets/controls"
          }
        },
        "67c6fc149225415f83d82d25ab6bd957": {
          "model_module": "@jupyter-widgets/base",
          "model_name": "LayoutModel",
          "model_module_version": "1.2.0",
          "state": {
            "_view_name": "LayoutView",
            "grid_template_rows": null,
            "right": null,
            "justify_content": null,
            "_view_module": "@jupyter-widgets/base",
            "overflow": null,
            "_model_module_version": "1.2.0",
            "_view_count": null,
            "flex_flow": null,
            "width": null,
            "min_width": null,
            "border": null,
            "align_items": null,
            "bottom": null,
            "_model_module": "@jupyter-widgets/base",
            "top": null,
            "grid_column": null,
            "overflow_y": null,
            "overflow_x": null,
            "grid_auto_flow": null,
            "grid_area": null,
            "grid_template_columns": null,
            "flex": null,
            "_model_name": "LayoutModel",
            "justify_items": null,
            "grid_row": null,
            "max_height": null,
            "align_content": null,
            "visibility": null,
            "align_self": null,
            "height": null,
            "min_height": null,
            "padding": null,
            "grid_auto_rows": null,
            "grid_gap": null,
            "max_width": null,
            "order": null,
            "_view_module_version": "1.2.0",
            "grid_template_areas": null,
            "object_position": null,
            "object_fit": null,
            "grid_auto_columns": null,
            "margin": null,
            "display": null,
            "left": null
          }
        },
        "e62a1ce7aafb4be7b1a96800c04b1f4d": {
          "model_module": "@jupyter-widgets/controls",
          "model_name": "HBoxModel",
          "model_module_version": "1.5.0",
          "state": {
            "_view_name": "HBoxView",
            "_dom_classes": [],
            "_model_name": "HBoxModel",
            "_view_module": "@jupyter-widgets/controls",
            "_model_module_version": "1.5.0",
            "_view_count": null,
            "_view_module_version": "1.5.0",
            "box_style": "",
            "layout": "IPY_MODEL_ad5141f42f7f4ec882b76ee31d128811",
            "_model_module": "@jupyter-widgets/controls",
            "children": [
              "IPY_MODEL_a6ccc1e090e4406f9ef973189e8b16dc",
              "IPY_MODEL_7d3302b3944b45a7adfbd8a78c640a72",
              "IPY_MODEL_508ffc29d7984615b3365bde19a806a4"
            ]
          }
        },
        "ad5141f42f7f4ec882b76ee31d128811": {
          "model_module": "@jupyter-widgets/base",
          "model_name": "LayoutModel",
          "model_module_version": "1.2.0",
          "state": {
            "_view_name": "LayoutView",
            "grid_template_rows": null,
            "right": null,
            "justify_content": null,
            "_view_module": "@jupyter-widgets/base",
            "overflow": null,
            "_model_module_version": "1.2.0",
            "_view_count": null,
            "flex_flow": null,
            "width": null,
            "min_width": null,
            "border": null,
            "align_items": null,
            "bottom": null,
            "_model_module": "@jupyter-widgets/base",
            "top": null,
            "grid_column": null,
            "overflow_y": null,
            "overflow_x": null,
            "grid_auto_flow": null,
            "grid_area": null,
            "grid_template_columns": null,
            "flex": null,
            "_model_name": "LayoutModel",
            "justify_items": null,
            "grid_row": null,
            "max_height": null,
            "align_content": null,
            "visibility": null,
            "align_self": null,
            "height": null,
            "min_height": null,
            "padding": null,
            "grid_auto_rows": null,
            "grid_gap": null,
            "max_width": null,
            "order": null,
            "_view_module_version": "1.2.0",
            "grid_template_areas": null,
            "object_position": null,
            "object_fit": null,
            "grid_auto_columns": null,
            "margin": null,
            "display": null,
            "left": null
          }
        },
        "a6ccc1e090e4406f9ef973189e8b16dc": {
          "model_module": "@jupyter-widgets/controls",
          "model_name": "HTMLModel",
          "model_module_version": "1.5.0",
          "state": {
            "_view_name": "HTMLView",
            "style": "IPY_MODEL_3f57b640a70249fdbda463c49b954a21",
            "_dom_classes": [],
            "description": "",
            "_model_name": "HTMLModel",
            "placeholder": "​",
            "_view_module": "@jupyter-widgets/controls",
            "_model_module_version": "1.5.0",
            "value": "100%",
            "_view_count": null,
            "_view_module_version": "1.5.0",
            "description_tooltip": null,
            "_model_module": "@jupyter-widgets/controls",
            "layout": "IPY_MODEL_c474e9ab33b74861b744088a9339d81f"
          }
        },
        "7d3302b3944b45a7adfbd8a78c640a72": {
          "model_module": "@jupyter-widgets/controls",
          "model_name": "FloatProgressModel",
          "model_module_version": "1.5.0",
          "state": {
            "_view_name": "ProgressView",
            "style": "IPY_MODEL_b9a43bf9d80e4ba88d98e317594cb1a8",
            "_dom_classes": [],
            "description": "",
            "_model_name": "FloatProgressModel",
            "bar_style": "danger",
            "max": 5622,
            "_view_module": "@jupyter-widgets/controls",
            "_model_module_version": "1.5.0",
            "value": 5621,
            "_view_count": null,
            "_view_module_version": "1.5.0",
            "orientation": "horizontal",
            "min": 0,
            "description_tooltip": null,
            "_model_module": "@jupyter-widgets/controls",
            "layout": "IPY_MODEL_2af2efe98a3c4399ab87500943c12517"
          }
        },
        "508ffc29d7984615b3365bde19a806a4": {
          "model_module": "@jupyter-widgets/controls",
          "model_name": "HTMLModel",
          "model_module_version": "1.5.0",
          "state": {
            "_view_name": "HTMLView",
            "style": "IPY_MODEL_111fce7a76e3471685828b7eff415c0d",
            "_dom_classes": [],
            "description": "",
            "_model_name": "HTMLModel",
            "placeholder": "​",
            "_view_module": "@jupyter-widgets/controls",
            "_model_module_version": "1.5.0",
            "value": " 5621/5622 [00:00&lt;00:00, 23793.56 examples/s]",
            "_view_count": null,
            "_view_module_version": "1.5.0",
            "description_tooltip": null,
            "_model_module": "@jupyter-widgets/controls",
            "layout": "IPY_MODEL_9ffb4288dccb4d6fae9f6781e92758a3"
          }
        },
        "3f57b640a70249fdbda463c49b954a21": {
          "model_module": "@jupyter-widgets/controls",
          "model_name": "DescriptionStyleModel",
          "model_module_version": "1.5.0",
          "state": {
            "_view_name": "StyleView",
            "_model_name": "DescriptionStyleModel",
            "description_width": "",
            "_view_module": "@jupyter-widgets/base",
            "_model_module_version": "1.5.0",
            "_view_count": null,
            "_view_module_version": "1.2.0",
            "_model_module": "@jupyter-widgets/controls"
          }
        },
        "c474e9ab33b74861b744088a9339d81f": {
          "model_module": "@jupyter-widgets/base",
          "model_name": "LayoutModel",
          "model_module_version": "1.2.0",
          "state": {
            "_view_name": "LayoutView",
            "grid_template_rows": null,
            "right": null,
            "justify_content": null,
            "_view_module": "@jupyter-widgets/base",
            "overflow": null,
            "_model_module_version": "1.2.0",
            "_view_count": null,
            "flex_flow": null,
            "width": null,
            "min_width": null,
            "border": null,
            "align_items": null,
            "bottom": null,
            "_model_module": "@jupyter-widgets/base",
            "top": null,
            "grid_column": null,
            "overflow_y": null,
            "overflow_x": null,
            "grid_auto_flow": null,
            "grid_area": null,
            "grid_template_columns": null,
            "flex": null,
            "_model_name": "LayoutModel",
            "justify_items": null,
            "grid_row": null,
            "max_height": null,
            "align_content": null,
            "visibility": null,
            "align_self": null,
            "height": null,
            "min_height": null,
            "padding": null,
            "grid_auto_rows": null,
            "grid_gap": null,
            "max_width": null,
            "order": null,
            "_view_module_version": "1.2.0",
            "grid_template_areas": null,
            "object_position": null,
            "object_fit": null,
            "grid_auto_columns": null,
            "margin": null,
            "display": null,
            "left": null
          }
        },
        "b9a43bf9d80e4ba88d98e317594cb1a8": {
          "model_module": "@jupyter-widgets/controls",
          "model_name": "ProgressStyleModel",
          "model_module_version": "1.5.0",
          "state": {
            "_view_name": "StyleView",
            "_model_name": "ProgressStyleModel",
            "description_width": "",
            "_view_module": "@jupyter-widgets/base",
            "_model_module_version": "1.5.0",
            "_view_count": null,
            "_view_module_version": "1.2.0",
            "bar_color": null,
            "_model_module": "@jupyter-widgets/controls"
          }
        },
        "2af2efe98a3c4399ab87500943c12517": {
          "model_module": "@jupyter-widgets/base",
          "model_name": "LayoutModel",
          "model_module_version": "1.2.0",
          "state": {
            "_view_name": "LayoutView",
            "grid_template_rows": null,
            "right": null,
            "justify_content": null,
            "_view_module": "@jupyter-widgets/base",
            "overflow": null,
            "_model_module_version": "1.2.0",
            "_view_count": null,
            "flex_flow": null,
            "width": null,
            "min_width": null,
            "border": null,
            "align_items": null,
            "bottom": null,
            "_model_module": "@jupyter-widgets/base",
            "top": null,
            "grid_column": null,
            "overflow_y": null,
            "overflow_x": null,
            "grid_auto_flow": null,
            "grid_area": null,
            "grid_template_columns": null,
            "flex": null,
            "_model_name": "LayoutModel",
            "justify_items": null,
            "grid_row": null,
            "max_height": null,
            "align_content": null,
            "visibility": null,
            "align_self": null,
            "height": null,
            "min_height": null,
            "padding": null,
            "grid_auto_rows": null,
            "grid_gap": null,
            "max_width": null,
            "order": null,
            "_view_module_version": "1.2.0",
            "grid_template_areas": null,
            "object_position": null,
            "object_fit": null,
            "grid_auto_columns": null,
            "margin": null,
            "display": null,
            "left": null
          }
        },
        "111fce7a76e3471685828b7eff415c0d": {
          "model_module": "@jupyter-widgets/controls",
          "model_name": "DescriptionStyleModel",
          "model_module_version": "1.5.0",
          "state": {
            "_view_name": "StyleView",
            "_model_name": "DescriptionStyleModel",
            "description_width": "",
            "_view_module": "@jupyter-widgets/base",
            "_model_module_version": "1.5.0",
            "_view_count": null,
            "_view_module_version": "1.2.0",
            "_model_module": "@jupyter-widgets/controls"
          }
        },
        "9ffb4288dccb4d6fae9f6781e92758a3": {
          "model_module": "@jupyter-widgets/base",
          "model_name": "LayoutModel",
          "model_module_version": "1.2.0",
          "state": {
            "_view_name": "LayoutView",
            "grid_template_rows": null,
            "right": null,
            "justify_content": null,
            "_view_module": "@jupyter-widgets/base",
            "overflow": null,
            "_model_module_version": "1.2.0",
            "_view_count": null,
            "flex_flow": null,
            "width": null,
            "min_width": null,
            "border": null,
            "align_items": null,
            "bottom": null,
            "_model_module": "@jupyter-widgets/base",
            "top": null,
            "grid_column": null,
            "overflow_y": null,
            "overflow_x": null,
            "grid_auto_flow": null,
            "grid_area": null,
            "grid_template_columns": null,
            "flex": null,
            "_model_name": "LayoutModel",
            "justify_items": null,
            "grid_row": null,
            "max_height": null,
            "align_content": null,
            "visibility": null,
            "align_self": null,
            "height": null,
            "min_height": null,
            "padding": null,
            "grid_auto_rows": null,
            "grid_gap": null,
            "max_width": null,
            "order": null,
            "_view_module_version": "1.2.0",
            "grid_template_areas": null,
            "object_position": null,
            "object_fit": null,
            "grid_auto_columns": null,
            "margin": null,
            "display": null,
            "left": null
          }
        },
        "50f4471ed5fb4f9c936d958b3cc9b71c": {
          "model_module": "@jupyter-widgets/controls",
          "model_name": "HBoxModel",
          "model_module_version": "1.5.0",
          "state": {
            "_view_name": "HBoxView",
            "_dom_classes": [],
            "_model_name": "HBoxModel",
            "_view_module": "@jupyter-widgets/controls",
            "_model_module_version": "1.5.0",
            "_view_count": null,
            "_view_module_version": "1.5.0",
            "box_style": "",
            "layout": "IPY_MODEL_0cefdb36bb1a4d2db4737a94d50c3c33",
            "_model_module": "@jupyter-widgets/controls",
            "children": [
              "IPY_MODEL_c4c505e7074d487fbfb553d26371bb02",
              "IPY_MODEL_43d522449a434e7cae6b93a2463eb357",
              "IPY_MODEL_dd9c8acdfcf24ec7807731684bdf85b1"
            ]
          }
        },
        "0cefdb36bb1a4d2db4737a94d50c3c33": {
          "model_module": "@jupyter-widgets/base",
          "model_name": "LayoutModel",
          "model_module_version": "1.2.0",
          "state": {
            "_view_name": "LayoutView",
            "grid_template_rows": null,
            "right": null,
            "justify_content": null,
            "_view_module": "@jupyter-widgets/base",
            "overflow": null,
            "_model_module_version": "1.2.0",
            "_view_count": null,
            "flex_flow": null,
            "width": null,
            "min_width": null,
            "border": null,
            "align_items": null,
            "bottom": null,
            "_model_module": "@jupyter-widgets/base",
            "top": null,
            "grid_column": null,
            "overflow_y": null,
            "overflow_x": null,
            "grid_auto_flow": null,
            "grid_area": null,
            "grid_template_columns": null,
            "flex": null,
            "_model_name": "LayoutModel",
            "justify_items": null,
            "grid_row": null,
            "max_height": null,
            "align_content": null,
            "visibility": null,
            "align_self": null,
            "height": null,
            "min_height": null,
            "padding": null,
            "grid_auto_rows": null,
            "grid_gap": null,
            "max_width": null,
            "order": null,
            "_view_module_version": "1.2.0",
            "grid_template_areas": null,
            "object_position": null,
            "object_fit": null,
            "grid_auto_columns": null,
            "margin": null,
            "display": null,
            "left": null
          }
        },
        "c4c505e7074d487fbfb553d26371bb02": {
          "model_module": "@jupyter-widgets/controls",
          "model_name": "HTMLModel",
          "model_module_version": "1.5.0",
          "state": {
            "_view_name": "HTMLView",
            "style": "IPY_MODEL_0475c790d0d6431783cce59f99f319bf",
            "_dom_classes": [],
            "description": "",
            "_model_name": "HTMLModel",
            "placeholder": "​",
            "_view_module": "@jupyter-widgets/controls",
            "_model_module_version": "1.5.0",
            "value": "100%",
            "_view_count": null,
            "_view_module_version": "1.5.0",
            "description_tooltip": null,
            "_model_module": "@jupyter-widgets/controls",
            "layout": "IPY_MODEL_7ffdd6b42a9b4c5395958585daddfde0"
          }
        },
        "43d522449a434e7cae6b93a2463eb357": {
          "model_module": "@jupyter-widgets/controls",
          "model_name": "FloatProgressModel",
          "model_module_version": "1.5.0",
          "state": {
            "_view_name": "ProgressView",
            "style": "IPY_MODEL_316fcf62f9144d81a42ea0dcdfbc28a8",
            "_dom_classes": [],
            "description": "",
            "_model_name": "FloatProgressModel",
            "bar_style": "success",
            "max": 1000,
            "_view_module": "@jupyter-widgets/controls",
            "_model_module_version": "1.5.0",
            "value": 1000,
            "_view_count": null,
            "_view_module_version": "1.5.0",
            "orientation": "horizontal",
            "min": 0,
            "description_tooltip": null,
            "_model_module": "@jupyter-widgets/controls",
            "layout": "IPY_MODEL_70690fb47fc14ac89b1f3fa18d67b9d7"
          }
        },
        "dd9c8acdfcf24ec7807731684bdf85b1": {
          "model_module": "@jupyter-widgets/controls",
          "model_name": "HTMLModel",
          "model_module_version": "1.5.0",
          "state": {
            "_view_name": "HTMLView",
            "style": "IPY_MODEL_1bec351165804915ba30c6e4f4b14c8b",
            "_dom_classes": [],
            "description": "",
            "_model_name": "HTMLModel",
            "placeholder": "​",
            "_view_module": "@jupyter-widgets/controls",
            "_model_module_version": "1.5.0",
            "value": " 1000/1000 [00:00&lt;00:00, 11106.44it/s]",
            "_view_count": null,
            "_view_module_version": "1.5.0",
            "description_tooltip": null,
            "_model_module": "@jupyter-widgets/controls",
            "layout": "IPY_MODEL_8f45275dfc794cb39069312a67bad8ce"
          }
        },
        "0475c790d0d6431783cce59f99f319bf": {
          "model_module": "@jupyter-widgets/controls",
          "model_name": "DescriptionStyleModel",
          "model_module_version": "1.5.0",
          "state": {
            "_view_name": "StyleView",
            "_model_name": "DescriptionStyleModel",
            "description_width": "",
            "_view_module": "@jupyter-widgets/base",
            "_model_module_version": "1.5.0",
            "_view_count": null,
            "_view_module_version": "1.2.0",
            "_model_module": "@jupyter-widgets/controls"
          }
        },
        "7ffdd6b42a9b4c5395958585daddfde0": {
          "model_module": "@jupyter-widgets/base",
          "model_name": "LayoutModel",
          "model_module_version": "1.2.0",
          "state": {
            "_view_name": "LayoutView",
            "grid_template_rows": null,
            "right": null,
            "justify_content": null,
            "_view_module": "@jupyter-widgets/base",
            "overflow": null,
            "_model_module_version": "1.2.0",
            "_view_count": null,
            "flex_flow": null,
            "width": null,
            "min_width": null,
            "border": null,
            "align_items": null,
            "bottom": null,
            "_model_module": "@jupyter-widgets/base",
            "top": null,
            "grid_column": null,
            "overflow_y": null,
            "overflow_x": null,
            "grid_auto_flow": null,
            "grid_area": null,
            "grid_template_columns": null,
            "flex": null,
            "_model_name": "LayoutModel",
            "justify_items": null,
            "grid_row": null,
            "max_height": null,
            "align_content": null,
            "visibility": null,
            "align_self": null,
            "height": null,
            "min_height": null,
            "padding": null,
            "grid_auto_rows": null,
            "grid_gap": null,
            "max_width": null,
            "order": null,
            "_view_module_version": "1.2.0",
            "grid_template_areas": null,
            "object_position": null,
            "object_fit": null,
            "grid_auto_columns": null,
            "margin": null,
            "display": null,
            "left": null
          }
        },
        "316fcf62f9144d81a42ea0dcdfbc28a8": {
          "model_module": "@jupyter-widgets/controls",
          "model_name": "ProgressStyleModel",
          "model_module_version": "1.5.0",
          "state": {
            "_view_name": "StyleView",
            "_model_name": "ProgressStyleModel",
            "description_width": "",
            "_view_module": "@jupyter-widgets/base",
            "_model_module_version": "1.5.0",
            "_view_count": null,
            "_view_module_version": "1.2.0",
            "bar_color": null,
            "_model_module": "@jupyter-widgets/controls"
          }
        },
        "70690fb47fc14ac89b1f3fa18d67b9d7": {
          "model_module": "@jupyter-widgets/base",
          "model_name": "LayoutModel",
          "model_module_version": "1.2.0",
          "state": {
            "_view_name": "LayoutView",
            "grid_template_rows": null,
            "right": null,
            "justify_content": null,
            "_view_module": "@jupyter-widgets/base",
            "overflow": null,
            "_model_module_version": "1.2.0",
            "_view_count": null,
            "flex_flow": null,
            "width": null,
            "min_width": null,
            "border": null,
            "align_items": null,
            "bottom": null,
            "_model_module": "@jupyter-widgets/base",
            "top": null,
            "grid_column": null,
            "overflow_y": null,
            "overflow_x": null,
            "grid_auto_flow": null,
            "grid_area": null,
            "grid_template_columns": null,
            "flex": null,
            "_model_name": "LayoutModel",
            "justify_items": null,
            "grid_row": null,
            "max_height": null,
            "align_content": null,
            "visibility": null,
            "align_self": null,
            "height": null,
            "min_height": null,
            "padding": null,
            "grid_auto_rows": null,
            "grid_gap": null,
            "max_width": null,
            "order": null,
            "_view_module_version": "1.2.0",
            "grid_template_areas": null,
            "object_position": null,
            "object_fit": null,
            "grid_auto_columns": null,
            "margin": null,
            "display": null,
            "left": null
          }
        },
        "1bec351165804915ba30c6e4f4b14c8b": {
          "model_module": "@jupyter-widgets/controls",
          "model_name": "DescriptionStyleModel",
          "model_module_version": "1.5.0",
          "state": {
            "_view_name": "StyleView",
            "_model_name": "DescriptionStyleModel",
            "description_width": "",
            "_view_module": "@jupyter-widgets/base",
            "_model_module_version": "1.5.0",
            "_view_count": null,
            "_view_module_version": "1.2.0",
            "_model_module": "@jupyter-widgets/controls"
          }
        },
        "8f45275dfc794cb39069312a67bad8ce": {
          "model_module": "@jupyter-widgets/base",
          "model_name": "LayoutModel",
          "model_module_version": "1.2.0",
          "state": {
            "_view_name": "LayoutView",
            "grid_template_rows": null,
            "right": null,
            "justify_content": null,
            "_view_module": "@jupyter-widgets/base",
            "overflow": null,
            "_model_module_version": "1.2.0",
            "_view_count": null,
            "flex_flow": null,
            "width": null,
            "min_width": null,
            "border": null,
            "align_items": null,
            "bottom": null,
            "_model_module": "@jupyter-widgets/base",
            "top": null,
            "grid_column": null,
            "overflow_y": null,
            "overflow_x": null,
            "grid_auto_flow": null,
            "grid_area": null,
            "grid_template_columns": null,
            "flex": null,
            "_model_name": "LayoutModel",
            "justify_items": null,
            "grid_row": null,
            "max_height": null,
            "align_content": null,
            "visibility": null,
            "align_self": null,
            "height": null,
            "min_height": null,
            "padding": null,
            "grid_auto_rows": null,
            "grid_gap": null,
            "max_width": null,
            "order": null,
            "_view_module_version": "1.2.0",
            "grid_template_areas": null,
            "object_position": null,
            "object_fit": null,
            "grid_auto_columns": null,
            "margin": null,
            "display": null,
            "left": null
          }
        },
        "8e5db071849d4434beb6aca651828608": {
          "model_module": "@jupyter-widgets/controls",
          "model_name": "HBoxModel",
          "model_module_version": "1.5.0",
          "state": {
            "_view_name": "HBoxView",
            "_dom_classes": [],
            "_model_name": "HBoxModel",
            "_view_module": "@jupyter-widgets/controls",
            "_model_module_version": "1.5.0",
            "_view_count": null,
            "_view_module_version": "1.5.0",
            "box_style": "",
            "layout": "IPY_MODEL_650a39c4bb7f431ebacc48c6b9dcac02",
            "_model_module": "@jupyter-widgets/controls",
            "children": [
              "IPY_MODEL_7e859d167f9b48d491fc2feb1b43be23",
              "IPY_MODEL_ea6032c8b658479aa2eb05c9adc79739",
              "IPY_MODEL_d15a256497074151b4cfa467e372037e"
            ]
          }
        },
        "650a39c4bb7f431ebacc48c6b9dcac02": {
          "model_module": "@jupyter-widgets/base",
          "model_name": "LayoutModel",
          "model_module_version": "1.2.0",
          "state": {
            "_view_name": "LayoutView",
            "grid_template_rows": null,
            "right": null,
            "justify_content": null,
            "_view_module": "@jupyter-widgets/base",
            "overflow": null,
            "_model_module_version": "1.2.0",
            "_view_count": null,
            "flex_flow": null,
            "width": null,
            "min_width": null,
            "border": null,
            "align_items": null,
            "bottom": null,
            "_model_module": "@jupyter-widgets/base",
            "top": null,
            "grid_column": null,
            "overflow_y": null,
            "overflow_x": null,
            "grid_auto_flow": null,
            "grid_area": null,
            "grid_template_columns": null,
            "flex": null,
            "_model_name": "LayoutModel",
            "justify_items": null,
            "grid_row": null,
            "max_height": null,
            "align_content": null,
            "visibility": null,
            "align_self": null,
            "height": null,
            "min_height": null,
            "padding": null,
            "grid_auto_rows": null,
            "grid_gap": null,
            "max_width": null,
            "order": null,
            "_view_module_version": "1.2.0",
            "grid_template_areas": null,
            "object_position": null,
            "object_fit": null,
            "grid_auto_columns": null,
            "margin": null,
            "display": null,
            "left": null
          }
        },
        "7e859d167f9b48d491fc2feb1b43be23": {
          "model_module": "@jupyter-widgets/controls",
          "model_name": "HTMLModel",
          "model_module_version": "1.5.0",
          "state": {
            "_view_name": "HTMLView",
            "style": "IPY_MODEL_083705987b9e4414830f0d8a5ff71854",
            "_dom_classes": [],
            "description": "",
            "_model_name": "HTMLModel",
            "placeholder": "​",
            "_view_module": "@jupyter-widgets/controls",
            "_model_module_version": "1.5.0",
            "value": "100%",
            "_view_count": null,
            "_view_module_version": "1.5.0",
            "description_tooltip": null,
            "_model_module": "@jupyter-widgets/controls",
            "layout": "IPY_MODEL_2b4ca01c1af24243bbc362663d52c0a5"
          }
        },
        "ea6032c8b658479aa2eb05c9adc79739": {
          "model_module": "@jupyter-widgets/controls",
          "model_name": "FloatProgressModel",
          "model_module_version": "1.5.0",
          "state": {
            "_view_name": "ProgressView",
            "style": "IPY_MODEL_aa71e2fe29d64275820d4d5472a2bec2",
            "_dom_classes": [],
            "description": "",
            "_model_name": "FloatProgressModel",
            "bar_style": "success",
            "max": 2729,
            "_view_module": "@jupyter-widgets/controls",
            "_model_module_version": "1.5.0",
            "value": 2729,
            "_view_count": null,
            "_view_module_version": "1.5.0",
            "orientation": "horizontal",
            "min": 0,
            "description_tooltip": null,
            "_model_module": "@jupyter-widgets/controls",
            "layout": "IPY_MODEL_15b79ab1d58144c0bd81d3e7d0331691"
          }
        },
        "d15a256497074151b4cfa467e372037e": {
          "model_module": "@jupyter-widgets/controls",
          "model_name": "HTMLModel",
          "model_module_version": "1.5.0",
          "state": {
            "_view_name": "HTMLView",
            "style": "IPY_MODEL_690a43f448d040bdb3be692858acf0f3",
            "_dom_classes": [],
            "description": "",
            "_model_name": "HTMLModel",
            "placeholder": "​",
            "_view_module": "@jupyter-widgets/controls",
            "_model_module_version": "1.5.0",
            "value": " 2729/2729 [00:00&lt;00:00, 10931.41it/s]",
            "_view_count": null,
            "_view_module_version": "1.5.0",
            "description_tooltip": null,
            "_model_module": "@jupyter-widgets/controls",
            "layout": "IPY_MODEL_d5d3fe3e2aa04b2ebef3d512a72b3c42"
          }
        },
        "083705987b9e4414830f0d8a5ff71854": {
          "model_module": "@jupyter-widgets/controls",
          "model_name": "DescriptionStyleModel",
          "model_module_version": "1.5.0",
          "state": {
            "_view_name": "StyleView",
            "_model_name": "DescriptionStyleModel",
            "description_width": "",
            "_view_module": "@jupyter-widgets/base",
            "_model_module_version": "1.5.0",
            "_view_count": null,
            "_view_module_version": "1.2.0",
            "_model_module": "@jupyter-widgets/controls"
          }
        },
        "2b4ca01c1af24243bbc362663d52c0a5": {
          "model_module": "@jupyter-widgets/base",
          "model_name": "LayoutModel",
          "model_module_version": "1.2.0",
          "state": {
            "_view_name": "LayoutView",
            "grid_template_rows": null,
            "right": null,
            "justify_content": null,
            "_view_module": "@jupyter-widgets/base",
            "overflow": null,
            "_model_module_version": "1.2.0",
            "_view_count": null,
            "flex_flow": null,
            "width": null,
            "min_width": null,
            "border": null,
            "align_items": null,
            "bottom": null,
            "_model_module": "@jupyter-widgets/base",
            "top": null,
            "grid_column": null,
            "overflow_y": null,
            "overflow_x": null,
            "grid_auto_flow": null,
            "grid_area": null,
            "grid_template_columns": null,
            "flex": null,
            "_model_name": "LayoutModel",
            "justify_items": null,
            "grid_row": null,
            "max_height": null,
            "align_content": null,
            "visibility": null,
            "align_self": null,
            "height": null,
            "min_height": null,
            "padding": null,
            "grid_auto_rows": null,
            "grid_gap": null,
            "max_width": null,
            "order": null,
            "_view_module_version": "1.2.0",
            "grid_template_areas": null,
            "object_position": null,
            "object_fit": null,
            "grid_auto_columns": null,
            "margin": null,
            "display": null,
            "left": null
          }
        },
        "aa71e2fe29d64275820d4d5472a2bec2": {
          "model_module": "@jupyter-widgets/controls",
          "model_name": "ProgressStyleModel",
          "model_module_version": "1.5.0",
          "state": {
            "_view_name": "StyleView",
            "_model_name": "ProgressStyleModel",
            "description_width": "",
            "_view_module": "@jupyter-widgets/base",
            "_model_module_version": "1.5.0",
            "_view_count": null,
            "_view_module_version": "1.2.0",
            "bar_color": null,
            "_model_module": "@jupyter-widgets/controls"
          }
        },
        "15b79ab1d58144c0bd81d3e7d0331691": {
          "model_module": "@jupyter-widgets/base",
          "model_name": "LayoutModel",
          "model_module_version": "1.2.0",
          "state": {
            "_view_name": "LayoutView",
            "grid_template_rows": null,
            "right": null,
            "justify_content": null,
            "_view_module": "@jupyter-widgets/base",
            "overflow": null,
            "_model_module_version": "1.2.0",
            "_view_count": null,
            "flex_flow": null,
            "width": null,
            "min_width": null,
            "border": null,
            "align_items": null,
            "bottom": null,
            "_model_module": "@jupyter-widgets/base",
            "top": null,
            "grid_column": null,
            "overflow_y": null,
            "overflow_x": null,
            "grid_auto_flow": null,
            "grid_area": null,
            "grid_template_columns": null,
            "flex": null,
            "_model_name": "LayoutModel",
            "justify_items": null,
            "grid_row": null,
            "max_height": null,
            "align_content": null,
            "visibility": null,
            "align_self": null,
            "height": null,
            "min_height": null,
            "padding": null,
            "grid_auto_rows": null,
            "grid_gap": null,
            "max_width": null,
            "order": null,
            "_view_module_version": "1.2.0",
            "grid_template_areas": null,
            "object_position": null,
            "object_fit": null,
            "grid_auto_columns": null,
            "margin": null,
            "display": null,
            "left": null
          }
        },
        "690a43f448d040bdb3be692858acf0f3": {
          "model_module": "@jupyter-widgets/controls",
          "model_name": "DescriptionStyleModel",
          "model_module_version": "1.5.0",
          "state": {
            "_view_name": "StyleView",
            "_model_name": "DescriptionStyleModel",
            "description_width": "",
            "_view_module": "@jupyter-widgets/base",
            "_model_module_version": "1.5.0",
            "_view_count": null,
            "_view_module_version": "1.2.0",
            "_model_module": "@jupyter-widgets/controls"
          }
        },
        "d5d3fe3e2aa04b2ebef3d512a72b3c42": {
          "model_module": "@jupyter-widgets/base",
          "model_name": "LayoutModel",
          "model_module_version": "1.2.0",
          "state": {
            "_view_name": "LayoutView",
            "grid_template_rows": null,
            "right": null,
            "justify_content": null,
            "_view_module": "@jupyter-widgets/base",
            "overflow": null,
            "_model_module_version": "1.2.0",
            "_view_count": null,
            "flex_flow": null,
            "width": null,
            "min_width": null,
            "border": null,
            "align_items": null,
            "bottom": null,
            "_model_module": "@jupyter-widgets/base",
            "top": null,
            "grid_column": null,
            "overflow_y": null,
            "overflow_x": null,
            "grid_auto_flow": null,
            "grid_area": null,
            "grid_template_columns": null,
            "flex": null,
            "_model_name": "LayoutModel",
            "justify_items": null,
            "grid_row": null,
            "max_height": null,
            "align_content": null,
            "visibility": null,
            "align_self": null,
            "height": null,
            "min_height": null,
            "padding": null,
            "grid_auto_rows": null,
            "grid_gap": null,
            "max_width": null,
            "order": null,
            "_view_module_version": "1.2.0",
            "grid_template_areas": null,
            "object_position": null,
            "object_fit": null,
            "grid_auto_columns": null,
            "margin": null,
            "display": null,
            "left": null
          }
        },
        "1c413c28401e438a9ea64f0b3018584d": {
          "model_module": "@jupyter-widgets/controls",
          "model_name": "HBoxModel",
          "model_module_version": "1.5.0",
          "state": {
            "_view_name": "HBoxView",
            "_dom_classes": [],
            "_model_name": "HBoxModel",
            "_view_module": "@jupyter-widgets/controls",
            "_model_module_version": "1.5.0",
            "_view_count": null,
            "_view_module_version": "1.5.0",
            "box_style": "",
            "layout": "IPY_MODEL_479e95492f774cfd83b3cb63a445cc33",
            "_model_module": "@jupyter-widgets/controls",
            "children": [
              "IPY_MODEL_1485575d3f7342c69e8d35b4b97ceaf2",
              "IPY_MODEL_ff366f714a9e455c96644004b824264f",
              "IPY_MODEL_4a374db8433c4482888e4303f7b87aff"
            ]
          }
        },
        "479e95492f774cfd83b3cb63a445cc33": {
          "model_module": "@jupyter-widgets/base",
          "model_name": "LayoutModel",
          "model_module_version": "1.2.0",
          "state": {
            "_view_name": "LayoutView",
            "grid_template_rows": null,
            "right": null,
            "justify_content": null,
            "_view_module": "@jupyter-widgets/base",
            "overflow": null,
            "_model_module_version": "1.2.0",
            "_view_count": null,
            "flex_flow": null,
            "width": null,
            "min_width": null,
            "border": null,
            "align_items": null,
            "bottom": null,
            "_model_module": "@jupyter-widgets/base",
            "top": null,
            "grid_column": null,
            "overflow_y": null,
            "overflow_x": null,
            "grid_auto_flow": null,
            "grid_area": null,
            "grid_template_columns": null,
            "flex": null,
            "_model_name": "LayoutModel",
            "justify_items": null,
            "grid_row": null,
            "max_height": null,
            "align_content": null,
            "visibility": null,
            "align_self": null,
            "height": null,
            "min_height": null,
            "padding": null,
            "grid_auto_rows": null,
            "grid_gap": null,
            "max_width": null,
            "order": null,
            "_view_module_version": "1.2.0",
            "grid_template_areas": null,
            "object_position": null,
            "object_fit": null,
            "grid_auto_columns": null,
            "margin": null,
            "display": null,
            "left": null
          }
        },
        "1485575d3f7342c69e8d35b4b97ceaf2": {
          "model_module": "@jupyter-widgets/controls",
          "model_name": "HTMLModel",
          "model_module_version": "1.5.0",
          "state": {
            "_view_name": "HTMLView",
            "style": "IPY_MODEL_3394465617024fd0a7510f5a807af761",
            "_dom_classes": [],
            "description": "",
            "_model_name": "HTMLModel",
            "placeholder": "​",
            "_view_module": "@jupyter-widgets/controls",
            "_model_module_version": "1.5.0",
            "value": "100%",
            "_view_count": null,
            "_view_module_version": "1.5.0",
            "description_tooltip": null,
            "_model_module": "@jupyter-widgets/controls",
            "layout": "IPY_MODEL_7a15c27ab71d42699f07535f93bb03d4"
          }
        },
        "ff366f714a9e455c96644004b824264f": {
          "model_module": "@jupyter-widgets/controls",
          "model_name": "FloatProgressModel",
          "model_module_version": "1.5.0",
          "state": {
            "_view_name": "ProgressView",
            "style": "IPY_MODEL_895ff03c8ce24d66aac06eac83c12bcd",
            "_dom_classes": [],
            "description": "",
            "_model_name": "FloatProgressModel",
            "bar_style": "success",
            "max": 2729,
            "_view_module": "@jupyter-widgets/controls",
            "_model_module_version": "1.5.0",
            "value": 2729,
            "_view_count": null,
            "_view_module_version": "1.5.0",
            "orientation": "horizontal",
            "min": 0,
            "description_tooltip": null,
            "_model_module": "@jupyter-widgets/controls",
            "layout": "IPY_MODEL_d41ff0eeb2454ab3994306abb18a0edb"
          }
        },
        "4a374db8433c4482888e4303f7b87aff": {
          "model_module": "@jupyter-widgets/controls",
          "model_name": "HTMLModel",
          "model_module_version": "1.5.0",
          "state": {
            "_view_name": "HTMLView",
            "style": "IPY_MODEL_dea4278d86b24e12899176b2c0226fa0",
            "_dom_classes": [],
            "description": "",
            "_model_name": "HTMLModel",
            "placeholder": "​",
            "_view_module": "@jupyter-widgets/controls",
            "_model_module_version": "1.5.0",
            "value": " 2729/2729 [06:34&lt;00:00, 15.36it/s]",
            "_view_count": null,
            "_view_module_version": "1.5.0",
            "description_tooltip": null,
            "_model_module": "@jupyter-widgets/controls",
            "layout": "IPY_MODEL_9fb1987b375d4db4b43769ca86d5cc5d"
          }
        },
        "3394465617024fd0a7510f5a807af761": {
          "model_module": "@jupyter-widgets/controls",
          "model_name": "DescriptionStyleModel",
          "model_module_version": "1.5.0",
          "state": {
            "_view_name": "StyleView",
            "_model_name": "DescriptionStyleModel",
            "description_width": "",
            "_view_module": "@jupyter-widgets/base",
            "_model_module_version": "1.5.0",
            "_view_count": null,
            "_view_module_version": "1.2.0",
            "_model_module": "@jupyter-widgets/controls"
          }
        },
        "7a15c27ab71d42699f07535f93bb03d4": {
          "model_module": "@jupyter-widgets/base",
          "model_name": "LayoutModel",
          "model_module_version": "1.2.0",
          "state": {
            "_view_name": "LayoutView",
            "grid_template_rows": null,
            "right": null,
            "justify_content": null,
            "_view_module": "@jupyter-widgets/base",
            "overflow": null,
            "_model_module_version": "1.2.0",
            "_view_count": null,
            "flex_flow": null,
            "width": null,
            "min_width": null,
            "border": null,
            "align_items": null,
            "bottom": null,
            "_model_module": "@jupyter-widgets/base",
            "top": null,
            "grid_column": null,
            "overflow_y": null,
            "overflow_x": null,
            "grid_auto_flow": null,
            "grid_area": null,
            "grid_template_columns": null,
            "flex": null,
            "_model_name": "LayoutModel",
            "justify_items": null,
            "grid_row": null,
            "max_height": null,
            "align_content": null,
            "visibility": null,
            "align_self": null,
            "height": null,
            "min_height": null,
            "padding": null,
            "grid_auto_rows": null,
            "grid_gap": null,
            "max_width": null,
            "order": null,
            "_view_module_version": "1.2.0",
            "grid_template_areas": null,
            "object_position": null,
            "object_fit": null,
            "grid_auto_columns": null,
            "margin": null,
            "display": null,
            "left": null
          }
        },
        "895ff03c8ce24d66aac06eac83c12bcd": {
          "model_module": "@jupyter-widgets/controls",
          "model_name": "ProgressStyleModel",
          "model_module_version": "1.5.0",
          "state": {
            "_view_name": "StyleView",
            "_model_name": "ProgressStyleModel",
            "description_width": "",
            "_view_module": "@jupyter-widgets/base",
            "_model_module_version": "1.5.0",
            "_view_count": null,
            "_view_module_version": "1.2.0",
            "bar_color": null,
            "_model_module": "@jupyter-widgets/controls"
          }
        },
        "d41ff0eeb2454ab3994306abb18a0edb": {
          "model_module": "@jupyter-widgets/base",
          "model_name": "LayoutModel",
          "model_module_version": "1.2.0",
          "state": {
            "_view_name": "LayoutView",
            "grid_template_rows": null,
            "right": null,
            "justify_content": null,
            "_view_module": "@jupyter-widgets/base",
            "overflow": null,
            "_model_module_version": "1.2.0",
            "_view_count": null,
            "flex_flow": null,
            "width": null,
            "min_width": null,
            "border": null,
            "align_items": null,
            "bottom": null,
            "_model_module": "@jupyter-widgets/base",
            "top": null,
            "grid_column": null,
            "overflow_y": null,
            "overflow_x": null,
            "grid_auto_flow": null,
            "grid_area": null,
            "grid_template_columns": null,
            "flex": null,
            "_model_name": "LayoutModel",
            "justify_items": null,
            "grid_row": null,
            "max_height": null,
            "align_content": null,
            "visibility": null,
            "align_self": null,
            "height": null,
            "min_height": null,
            "padding": null,
            "grid_auto_rows": null,
            "grid_gap": null,
            "max_width": null,
            "order": null,
            "_view_module_version": "1.2.0",
            "grid_template_areas": null,
            "object_position": null,
            "object_fit": null,
            "grid_auto_columns": null,
            "margin": null,
            "display": null,
            "left": null
          }
        },
        "dea4278d86b24e12899176b2c0226fa0": {
          "model_module": "@jupyter-widgets/controls",
          "model_name": "DescriptionStyleModel",
          "model_module_version": "1.5.0",
          "state": {
            "_view_name": "StyleView",
            "_model_name": "DescriptionStyleModel",
            "description_width": "",
            "_view_module": "@jupyter-widgets/base",
            "_model_module_version": "1.5.0",
            "_view_count": null,
            "_view_module_version": "1.2.0",
            "_model_module": "@jupyter-widgets/controls"
          }
        },
        "9fb1987b375d4db4b43769ca86d5cc5d": {
          "model_module": "@jupyter-widgets/base",
          "model_name": "LayoutModel",
          "model_module_version": "1.2.0",
          "state": {
            "_view_name": "LayoutView",
            "grid_template_rows": null,
            "right": null,
            "justify_content": null,
            "_view_module": "@jupyter-widgets/base",
            "overflow": null,
            "_model_module_version": "1.2.0",
            "_view_count": null,
            "flex_flow": null,
            "width": null,
            "min_width": null,
            "border": null,
            "align_items": null,
            "bottom": null,
            "_model_module": "@jupyter-widgets/base",
            "top": null,
            "grid_column": null,
            "overflow_y": null,
            "overflow_x": null,
            "grid_auto_flow": null,
            "grid_area": null,
            "grid_template_columns": null,
            "flex": null,
            "_model_name": "LayoutModel",
            "justify_items": null,
            "grid_row": null,
            "max_height": null,
            "align_content": null,
            "visibility": null,
            "align_self": null,
            "height": null,
            "min_height": null,
            "padding": null,
            "grid_auto_rows": null,
            "grid_gap": null,
            "max_width": null,
            "order": null,
            "_view_module_version": "1.2.0",
            "grid_template_areas": null,
            "object_position": null,
            "object_fit": null,
            "grid_auto_columns": null,
            "margin": null,
            "display": null,
            "left": null
          }
        },
        "122865e45adf474b99dd41f4839f0028": {
          "model_module": "@jupyter-widgets/controls",
          "model_name": "HBoxModel",
          "model_module_version": "1.5.0",
          "state": {
            "_view_name": "HBoxView",
            "_dom_classes": [],
            "_model_name": "HBoxModel",
            "_view_module": "@jupyter-widgets/controls",
            "_model_module_version": "1.5.0",
            "_view_count": null,
            "_view_module_version": "1.5.0",
            "box_style": "",
            "layout": "IPY_MODEL_1308e1b03e5543ea91bd882900e59bba",
            "_model_module": "@jupyter-widgets/controls",
            "children": [
              "IPY_MODEL_880b93da35f94a2f86ae8dcdb8b1bc4f",
              "IPY_MODEL_292f8dc6a71d4a2db1fb48dc60e5f363",
              "IPY_MODEL_fe40ef973acc4364a505ab4d3baee43f"
            ]
          }
        },
        "1308e1b03e5543ea91bd882900e59bba": {
          "model_module": "@jupyter-widgets/base",
          "model_name": "LayoutModel",
          "model_module_version": "1.2.0",
          "state": {
            "_view_name": "LayoutView",
            "grid_template_rows": null,
            "right": null,
            "justify_content": null,
            "_view_module": "@jupyter-widgets/base",
            "overflow": null,
            "_model_module_version": "1.2.0",
            "_view_count": null,
            "flex_flow": null,
            "width": null,
            "min_width": null,
            "border": null,
            "align_items": null,
            "bottom": null,
            "_model_module": "@jupyter-widgets/base",
            "top": null,
            "grid_column": null,
            "overflow_y": null,
            "overflow_x": null,
            "grid_auto_flow": null,
            "grid_area": null,
            "grid_template_columns": null,
            "flex": null,
            "_model_name": "LayoutModel",
            "justify_items": null,
            "grid_row": null,
            "max_height": null,
            "align_content": null,
            "visibility": null,
            "align_self": null,
            "height": null,
            "min_height": null,
            "padding": null,
            "grid_auto_rows": null,
            "grid_gap": null,
            "max_width": null,
            "order": null,
            "_view_module_version": "1.2.0",
            "grid_template_areas": null,
            "object_position": null,
            "object_fit": null,
            "grid_auto_columns": null,
            "margin": null,
            "display": null,
            "left": null
          }
        },
        "880b93da35f94a2f86ae8dcdb8b1bc4f": {
          "model_module": "@jupyter-widgets/controls",
          "model_name": "HTMLModel",
          "model_module_version": "1.5.0",
          "state": {
            "_view_name": "HTMLView",
            "style": "IPY_MODEL_21759587edbe488f87dd21e3b7d55e2d",
            "_dom_classes": [],
            "description": "",
            "_model_name": "HTMLModel",
            "placeholder": "​",
            "_view_module": "@jupyter-widgets/controls",
            "_model_module_version": "1.5.0",
            "value": "100%",
            "_view_count": null,
            "_view_module_version": "1.5.0",
            "description_tooltip": null,
            "_model_module": "@jupyter-widgets/controls",
            "layout": "IPY_MODEL_c79db8ec6bab4286bb1a2a0ec3f151f4"
          }
        },
        "292f8dc6a71d4a2db1fb48dc60e5f363": {
          "model_module": "@jupyter-widgets/controls",
          "model_name": "FloatProgressModel",
          "model_module_version": "1.5.0",
          "state": {
            "_view_name": "ProgressView",
            "style": "IPY_MODEL_6063dbe5166d40afbfa9852cf2f619c6",
            "_dom_classes": [],
            "description": "",
            "_model_name": "FloatProgressModel",
            "bar_style": "success",
            "max": 2729,
            "_view_module": "@jupyter-widgets/controls",
            "_model_module_version": "1.5.0",
            "value": 2729,
            "_view_count": null,
            "_view_module_version": "1.5.0",
            "orientation": "horizontal",
            "min": 0,
            "description_tooltip": null,
            "_model_module": "@jupyter-widgets/controls",
            "layout": "IPY_MODEL_87a849bfd45d4dbab1740a27092f0926"
          }
        },
        "fe40ef973acc4364a505ab4d3baee43f": {
          "model_module": "@jupyter-widgets/controls",
          "model_name": "HTMLModel",
          "model_module_version": "1.5.0",
          "state": {
            "_view_name": "HTMLView",
            "style": "IPY_MODEL_843169b6955c4412904365258c561ab8",
            "_dom_classes": [],
            "description": "",
            "_model_name": "HTMLModel",
            "placeholder": "​",
            "_view_module": "@jupyter-widgets/controls",
            "_model_module_version": "1.5.0",
            "value": " 2729/2729 [07:39&lt;00:00, 12.68it/s]",
            "_view_count": null,
            "_view_module_version": "1.5.0",
            "description_tooltip": null,
            "_model_module": "@jupyter-widgets/controls",
            "layout": "IPY_MODEL_378c813a9bd64d8ebd027c7894c4e85a"
          }
        },
        "21759587edbe488f87dd21e3b7d55e2d": {
          "model_module": "@jupyter-widgets/controls",
          "model_name": "DescriptionStyleModel",
          "model_module_version": "1.5.0",
          "state": {
            "_view_name": "StyleView",
            "_model_name": "DescriptionStyleModel",
            "description_width": "",
            "_view_module": "@jupyter-widgets/base",
            "_model_module_version": "1.5.0",
            "_view_count": null,
            "_view_module_version": "1.2.0",
            "_model_module": "@jupyter-widgets/controls"
          }
        },
        "c79db8ec6bab4286bb1a2a0ec3f151f4": {
          "model_module": "@jupyter-widgets/base",
          "model_name": "LayoutModel",
          "model_module_version": "1.2.0",
          "state": {
            "_view_name": "LayoutView",
            "grid_template_rows": null,
            "right": null,
            "justify_content": null,
            "_view_module": "@jupyter-widgets/base",
            "overflow": null,
            "_model_module_version": "1.2.0",
            "_view_count": null,
            "flex_flow": null,
            "width": null,
            "min_width": null,
            "border": null,
            "align_items": null,
            "bottom": null,
            "_model_module": "@jupyter-widgets/base",
            "top": null,
            "grid_column": null,
            "overflow_y": null,
            "overflow_x": null,
            "grid_auto_flow": null,
            "grid_area": null,
            "grid_template_columns": null,
            "flex": null,
            "_model_name": "LayoutModel",
            "justify_items": null,
            "grid_row": null,
            "max_height": null,
            "align_content": null,
            "visibility": null,
            "align_self": null,
            "height": null,
            "min_height": null,
            "padding": null,
            "grid_auto_rows": null,
            "grid_gap": null,
            "max_width": null,
            "order": null,
            "_view_module_version": "1.2.0",
            "grid_template_areas": null,
            "object_position": null,
            "object_fit": null,
            "grid_auto_columns": null,
            "margin": null,
            "display": null,
            "left": null
          }
        },
        "6063dbe5166d40afbfa9852cf2f619c6": {
          "model_module": "@jupyter-widgets/controls",
          "model_name": "ProgressStyleModel",
          "model_module_version": "1.5.0",
          "state": {
            "_view_name": "StyleView",
            "_model_name": "ProgressStyleModel",
            "description_width": "",
            "_view_module": "@jupyter-widgets/base",
            "_model_module_version": "1.5.0",
            "_view_count": null,
            "_view_module_version": "1.2.0",
            "bar_color": null,
            "_model_module": "@jupyter-widgets/controls"
          }
        },
        "87a849bfd45d4dbab1740a27092f0926": {
          "model_module": "@jupyter-widgets/base",
          "model_name": "LayoutModel",
          "model_module_version": "1.2.0",
          "state": {
            "_view_name": "LayoutView",
            "grid_template_rows": null,
            "right": null,
            "justify_content": null,
            "_view_module": "@jupyter-widgets/base",
            "overflow": null,
            "_model_module_version": "1.2.0",
            "_view_count": null,
            "flex_flow": null,
            "width": null,
            "min_width": null,
            "border": null,
            "align_items": null,
            "bottom": null,
            "_model_module": "@jupyter-widgets/base",
            "top": null,
            "grid_column": null,
            "overflow_y": null,
            "overflow_x": null,
            "grid_auto_flow": null,
            "grid_area": null,
            "grid_template_columns": null,
            "flex": null,
            "_model_name": "LayoutModel",
            "justify_items": null,
            "grid_row": null,
            "max_height": null,
            "align_content": null,
            "visibility": null,
            "align_self": null,
            "height": null,
            "min_height": null,
            "padding": null,
            "grid_auto_rows": null,
            "grid_gap": null,
            "max_width": null,
            "order": null,
            "_view_module_version": "1.2.0",
            "grid_template_areas": null,
            "object_position": null,
            "object_fit": null,
            "grid_auto_columns": null,
            "margin": null,
            "display": null,
            "left": null
          }
        },
        "843169b6955c4412904365258c561ab8": {
          "model_module": "@jupyter-widgets/controls",
          "model_name": "DescriptionStyleModel",
          "model_module_version": "1.5.0",
          "state": {
            "_view_name": "StyleView",
            "_model_name": "DescriptionStyleModel",
            "description_width": "",
            "_view_module": "@jupyter-widgets/base",
            "_model_module_version": "1.5.0",
            "_view_count": null,
            "_view_module_version": "1.2.0",
            "_model_module": "@jupyter-widgets/controls"
          }
        },
        "378c813a9bd64d8ebd027c7894c4e85a": {
          "model_module": "@jupyter-widgets/base",
          "model_name": "LayoutModel",
          "model_module_version": "1.2.0",
          "state": {
            "_view_name": "LayoutView",
            "grid_template_rows": null,
            "right": null,
            "justify_content": null,
            "_view_module": "@jupyter-widgets/base",
            "overflow": null,
            "_model_module_version": "1.2.0",
            "_view_count": null,
            "flex_flow": null,
            "width": null,
            "min_width": null,
            "border": null,
            "align_items": null,
            "bottom": null,
            "_model_module": "@jupyter-widgets/base",
            "top": null,
            "grid_column": null,
            "overflow_y": null,
            "overflow_x": null,
            "grid_auto_flow": null,
            "grid_area": null,
            "grid_template_columns": null,
            "flex": null,
            "_model_name": "LayoutModel",
            "justify_items": null,
            "grid_row": null,
            "max_height": null,
            "align_content": null,
            "visibility": null,
            "align_self": null,
            "height": null,
            "min_height": null,
            "padding": null,
            "grid_auto_rows": null,
            "grid_gap": null,
            "max_width": null,
            "order": null,
            "_view_module_version": "1.2.0",
            "grid_template_areas": null,
            "object_position": null,
            "object_fit": null,
            "grid_auto_columns": null,
            "margin": null,
            "display": null,
            "left": null
          }
        }
      }
    }
  },
  "cells": [
    {
      "cell_type": "markdown",
      "metadata": {
        "id": "vGhM07QwSK9I"
      },
      "source": [
        "# Resumo de Documentos - Método Extrativo\n",
        "\n",
        "Este notebook tem por objetivo desenvolver um processo capaz de produzir resumos de texto através de técnicas de NLP utilizando o método de extração."
      ]
    },
    {
      "cell_type": "markdown",
      "metadata": {
        "id": "p33n_x6mr9M1"
      },
      "source": [
        "**Origem do Dados**\n",
        "\n",
        "Os dados que utilizaremos neste trabalho será o dataset Multi News, que consiste numa série de artigos de notícias do site newser.com. Os sumários presentes no dataset foram escritos por escritores profissionalmente por editoes e incluem links para os artigos originais. Como o objeto é um sumarização extrativa, vamos extrair os textos dos artigos e deixar o sumários apresentados de lado, assim termos um novo dataest com os textos originais dos artigos.\n",
        "\n",
        "**Métricas de Avaliação**\n",
        "\n",
        "As métricas que utilizaremos nesse trabalho estão presenres no pacote ROUGE. RPOUGE contempla uma série de métricas com objetivos de avaliar tarefas de sumarização de textos e tradução em processo de NLP (Natural Languege Processing). Abaixo uma breve explicação da principais métricas que utilizaremos:\n",
        "\n",
        "- **ROUGE-N** - mede o numero de acertos de 'n-grams'entre a saida do resumo gerado pelo modelo e o texto de referência. 'n-grams' é um agrupamento de palavras/tokens. 1-gram consiste em uma única palavra, 2-gram se refere a duas palavras consecutivas, etc. ROUGE-N, N se refere ao 'n-gram' que será usado para avaliação.\n",
        "\n",
        "- **ROUGE-L** - mede a mais longa sequência (LCS) entre a saida do modelo e a referência. A ideia é que quanto mais sequências longas estão presentes no resumo gerado e no texto de referência, mais similares são estes texto.\n",
        "\n",
        "\n",
        "- **Recall** - conta o numero de n-grams concidentes encontrados na saída do modelo e no texto de referência (verdaeitos positivos) divido pelo número total de n-grams no texto de referência.\n",
        "<img src='https://miro.medium.com/max/1400/1*XEnhQJxKbEySimh1PPWPnQ.png' width=600>\n",
        "\n",
        "- **Precision** - calculado da mesmo forma que o recall, porém dividimos o número de n-grams coincidentes entre a saída do modelo e texto de referência pelo número total de n-grams da saída do modelo.\n",
        "<img src='https://miro.medium.com/max/1400/1*aSd89F6kupr3znW71Qmb3Q.png' width=600>\n",
        "\n",
        "- **F1-Score** - utuliza recall e precision para avaliar uma melhor relação entre estas:\n",
        "<img src='https://miro.medium.com/max/1400/1*zYuwaCDNpYf51H5S4DpDRA.png' width=600>\n",
        "\n",
        "\n"
      ]
    },
    {
      "cell_type": "markdown",
      "metadata": {
        "id": "X8Ct_6XDz4r6"
      },
      "source": [
        "##**1 - Preparando o Ambiente**"
      ]
    },
    {
      "cell_type": "code",
      "metadata": {
        "id": "13TmHwCNSCM0",
        "colab": {
          "base_uri": "https://localhost:8080/"
        },
        "outputId": "0415d39a-a70a-4baf-b6d3-74ed23ec1407"
      },
      "source": [
        "!pip install -U spacy"
      ],
      "execution_count": null,
      "outputs": [
        {
          "output_type": "stream",
          "name": "stdout",
          "text": [
            "Requirement already satisfied: spacy in /usr/local/lib/python3.7/dist-packages (2.2.4)\n",
            "Collecting spacy\n",
            "  Downloading spacy-3.1.4-cp37-cp37m-manylinux_2_17_x86_64.manylinux2014_x86_64.whl (5.9 MB)\n",
            "\u001b[K     |████████████████████████████████| 5.9 MB 3.9 MB/s \n",
            "\u001b[?25hCollecting thinc<8.1.0,>=8.0.12\n",
            "  Downloading thinc-8.0.12-cp37-cp37m-manylinux_2_17_x86_64.manylinux2014_x86_64.whl (628 kB)\n",
            "\u001b[K     |████████████████████████████████| 628 kB 68.7 MB/s \n",
            "\u001b[?25hRequirement already satisfied: requests<3.0.0,>=2.13.0 in /usr/local/lib/python3.7/dist-packages (from spacy) (2.23.0)\n",
            "Requirement already satisfied: cymem<2.1.0,>=2.0.2 in /usr/local/lib/python3.7/dist-packages (from spacy) (2.0.5)\n",
            "Requirement already satisfied: typing-extensions<4.0.0.0,>=3.7.4 in /usr/local/lib/python3.7/dist-packages (from spacy) (3.7.4.3)\n",
            "Requirement already satisfied: numpy>=1.15.0 in /usr/local/lib/python3.7/dist-packages (from spacy) (1.19.5)\n",
            "Requirement already satisfied: wasabi<1.1.0,>=0.8.1 in /usr/local/lib/python3.7/dist-packages (from spacy) (0.8.2)\n",
            "Collecting typer<0.5.0,>=0.3.0\n",
            "  Downloading typer-0.4.0-py3-none-any.whl (27 kB)\n",
            "Collecting spacy-legacy<3.1.0,>=3.0.8\n",
            "  Downloading spacy_legacy-3.0.8-py2.py3-none-any.whl (14 kB)\n",
            "Collecting catalogue<2.1.0,>=2.0.6\n",
            "  Downloading catalogue-2.0.6-py3-none-any.whl (17 kB)\n",
            "Requirement already satisfied: packaging>=20.0 in /usr/local/lib/python3.7/dist-packages (from spacy) (21.0)\n",
            "Requirement already satisfied: tqdm<5.0.0,>=4.38.0 in /usr/local/lib/python3.7/dist-packages (from spacy) (4.62.3)\n",
            "Requirement already satisfied: jinja2 in /usr/local/lib/python3.7/dist-packages (from spacy) (2.11.3)\n",
            "Collecting pydantic!=1.8,!=1.8.1,<1.9.0,>=1.7.4\n",
            "  Downloading pydantic-1.8.2-cp37-cp37m-manylinux2014_x86_64.whl (10.1 MB)\n",
            "\u001b[K     |████████████████████████████████| 10.1 MB 39.1 MB/s \n",
            "\u001b[?25hRequirement already satisfied: preshed<3.1.0,>=3.0.2 in /usr/local/lib/python3.7/dist-packages (from spacy) (3.0.5)\n",
            "Requirement already satisfied: murmurhash<1.1.0,>=0.28.0 in /usr/local/lib/python3.7/dist-packages (from spacy) (1.0.5)\n",
            "Collecting pathy>=0.3.5\n",
            "  Downloading pathy-0.6.1-py3-none-any.whl (42 kB)\n",
            "\u001b[K     |████████████████████████████████| 42 kB 1.2 MB/s \n",
            "\u001b[?25hRequirement already satisfied: blis<0.8.0,>=0.4.0 in /usr/local/lib/python3.7/dist-packages (from spacy) (0.4.1)\n",
            "Collecting srsly<3.0.0,>=2.4.1\n",
            "  Downloading srsly-2.4.2-cp37-cp37m-manylinux_2_17_x86_64.manylinux2014_x86_64.whl (451 kB)\n",
            "\u001b[K     |████████████████████████████████| 451 kB 50.0 MB/s \n",
            "\u001b[?25hRequirement already satisfied: setuptools in /usr/local/lib/python3.7/dist-packages (from spacy) (57.4.0)\n",
            "Requirement already satisfied: zipp>=0.5 in /usr/local/lib/python3.7/dist-packages (from catalogue<2.1.0,>=2.0.6->spacy) (3.6.0)\n",
            "Requirement already satisfied: pyparsing>=2.0.2 in /usr/local/lib/python3.7/dist-packages (from packaging>=20.0->spacy) (2.4.7)\n",
            "Requirement already satisfied: smart-open<6.0.0,>=5.0.0 in /usr/local/lib/python3.7/dist-packages (from pathy>=0.3.5->spacy) (5.2.1)\n",
            "Requirement already satisfied: urllib3!=1.25.0,!=1.25.1,<1.26,>=1.21.1 in /usr/local/lib/python3.7/dist-packages (from requests<3.0.0,>=2.13.0->spacy) (1.24.3)\n",
            "Requirement already satisfied: certifi>=2017.4.17 in /usr/local/lib/python3.7/dist-packages (from requests<3.0.0,>=2.13.0->spacy) (2021.5.30)\n",
            "Requirement already satisfied: chardet<4,>=3.0.2 in /usr/local/lib/python3.7/dist-packages (from requests<3.0.0,>=2.13.0->spacy) (3.0.4)\n",
            "Requirement already satisfied: idna<3,>=2.5 in /usr/local/lib/python3.7/dist-packages (from requests<3.0.0,>=2.13.0->spacy) (2.10)\n",
            "Requirement already satisfied: click<9.0.0,>=7.1.1 in /usr/local/lib/python3.7/dist-packages (from typer<0.5.0,>=0.3.0->spacy) (7.1.2)\n",
            "Requirement already satisfied: MarkupSafe>=0.23 in /usr/local/lib/python3.7/dist-packages (from jinja2->spacy) (2.0.1)\n",
            "Installing collected packages: catalogue, typer, srsly, pydantic, thinc, spacy-legacy, pathy, spacy\n",
            "  Attempting uninstall: catalogue\n",
            "    Found existing installation: catalogue 1.0.0\n",
            "    Uninstalling catalogue-1.0.0:\n",
            "      Successfully uninstalled catalogue-1.0.0\n",
            "  Attempting uninstall: srsly\n",
            "    Found existing installation: srsly 1.0.5\n",
            "    Uninstalling srsly-1.0.5:\n",
            "      Successfully uninstalled srsly-1.0.5\n",
            "  Attempting uninstall: thinc\n",
            "    Found existing installation: thinc 7.4.0\n",
            "    Uninstalling thinc-7.4.0:\n",
            "      Successfully uninstalled thinc-7.4.0\n",
            "  Attempting uninstall: spacy\n",
            "    Found existing installation: spacy 2.2.4\n",
            "    Uninstalling spacy-2.2.4:\n",
            "      Successfully uninstalled spacy-2.2.4\n",
            "Successfully installed catalogue-2.0.6 pathy-0.6.1 pydantic-1.8.2 spacy-3.1.4 spacy-legacy-3.0.8 srsly-2.4.2 thinc-8.0.12 typer-0.4.0\n"
          ]
        }
      ]
    },
    {
      "cell_type": "code",
      "metadata": {
        "id": "kFemV2x2Sp2X",
        "colab": {
          "base_uri": "https://localhost:8080/"
        },
        "outputId": "f4b8ef45-3816-4bb2-8031-2ab662df8a9e"
      },
      "source": [
        "# doanload all data and models\n",
        "#!sudo python -m spacy.en.download all\n",
        "!sudo python3 -m spacy download en_core_web_sm"
      ],
      "execution_count": null,
      "outputs": [
        {
          "output_type": "stream",
          "name": "stdout",
          "text": [
            "Collecting en-core-web-sm==3.1.0\n",
            "  Downloading https://github.com/explosion/spacy-models/releases/download/en_core_web_sm-3.1.0/en_core_web_sm-3.1.0-py3-none-any.whl (13.6 MB)\n",
            "\u001b[K     |████████████████████████████████| 13.6 MB 79 kB/s \n",
            "\u001b[?25hRequirement already satisfied: spacy<3.2.0,>=3.1.0 in /usr/local/lib/python3.7/dist-packages (from en-core-web-sm==3.1.0) (3.1.4)\n",
            "Requirement already satisfied: typing-extensions<4.0.0.0,>=3.7.4 in /usr/local/lib/python3.7/dist-packages (from spacy<3.2.0,>=3.1.0->en-core-web-sm==3.1.0) (3.7.4.3)\n",
            "Requirement already satisfied: typer<0.5.0,>=0.3.0 in /usr/local/lib/python3.7/dist-packages (from spacy<3.2.0,>=3.1.0->en-core-web-sm==3.1.0) (0.4.0)\n",
            "Requirement already satisfied: srsly<3.0.0,>=2.4.1 in /usr/local/lib/python3.7/dist-packages (from spacy<3.2.0,>=3.1.0->en-core-web-sm==3.1.0) (2.4.2)\n",
            "Requirement already satisfied: setuptools in /usr/local/lib/python3.7/dist-packages (from spacy<3.2.0,>=3.1.0->en-core-web-sm==3.1.0) (57.4.0)\n",
            "Requirement already satisfied: murmurhash<1.1.0,>=0.28.0 in /usr/local/lib/python3.7/dist-packages (from spacy<3.2.0,>=3.1.0->en-core-web-sm==3.1.0) (1.0.5)\n",
            "Requirement already satisfied: numpy>=1.15.0 in /usr/local/lib/python3.7/dist-packages (from spacy<3.2.0,>=3.1.0->en-core-web-sm==3.1.0) (1.19.5)\n",
            "Requirement already satisfied: pathy>=0.3.5 in /usr/local/lib/python3.7/dist-packages (from spacy<3.2.0,>=3.1.0->en-core-web-sm==3.1.0) (0.6.1)\n",
            "Requirement already satisfied: thinc<8.1.0,>=8.0.12 in /usr/local/lib/python3.7/dist-packages (from spacy<3.2.0,>=3.1.0->en-core-web-sm==3.1.0) (8.0.12)\n",
            "Requirement already satisfied: jinja2 in /usr/local/lib/python3.7/dist-packages (from spacy<3.2.0,>=3.1.0->en-core-web-sm==3.1.0) (2.11.3)\n",
            "Requirement already satisfied: packaging>=20.0 in /usr/local/lib/python3.7/dist-packages (from spacy<3.2.0,>=3.1.0->en-core-web-sm==3.1.0) (21.0)\n",
            "Requirement already satisfied: wasabi<1.1.0,>=0.8.1 in /usr/local/lib/python3.7/dist-packages (from spacy<3.2.0,>=3.1.0->en-core-web-sm==3.1.0) (0.8.2)\n",
            "Requirement already satisfied: spacy-legacy<3.1.0,>=3.0.8 in /usr/local/lib/python3.7/dist-packages (from spacy<3.2.0,>=3.1.0->en-core-web-sm==3.1.0) (3.0.8)\n",
            "Requirement already satisfied: blis<0.8.0,>=0.4.0 in /usr/local/lib/python3.7/dist-packages (from spacy<3.2.0,>=3.1.0->en-core-web-sm==3.1.0) (0.4.1)\n",
            "Requirement already satisfied: catalogue<2.1.0,>=2.0.6 in /usr/local/lib/python3.7/dist-packages (from spacy<3.2.0,>=3.1.0->en-core-web-sm==3.1.0) (2.0.6)\n",
            "Requirement already satisfied: preshed<3.1.0,>=3.0.2 in /usr/local/lib/python3.7/dist-packages (from spacy<3.2.0,>=3.1.0->en-core-web-sm==3.1.0) (3.0.5)\n",
            "Requirement already satisfied: pydantic!=1.8,!=1.8.1,<1.9.0,>=1.7.4 in /usr/local/lib/python3.7/dist-packages (from spacy<3.2.0,>=3.1.0->en-core-web-sm==3.1.0) (1.8.2)\n",
            "Requirement already satisfied: requests<3.0.0,>=2.13.0 in /usr/local/lib/python3.7/dist-packages (from spacy<3.2.0,>=3.1.0->en-core-web-sm==3.1.0) (2.23.0)\n",
            "Requirement already satisfied: tqdm<5.0.0,>=4.38.0 in /usr/local/lib/python3.7/dist-packages (from spacy<3.2.0,>=3.1.0->en-core-web-sm==3.1.0) (4.62.3)\n",
            "Requirement already satisfied: cymem<2.1.0,>=2.0.2 in /usr/local/lib/python3.7/dist-packages (from spacy<3.2.0,>=3.1.0->en-core-web-sm==3.1.0) (2.0.5)\n",
            "Requirement already satisfied: zipp>=0.5 in /usr/local/lib/python3.7/dist-packages (from catalogue<2.1.0,>=2.0.6->spacy<3.2.0,>=3.1.0->en-core-web-sm==3.1.0) (3.6.0)\n",
            "Requirement already satisfied: pyparsing>=2.0.2 in /usr/local/lib/python3.7/dist-packages (from packaging>=20.0->spacy<3.2.0,>=3.1.0->en-core-web-sm==3.1.0) (2.4.7)\n",
            "Requirement already satisfied: smart-open<6.0.0,>=5.0.0 in /usr/local/lib/python3.7/dist-packages (from pathy>=0.3.5->spacy<3.2.0,>=3.1.0->en-core-web-sm==3.1.0) (5.2.1)\n",
            "Requirement already satisfied: chardet<4,>=3.0.2 in /usr/local/lib/python3.7/dist-packages (from requests<3.0.0,>=2.13.0->spacy<3.2.0,>=3.1.0->en-core-web-sm==3.1.0) (3.0.4)\n",
            "Requirement already satisfied: urllib3!=1.25.0,!=1.25.1,<1.26,>=1.21.1 in /usr/local/lib/python3.7/dist-packages (from requests<3.0.0,>=2.13.0->spacy<3.2.0,>=3.1.0->en-core-web-sm==3.1.0) (1.24.3)\n",
            "Requirement already satisfied: certifi>=2017.4.17 in /usr/local/lib/python3.7/dist-packages (from requests<3.0.0,>=2.13.0->spacy<3.2.0,>=3.1.0->en-core-web-sm==3.1.0) (2021.5.30)\n",
            "Requirement already satisfied: idna<3,>=2.5 in /usr/local/lib/python3.7/dist-packages (from requests<3.0.0,>=2.13.0->spacy<3.2.0,>=3.1.0->en-core-web-sm==3.1.0) (2.10)\n",
            "Requirement already satisfied: click<9.0.0,>=7.1.1 in /usr/local/lib/python3.7/dist-packages (from typer<0.5.0,>=0.3.0->spacy<3.2.0,>=3.1.0->en-core-web-sm==3.1.0) (7.1.2)\n",
            "Requirement already satisfied: MarkupSafe>=0.23 in /usr/local/lib/python3.7/dist-packages (from jinja2->spacy<3.2.0,>=3.1.0->en-core-web-sm==3.1.0) (2.0.1)\n",
            "Installing collected packages: en-core-web-sm\n",
            "  Attempting uninstall: en-core-web-sm\n",
            "    Found existing installation: en-core-web-sm 2.2.5\n",
            "    Uninstalling en-core-web-sm-2.2.5:\n",
            "      Successfully uninstalled en-core-web-sm-2.2.5\n",
            "Successfully installed en-core-web-sm-3.1.0\n",
            "\u001b[38;5;2m✔ Download and installation successful\u001b[0m\n",
            "You can now load the package via spacy.load('en_core_web_sm')\n"
          ]
        }
      ]
    },
    {
      "cell_type": "code",
      "metadata": {
        "colab": {
          "base_uri": "https://localhost:8080/"
        },
        "id": "EDlloxbFkIhI",
        "outputId": "874952c6-eabe-4b56-d2f0-c53645ade745"
      },
      "source": [
        "# instalando nltk, tool kit para trabalhos com nlp\n",
        "!pip install nltk"
      ],
      "execution_count": null,
      "outputs": [
        {
          "output_type": "stream",
          "name": "stdout",
          "text": [
            "Requirement already satisfied: nltk in /usr/local/lib/python3.7/dist-packages (3.2.5)\n",
            "Requirement already satisfied: six in /usr/local/lib/python3.7/dist-packages (from nltk) (1.15.0)\n"
          ]
        }
      ]
    },
    {
      "cell_type": "code",
      "metadata": {
        "id": "CvLt5NA5Po50"
      },
      "source": [
        "# download tokenized final cleaned\n",
        "# !gdown --id 1YXkF_ugMx1HYCBBYF7VKq0Lujzif1JES"
      ],
      "execution_count": null,
      "outputs": []
    },
    {
      "cell_type": "code",
      "metadata": {
        "id": "rYjk7KNlSLmz",
        "colab": {
          "base_uri": "https://localhost:8080/"
        },
        "outputId": "70afb69f-b3a2-49d9-f938-d7b5b7312321"
      },
      "source": [
        "# bibliotecas de datasets do tensorflow de onde baixaremos o\n",
        "# dataset Multi News\n",
        "!pip install tensorflow-datasets"
      ],
      "execution_count": null,
      "outputs": [
        {
          "output_type": "stream",
          "name": "stdout",
          "text": [
            "Requirement already satisfied: tensorflow-datasets in /usr/local/lib/python3.7/dist-packages (4.0.1)\n",
            "Requirement already satisfied: attrs>=18.1.0 in /usr/local/lib/python3.7/dist-packages (from tensorflow-datasets) (21.2.0)\n",
            "Requirement already satisfied: future in /usr/local/lib/python3.7/dist-packages (from tensorflow-datasets) (0.16.0)\n",
            "Requirement already satisfied: absl-py in /usr/local/lib/python3.7/dist-packages (from tensorflow-datasets) (0.12.0)\n",
            "Requirement already satisfied: dm-tree in /usr/local/lib/python3.7/dist-packages (from tensorflow-datasets) (0.1.6)\n",
            "Requirement already satisfied: protobuf>=3.6.1 in /usr/local/lib/python3.7/dist-packages (from tensorflow-datasets) (3.17.3)\n",
            "Requirement already satisfied: importlib-resources in /usr/local/lib/python3.7/dist-packages (from tensorflow-datasets) (5.2.2)\n",
            "Requirement already satisfied: six in /usr/local/lib/python3.7/dist-packages (from tensorflow-datasets) (1.15.0)\n",
            "Requirement already satisfied: numpy in /usr/local/lib/python3.7/dist-packages (from tensorflow-datasets) (1.19.5)\n",
            "Requirement already satisfied: tqdm in /usr/local/lib/python3.7/dist-packages (from tensorflow-datasets) (4.62.3)\n",
            "Requirement already satisfied: tensorflow-metadata in /usr/local/lib/python3.7/dist-packages (from tensorflow-datasets) (1.2.0)\n",
            "Requirement already satisfied: dill in /usr/local/lib/python3.7/dist-packages (from tensorflow-datasets) (0.3.4)\n",
            "Requirement already satisfied: termcolor in /usr/local/lib/python3.7/dist-packages (from tensorflow-datasets) (1.1.0)\n",
            "Requirement already satisfied: requests>=2.19.0 in /usr/local/lib/python3.7/dist-packages (from tensorflow-datasets) (2.23.0)\n",
            "Requirement already satisfied: promise in /usr/local/lib/python3.7/dist-packages (from tensorflow-datasets) (2.3)\n",
            "Requirement already satisfied: idna<3,>=2.5 in /usr/local/lib/python3.7/dist-packages (from requests>=2.19.0->tensorflow-datasets) (2.10)\n",
            "Requirement already satisfied: certifi>=2017.4.17 in /usr/local/lib/python3.7/dist-packages (from requests>=2.19.0->tensorflow-datasets) (2021.5.30)\n",
            "Requirement already satisfied: urllib3!=1.25.0,!=1.25.1,<1.26,>=1.21.1 in /usr/local/lib/python3.7/dist-packages (from requests>=2.19.0->tensorflow-datasets) (1.24.3)\n",
            "Requirement already satisfied: chardet<4,>=3.0.2 in /usr/local/lib/python3.7/dist-packages (from requests>=2.19.0->tensorflow-datasets) (3.0.4)\n",
            "Requirement already satisfied: zipp>=3.1.0 in /usr/local/lib/python3.7/dist-packages (from importlib-resources->tensorflow-datasets) (3.6.0)\n",
            "Requirement already satisfied: googleapis-common-protos<2,>=1.52.0 in /usr/local/lib/python3.7/dist-packages (from tensorflow-metadata->tensorflow-datasets) (1.53.0)\n"
          ]
        }
      ]
    },
    {
      "cell_type": "code",
      "metadata": {
        "id": "c0KdbGPOZ5MY"
      },
      "source": [
        "import pandas as pd\n",
        "import tensorflow as tf\n",
        "import tensorflow_datasets as tfds\n",
        "\n",
        "from tqdm.notebook import tqdm_notebook\n",
        "tqdm_notebook.pandas()\n",
        "# usar .progress_apply() instead apply()"
      ],
      "execution_count": null,
      "outputs": []
    },
    {
      "cell_type": "markdown",
      "metadata": {
        "id": "o30bEXAsTB5f"
      },
      "source": [
        "##**2 - Obtendo e Preparando os Dados**"
      ]
    },
    {
      "cell_type": "markdown",
      "metadata": {
        "id": "AK1xNGJe0Ofx"
      },
      "source": [
        "###**2.1 - Baixando o dataset**"
      ]
    },
    {
      "cell_type": "markdown",
      "metadata": {
        "id": "WLtHaafalKM3"
      },
      "source": [
        "Para permitir executar o processo de forma parcial, vamos definir duas varíaveis: uma para indicar que queremos processar o dataset parcialmente e outra para informar o tamanho da amosta. Para o processamento completo basta definir o parametro ONLY_SAMPLE para False."
      ]
    },
    {
      "cell_type": "code",
      "metadata": {
        "id": "SRSinQb6lQUg"
      },
      "source": [
        "ONLY_SAMPLE = True\n",
        "SAMPLE_SIZE = 1000"
      ],
      "execution_count": null,
      "outputs": []
    },
    {
      "cell_type": "code",
      "metadata": {
        "colab": {
          "base_uri": "https://localhost:8080/",
          "height": 365,
          "referenced_widgets": [
            "15706bd50508435eae375ae9ab89720e",
            "124aaff5fca740c2b6c4317a3cc29ebd",
            "f6ca248807e3474f87928f1bada381bb",
            "1a6a9cf005ce49e89816a0fed8c79f6b",
            "cec1ac54a05c47bfa986eed41b25a2ac",
            "fcb35de5e6304f57aa93bf796f5a6a99",
            "57a9149a34524d2b9af72f03ad7b0e5a",
            "6bbba8cf06bb4f09947b01448fada757",
            "6c89967eff3b4d26a025634995b37a4a",
            "fc5b8a943a744505b6073f744ba2891c",
            "20d788152b14415183619b1c82fdbf13",
            "9e5d0229ac69413d9d59758f6ecfc46b",
            "206e6c5df604435199dc98f6acd51f38",
            "2efc5620356d40a6a982d9fb24414c18",
            "eeba5574ba7548f5ac9b4d8ebb9bda7a",
            "4f966cbe315345e9b84e906880ae8df6",
            "ff8eb5a01e064a41ae665fe2448b1a17",
            "6cbaa1aef59f41ee805b94df21746943",
            "c6b35198135b40eabeee3d1f2c4fdb25",
            "d7ff9e997fc14273b472e7976909cbe0",
            "3416b25a672240f1ac7ee46d7f4db352",
            "541470458da74e4688f675f6553cbd43",
            "7f1dd699e7ec45eba895e122f89d0b1c",
            "ac28ac0f1df24e2ba86f935a2d49c48d",
            "631da6adf49f48bdb86dd1db6026ac7c",
            "e04ac55afda5499b9c5da14918621a48",
            "78106fa2981f4cc0b180140e82493432",
            "d43a196c9a30429fa07073f3ad58fb5b",
            "5fdaa5daa4db4f24bff4f5005f80342e",
            "ed17c1b340de43c7af020af0b72c53c9",
            "3032d2ba439f4ee3b5b80209d290b766",
            "b1a150b5e6e2425c946ecf62e48fc078",
            "3fcc2bb3f00345b29ece8cf8c5df1a7a",
            "38d15f75f2e1426ca6dc4dabdd1743a4",
            "e05d0b1ae99849909294898f6ac51c79",
            "e7178f89a00b49d5b131fb8e64bd5461",
            "65d23e4503864a45a83f99674fd52064",
            "57dd5ecaa3d047a6962b09d32923eef2",
            "0b810478cbee45aa87db17494eca8e2f",
            "6b214d8463e44a16a56ce73a24e5fe82",
            "6f480073947b4d4eb9e37e887a62d7fd",
            "307ab00a023143aa88dbe999a5dfb0e6",
            "3879f5ce06d448b9be6547749ec361e9",
            "78b7a405a0204826a4af7953d7891a15",
            "37ecdb77ee8a479fab09174935fa5923",
            "9b07bc14a6de42c3acef79b570f77737",
            "6ab90339681a4e008d1a70411a6271e8",
            "0f86d68ef9c949c09886f653fcd43a2f",
            "f826bf042e1d41939dbe7a0316772c28",
            "e20348d6befe483a8579817402e69408",
            "27a03778179744a491fcacaa043a0da5",
            "1fb97cf241d34dd49d3b32debd442cb9",
            "6ed5034de35547199a628494ba4f7bc3",
            "dfe1b095fafc41aa890038ec9ff9d5a5",
            "92bbb3355c2149c4a9505ad52e10370a",
            "366134b85fca48b3ad54b4946fae7059",
            "11f6df4285c4473bb119a468c2472454",
            "c6ee9173611c4ec78a6d5d2c57d83a2c",
            "3a15df3229354df389ec2b3d2c99ef0b",
            "f6285e4a911d423fb79477902ab26eb3",
            "77398b654cd540b48e1c29861b6c759f",
            "fac515e4a7d648ca9c9acaa41f14dbb0",
            "3d6885a44209460189d796737d443281",
            "baddf960aa434f9bbebf17d6a86f199b",
            "578d751f143a4b1abdf60d568eb049fb",
            "c2a1c14db5284a118b5b95c31d704d1e",
            "7e70383b0643431b8b37e36a346894fe",
            "9a66510b2e8f4726a4c09a14552824f8",
            "800f489abc94466ab4dddca6c71f9953",
            "07ed6def5f1048d69946b03ec050f69d",
            "74f1a813834d4ff68dcc723195606edb",
            "37a8665fd9af4ecfa2152a814ff6903d",
            "3d263e43de2c4dc2a5c072e303c10733",
            "0f0af63e44dc4dd79204dc21a5a1e105",
            "139c8fb133f14c8fa72e9d29205d287f",
            "94e045bb900f43c99b2378cf46f1c073",
            "9084cf0ea25b4cbd9e772133a1eb742a",
            "b2703d31d9414c63b29237d00ef423bb",
            "37ad9102100c447c895c8c14aa4f1af4",
            "f4b008019d914360ae0236d010f153ab",
            "a736363b99f4479ab6a48606e2bc4d20",
            "e64957da657447eda2ed5d9d611c58f7",
            "41b953ba2e5441fea25aa4bffedd2f76",
            "e11e6088282e4e7586dce6d24673c640",
            "04bae90e52b84f8e81bec83d5234d9bf",
            "1489044ffee54da48a7b34823ab90793",
            "3b8ab016dc174bd3868da7e0f9f9c5b1",
            "67c6fc149225415f83d82d25ab6bd957",
            "e62a1ce7aafb4be7b1a96800c04b1f4d",
            "ad5141f42f7f4ec882b76ee31d128811",
            "a6ccc1e090e4406f9ef973189e8b16dc",
            "7d3302b3944b45a7adfbd8a78c640a72",
            "508ffc29d7984615b3365bde19a806a4",
            "3f57b640a70249fdbda463c49b954a21",
            "c474e9ab33b74861b744088a9339d81f",
            "b9a43bf9d80e4ba88d98e317594cb1a8",
            "2af2efe98a3c4399ab87500943c12517",
            "111fce7a76e3471685828b7eff415c0d",
            "9ffb4288dccb4d6fae9f6781e92758a3"
          ]
        },
        "id": "UdiN8zY3SNNc",
        "outputId": "0ddfaa9f-f7c4-4046-8c06-513f6805f6eb"
      },
      "source": [
        "# carregando dataset Multi News\n",
        "ds = tfds.load('multi_news', split='train',data_dir='./data/', shuffle_files=False)\n",
        "assert isinstance(ds, tf.data.Dataset)"
      ],
      "execution_count": null,
      "outputs": [
        {
          "output_type": "stream",
          "name": "stdout",
          "text": [
            "\u001b[1mDownloading and preparing dataset multi_news/1.0.0 (download: 245.06 MiB, generated: Unknown size, total: 245.06 MiB) to ./data/multi_news/1.0.0...\u001b[0m\n"
          ]
        },
        {
          "output_type": "display_data",
          "data": {
            "application/vnd.jupyter.widget-view+json": {
              "model_id": "15706bd50508435eae375ae9ab89720e",
              "version_minor": 0,
              "version_major": 2
            },
            "text/plain": [
              "Dl Completed...: 0 url [00:00, ? url/s]"
            ]
          },
          "metadata": {}
        },
        {
          "output_type": "display_data",
          "data": {
            "application/vnd.jupyter.widget-view+json": {
              "model_id": "9e5d0229ac69413d9d59758f6ecfc46b",
              "version_minor": 0,
              "version_major": 2
            },
            "text/plain": [
              "Dl Size...: 0 MiB [00:00, ? MiB/s]"
            ]
          },
          "metadata": {}
        },
        {
          "output_type": "display_data",
          "data": {
            "application/vnd.jupyter.widget-view+json": {
              "model_id": "7f1dd699e7ec45eba895e122f89d0b1c",
              "version_minor": 0,
              "version_major": 2
            },
            "text/plain": [
              "Extraction completed...: 0 file [00:00, ? file/s]"
            ]
          },
          "metadata": {}
        },
        {
          "output_type": "stream",
          "name": "stdout",
          "text": [
            "\n",
            "\n",
            "\n"
          ]
        },
        {
          "output_type": "display_data",
          "data": {
            "application/vnd.jupyter.widget-view+json": {
              "model_id": "38d15f75f2e1426ca6dc4dabdd1743a4",
              "version_minor": 0,
              "version_major": 2
            },
            "text/plain": [
              "0 examples [00:00, ? examples/s]"
            ]
          },
          "metadata": {}
        },
        {
          "output_type": "stream",
          "name": "stdout",
          "text": [
            "Shuffling and writing examples to ./data/multi_news/1.0.0.incomplete0X4N82/multi_news-train.tfrecord\n"
          ]
        },
        {
          "output_type": "display_data",
          "data": {
            "application/vnd.jupyter.widget-view+json": {
              "model_id": "37ecdb77ee8a479fab09174935fa5923",
              "version_minor": 0,
              "version_major": 2
            },
            "text/plain": [
              "  0%|          | 0/44972 [00:00<?, ? examples/s]"
            ]
          },
          "metadata": {}
        },
        {
          "output_type": "display_data",
          "data": {
            "application/vnd.jupyter.widget-view+json": {
              "model_id": "366134b85fca48b3ad54b4946fae7059",
              "version_minor": 0,
              "version_major": 2
            },
            "text/plain": [
              "0 examples [00:00, ? examples/s]"
            ]
          },
          "metadata": {}
        },
        {
          "output_type": "stream",
          "name": "stdout",
          "text": [
            "Shuffling and writing examples to ./data/multi_news/1.0.0.incomplete0X4N82/multi_news-validation.tfrecord\n"
          ]
        },
        {
          "output_type": "display_data",
          "data": {
            "application/vnd.jupyter.widget-view+json": {
              "model_id": "7e70383b0643431b8b37e36a346894fe",
              "version_minor": 0,
              "version_major": 2
            },
            "text/plain": [
              "  0%|          | 0/5622 [00:00<?, ? examples/s]"
            ]
          },
          "metadata": {}
        },
        {
          "output_type": "display_data",
          "data": {
            "application/vnd.jupyter.widget-view+json": {
              "model_id": "b2703d31d9414c63b29237d00ef423bb",
              "version_minor": 0,
              "version_major": 2
            },
            "text/plain": [
              "0 examples [00:00, ? examples/s]"
            ]
          },
          "metadata": {}
        },
        {
          "output_type": "stream",
          "name": "stdout",
          "text": [
            "Shuffling and writing examples to ./data/multi_news/1.0.0.incomplete0X4N82/multi_news-test.tfrecord\n"
          ]
        },
        {
          "output_type": "display_data",
          "data": {
            "application/vnd.jupyter.widget-view+json": {
              "model_id": "e62a1ce7aafb4be7b1a96800c04b1f4d",
              "version_minor": 0,
              "version_major": 2
            },
            "text/plain": [
              "  0%|          | 0/5622 [00:00<?, ? examples/s]"
            ]
          },
          "metadata": {}
        },
        {
          "output_type": "stream",
          "name": "stdout",
          "text": [
            "\u001b[1mDataset multi_news downloaded and prepared to ./data/multi_news/1.0.0. Subsequent calls will reuse this data.\u001b[0m\n"
          ]
        }
      ]
    },
    {
      "cell_type": "code",
      "metadata": {
        "colab": {
          "base_uri": "https://localhost:8080/"
        },
        "id": "hfmUa6SVajnG",
        "outputId": "fd01d288-4485-469c-cabc-18fbcaa7f833"
      },
      "source": [
        "# Verificando o tamanho do dataset\n",
        "tfds.as_dataframe(ds).shape\n",
        "# 44972, 2 -> 44972 conjuntos de arquivos"
      ],
      "execution_count": null,
      "outputs": [
        {
          "data": {
            "text/plain": [
              "(44972, 2)"
            ]
          },
          "execution_count": 8,
          "metadata": {},
          "output_type": "execute_result"
        }
      ]
    },
    {
      "cell_type": "markdown",
      "metadata": {
        "id": "y6mQhN2HRcJ9"
      },
      "source": [
        "O dataset apresenta 44.972 conjuntos de artigos com seus respectivos resumos. Os datasets do tensoflow são tensor de bytes, assim, é necessário decodificar as featues de texto para o encode utf-8. Dessa forma termos os caratetes corretos do texto original."
      ]
    },
    {
      "cell_type": "code",
      "metadata": {
        "colab": {
          "base_uri": "https://localhost:8080/"
        },
        "id": "JZcYt2T0Qad9",
        "outputId": "10f32a1d-aef5-49d5-876a-27aea9b0782f"
      },
      "source": [
        "# carrega o datafarce como pandas dataframe  e transforma \n",
        "# decodificando as features para utf-8\n",
        "if ONLY_SAMPLE:\n",
        "    df_news = tfds.as_dataframe(ds.take(SAMPLE_SIZE))\n",
        "else:\n",
        "    df_news = tfds.as_dataframe(ds)\n",
        "df_news['document'] = df_news['document'].str.decode('utf-8')\n",
        "df_news['summary'] = df_news['summary'].str.decode('utf-8')\n",
        "df_news.shape"
      ],
      "execution_count": null,
      "outputs": [
        {
          "output_type": "execute_result",
          "data": {
            "text/plain": [
              "(1000, 2)"
            ]
          },
          "metadata": {},
          "execution_count": 18
        }
      ]
    },
    {
      "cell_type": "markdown",
      "metadata": {
        "id": "3x4N06mxdZre"
      },
      "source": [
        "Temos 44.972 conjuntos apontando para um subconjunto de artigos com um resumo. O número de artigos em cada item do dataset é variado."
      ]
    },
    {
      "cell_type": "code",
      "metadata": {
        "id": "nxuwsf0rWm8w"
      },
      "source": [
        "# Criando um dataset de amostra para testes\n",
        "df_sample = tfds.as_dataframe(ds.take(2))\n",
        "df_sample['document'] = df_sample['document'].str.decode('utf-8')\n",
        "df_sample['summary'] = df_sample['summary'].str.decode('utf-8')"
      ],
      "execution_count": null,
      "outputs": []
    },
    {
      "cell_type": "markdown",
      "metadata": {
        "id": "pdo6KuDjx8CT"
      },
      "source": [
        "Inspecionando os dois primeiros itens do dataset"
      ]
    },
    {
      "cell_type": "code",
      "metadata": {
        "colab": {
          "base_uri": "https://localhost:8080/",
          "height": 154
        },
        "id": "FMcNJHOxQ3rO",
        "outputId": "d0d73683-21a5-4540-aded-fb94fecfbde5"
      },
      "source": [
        "df_news.document[0]"
      ],
      "execution_count": null,
      "outputs": [
        {
          "output_type": "execute_result",
          "data": {
            "application/vnd.google.colaboratory.intrinsic+json": {
              "type": "string"
            },
            "text/plain": [
              "'Flag Flap Underscores Trump\\'s Strained Relationship With McCain \\n  \\n Enlarge this image toggle caption Mandel Ngan/AFP/Getty Images Mandel Ngan/AFP/Getty Images \\n  \\n Updated at 9:37 p.m. ET \\n  \\n The beginning of the national memorial for Sen. John McCain, R-Ariz., has been marred by a fight over a sign of public respect, as President Trump initially avoided issuing a proclamation to lower flags to half-staff at all federal properties in McCain\\'s honor. \\n  \\n Flags were lowered at government buildings across Washington and across the country Saturday evening after McCain died, as is standard practice for a sitting member of Congress. \\n  \\n But on Monday morning the flag atop the White House was back at full-staff, causing some to ask whether Trump\\'s strained relationship with McCain had played into the decision to not keep it lowered. The lack of a proclamation was viewed by some as a disrespectful act reflecting the president\\'s dislike for McCain, which Trump continued to express publicly, even as recently as last week. \\n  \\n Hours after reporters questioned the White House about the move and the president ignored multiple press attempts to ask his reaction to McCain\\'s death, the White House flag was eventually lowered to half-staff Monday afternoon. \\n  \\n Trump said in a statement released shortly afterward: \"Despite our differences on policy and politics, I respect Senator John McCain\\'s service to our country and, in his honor, have signed a proclamation to fly the flag of the United States at half-staff until the day of his interment.\" \\n  \\n Until that point, Trump had not issued a formal statement on McCain or commented on his service to the country, instead tweeting brief condolences Saturday to the senator\\'s family. \\n  \\n Later Monday evening at a dinner with evangelical leaders, Trump made his first public comments since the senator\\'s death Saturday. \"We very much appreciate everything that Senator McCain has done for our country,\" the president said. \\n  \\n \"Our hearts and prayers are going to the family,\" Trump also said, echoing his tweet. \"There\\'s going to be a lot of activity over the next number of days.\" \\n  \\n The dust-up over the flag was viewed as particularly insulting by veterans. McCain was a retired captain in the Navy and the son and grandson of two four-star Navy admirals. He was held for 5 1/2 years as a prisoner of war in Vietnam after the attack aircraft he was piloting was shot down during a bombing raid over Hanoi. He was tortured but refused early release because it would have meant leaving ahead of other soldiers who had been captured before him. \\n  \\n American Legion National Commander Denise Rohan issued a letter before Trump\\'s late afternoon written statement, appealing to the president to follow the custom he had used in recent deaths of national figures. \\n  \\n \"The American Legion urges the White House to follow long-established protocol following the death of prominent government officials,\" she wrote. \"Mr. President, just this year, you released presidential proclamations noting the deaths of Barbara Bush and Billy Graham. Senator John McCain was an American hero and cherished member of The American Legion.\" \\n  \\n The veterans group AMVETS also issued a statement calling the president\\'s actions since McCain\\'s death deeply disappointing. \\n  \\n \"It\\'s outrageous that the White House would mark American hero John McCain\\'s death with a two-sentence tweet, making no mention of his heroic and inspiring life,\" said AMVETS National Executive Director Joe Chenelly. \"And by lowering flags for not one second more than the bare minimum required by law, despite a long-standing tradition of lowering flags until the funeral, the White House is openly showcasing its blatant disrespect for Senator McCain\\'s many decades of service and sacrifice to our country as well as the service of all his fellow veterans.\" \\n  \\n And in what could be viewed as a subtle slap at Trump, the Canadian Embassy in Washington also posted a picture showing that it had lowered its flag to honor McCain. \\n  \\n \" Senator John McCain was a long-serving U.S. Senator, naval officer, strong advocate for NATO, and a good friend to Canada. The flag at the Embassy has been lowered to half-mast in his honour,\" the embassy tweeted. \\n  \\n This week McCain will lie in state in both the U.S. and Arizona capitols and will be memorialized at a funeral at his family\\'s church in Phoenix and at a service at the National Cathedral in Washington, D.C. He will be buried at the cemetery at the U.S. Naval Academy in Annapolis, Md., on Sunday. \\n  \\n According to the U.S. Code, the rules for a member of Congress state that flags are to be lowered on the day of the death plus one additional day. In other instances the White House has issued a proclamation extending the period to keep the flags at half-staff. \\n  \\n It was no secret that the president and McCain frequently clashed. The Washington Post reported that when White House press secretary Sarah Sanders and other officials initially prepared a statement in Trump\\'s name praising McCain, the president rejected that plan, opting instead for his Saturday tweet. \\n  \\n Senate Majority Leader Mitch McConnell, R-Ky., and Senate Minority Leader Chuck Schumer, D-N.Y., sent a joint letter to the Department of Defense on Sunday requesting that flags \"at all government buildings and installations\" remain at half-staff through McCain\\'s burial on Sunday. \\n  \\n \"We\\'ve received the letter and we\\'ll be working with Senator Schumer and Senator McConnell,\" said Tom Crosson, a Pentagon spokesman. But with the White House proclamation issued late on Monday, the Pentagon can point to that as the directive responsive to the congressional request. \\n  \\n NPR\\'s Tom Bowman contributed to this report. ||||| Tension between President Donald Trump and Sen. John McCain made an already sorrowful moment even more strained for Republican senators, like Bob Corker (pictured), returning to the Capitol on Monday. | Toya Sarno Jordan/Getty Images GOP senators ding White House over McCain flag dust-up \\'I think all of us are focused on the good of John McCain, and not the pettiness of others. I’ll just leave it at that,\\' says Sen. Bob Corker. \\n  \\n President Donald Trump\\'s delay in honoring the late Sen. John McCain left some Republican senators questioning on Monday why the president failed to lower the White House flag to half-staff sooner. \\n  \\n Trump’s proclamation Monday to order the White House flag to half-staff in McCain’s honor — after a raising of the flag on Monday morning drew criticism from veterans groups — left even some of the president’s congressional GOP allies scratching their heads. As Americans on both sides of the aisle came together to mourn McCain, the move seemed to strike the late Arizona senator’s bereaved Republican colleagues as a needless unforced error. \\n  \\n Story Continued Below \\n  \\n Sen. Orrin Hatch (R-Utah) said the Monday flap over White House flags rising while Capitol flags remained at half-staff for McCain “should not have happened.” \\n  \\n “That should have been automatic,” Hatch told reporters. “You do things that are sensible. And sensitive.” \\n  \\n Although official code governing the display of the flag calls for a lowering to half-staff for one full day after a member of Congress dies, which the White House had done following McCain’s death on Saturday, usual protocol for particularly high-ranking public officials has involved keeping the flag lowered until the day of interment. \\n  \\n Trump signed a proclamation making that happen on Monday afternoon, only after veterans groups had begun speaking out — and began his statement with an acknowledgment of his and McCain’s “differences on policy and politics.” After tangling with Trump during the 2016 campaign, McCain was unafraid to openly challenge Trump’s agenda and view of the world, including an implicit jab at the president in a farewell statement released publicly on Monday. \\n  \\n Sign up here for POLITICO Huddle A daily play-by-play of congressional news in your inbox. Email Sign Up By signing up you agree to receive email newsletters or alerts from POLITICO. You can unsubscribe at any time. \\n  \\n Trump declined to answer repeated questions from White House reporters about McCain earlier on Monday, but later appeared to warm to honoring the late senator yet again during a dinner with evangelical leaders. “We very much appreciate everything that Sen. McCain has done for our country,\" Trump said, according to a pool report. \\n  \\n That tension between Trump and McCain made an already sorrowful moment even tenser for Republican senators returning to the Capitol on Monday. \\n  \\n “I could not understand why the administration had the flag lowered for such a brief period of time,” Sen. Susan Collins (R-Maine) said. \\n  \\n Asked whether Trump was letting his strained relationship with the late six-term Arizonan get in the way of honoring McCain, Collins added: “It certainly looks that way, but I can’t speak for his motive. I’m just glad that the decision’s been reversed.” \\n  \\n Sen. Cory Gardner (R-Colo.), chief of the GOP Conference’s campaign arm, declined to address the White House’s decision-making on the flag and tried to pull the conversation back to McCain. \\n  \\n “I’m not going to get into that,” Gardner said. “What I am going to say is, this week is about John McCain, his legacy, his lifetime of service to this country.” \\n  \\n Sen. Shelley Moore Capito (R-W.Va.) readily volunteered that she was glad to see the White House return the flags to half-staff. \\n  \\n “I mean, come on, he’s a national hero, much-beloved, and I’m pleased that we’re doing the right thing,” Capito said, circling back to clarify that “I shouldn’t say ‘we’ — the right thing is being done.” \\n  \\n Trump’s proclamation on raising the White House flag came soon after Senate Majority Leader Mitch McConnell (R-Ky.) and Minority Leader Chuck Schumer (D-N.Y.), who each delivered heartfelt speeches in McCain’s honor Monday, asked the Pentagon for assistance in flying flags at half-staff on all government buildings. The Senate also unanimously passed a resolution in McCain’s honor late Monday. \\n  \\n Both McConnell and Schumer are scheduled to deliver remarks Friday at a ceremony in honor of McCain, who will lie in state in the Capitol Rotunda. Vice President Mike Pence is slated to speak on behalf of the administration, while Trump will stay away from both that event and McCain’s Saturday memorial service in Washington. \\n  \\n Schumer has proposed renaming the Russell Senate Office Building, where McCain’s office was located, in honor of the late GOP presidential nominee and decorated veteran. McConnell has yet to fully endorse that idea, saying Monday that he would consult with fellow senators on it. But Sen. Jeff Flake (R-Ariz.) signed on as a cosponsor of Schumer’s plan, and other Republicans signaled potential support. \\n  \\n “I think I’d be in favor of naming almost any building for McCain,” Sen. Chuck Grassley (R-Iowa) told reporters, “but I’m not sure that I want to make a decision on a specific building at this point.” \\n  \\n Although the late former Sen. Richard Russell (D-Ga.) “is somebody that was obviously a huge figure,” Sen. Bob Corker (R-Tenn.) said, “it is an era that’s gone by.” Speculating about potential opposition to the renaming, Corker quipped that “I don’t know who would want to vote against naming a building after somebody who just passed.” \\n  \\n The Foreign Relations chairman also offered a subtle jab at Trump when asked about the White House’s stumble on honoring McCain with the flag at half-staff. \\n  \\n “I think all of us are focused on the good of John McCain, and not the pettiness of others,” Corker said. “I’ll just leave it at that.” \\n  \\n John Bresnahan contributed to this report. \\n  \\n CORRECTION: An initial version of this story incorrectly identified the party of former Sen. Richard Russell. ||||| After ignoring repeated questions all day about whether he would say anything about his political nemesis, John McCain, President Donald Trump finally spoke about him Monday evening, saying \"our hearts and prayers are going to the family of Senator John McCain ... and we very much appreciate everything Sen. McCain has done for our country.\" \\n  \\n Interested in John McCain? Add John McCain as an interest to stay up to date on the latest John McCain news, video, and analysis from ABC News. Add Interest \\n  \\n The president was speaking to a dinner with evangelical leaders. He extended prayers and condolences to the victims of the Jacksonville, Florida shooting as well. \\n  \\n The president\\'s comments came a few hours after the White House abruptly returned its flag to half-staff Monday afternoon in honor of the late senator. Trump had ignored questions about McCain in the Oval Office Monday morning and at other events as well. \\n  \\n The president issued a statement Monday afternoon explaining why the flag was again lowered -- after facing widespread criticism for not keeping it at half-staff. \\n  \\n Leah Millis/Reuters \\n  \\n \"Despite our differences on policy and politics, I respect Senator John McCain’s service to our country and, in his honor, have signed a proclamation to fly the flag of the United States at half-staff until the day of his interment,\" the president said. \\n  \\n \"I have asked Vice President Mike Pence to offer an address at the ceremony honoring Senator McCain at the United States Capitol this Friday,\" the statement continued. \\n  \\n \"At the request of the McCain family, I have also authorized military transportation of Senator McCain’s remains from Arizona to Washington, D.C., military pallbearers and band support, and a horse and caisson transport during the service at the United States Naval Academy. Finally, I have asked General John Kelly, Secretary James Mattis, and Ambassador John Bolton to represent my Administration at his services,\" the president said. \\n  \\n But throughout much of the day, Trump had ignored almost a dozen questions from ABC News chief White House correspondent Jonathan Karl and reporters on McCain. \\n  \\n In contrast, the president\\'s daughter Ivanka Trump praised McCain as a \"hero\" at a women\\'s empowerment event in Washington, D.C. \\n  \\n “As we gather here today I want to extend my deepest sympathies to the family of Sen John McCain –an American patriot who served our country with distinction for more than six decades,\" said Trump. \"The nation is united in its grief and the world mourns the loss of a true hero and a great statesman.\" \\n  \\n \"Why won\\'t you say anything about John McCain?\"@jonkarl asked Pres. Trump ten times today to comment on Senator John McCain, who passed away this weekend at age 81. The president did not respond. https://t.co/HebITj8csN pic.twitter.com/iwKYhGRaNj — ABC News (@ABC) August 27, 2018 \\n  \\n White House officials had returned the U.S. flag to full-staff around midnight, ABC News senior White House correspondent Cecilia Vega told “Good Morning America” host George Stephanopoulos Monday. \\n  \\n The White House flag could then be seen for some time flying at full-staff while the banners surrounding the Washington Monument were at half-staff. \\n  \\n karentravers/Twitter \\n  \\n The initial White House flag-lowering that lasted less than 48 hours broke with precedent that it remain lowered until burial. \\n  \\n The federal code states that the flag shall be lowered on the day of death and the following day for a sitting member of Congress. Flying it at half-staff for an extended period of time is at the discretion of the president. \\n  \\n Susan Walsh/AP, FILE \\n  \\n Meanwhile, Trump inititialy rejected his aides’ recommendation to issue a statement praising the late Arizona senator, The Washington Post reported Sunday. \\n  \\n But Trump did release a tweet of condolences. \\n  \\n My deepest sympathies and respect go out to the family of Senator John McCain. Our hearts and prayers are with you! — Donald J. Trump (@realDonaldTrump) August 26, 2018 \\n  \\n The McCain family had reportedly asked the president not to attend McCain’s funeral even before he died this weekend at age 81. \\n  \\n Two former presidents -- Barack Obama and George W. Bush -- will deliver eulogies Saturday. Vice President Mike Pence has also been invited to the funeral. ||||| WASHINGTON (Reuters) - The White House lowered its U.S. flag to half-staff, raised it back up and on Monday lowered it again after the death of Senator John McCain, in an unusual and confusing break with protocol on the passing of a national leader. \\n  \\n McCain, a prisoner of war in Vietnam, longtime U.S. senator from Arizona and 2008 Republican presidential nominee, died of brain cancer on Saturday at age 81. That prompted many Americans to lower flags to half-staff, a traditional gesture of honor. \\n  \\n But President Donald Trump, who had clashed with fellow Republican McCain over various issues and said during his campaign that the senator was “not a war hero,” wavered in his approach to what presidents normally treat as a gesture of courtesy and respect. \\n  \\n Trump’s White House lowered its flag on Saturday, then raised it back following the minimum period under law. Trump also delayed issuing the customary proclamation for flags to remain at half-staff for longer than the two-day minimum. \\n  \\n Finally, under pressure from veterans and members of Congress, Trump said in a statement later on Monday that he respected McCain’s service to the nation and had ordered flags to half-staff. \\n  \\n In a letter to Trump on its Facebook page, the American Legion veterans group had urged the White House “to follow long-established protocol following the death of prominent government officials.” The Legion described McCain as a “cherished member.” \\n  \\n After a day of ignoring shouted questions about McCain, Trump broke his silence during a gathering of evangelical leaders at the White House on Monday evening. \\n  \\n A combination of three photographs shows the U.S. flag atop the White House flying at half staff Sunday morning August 26 in honor of the death of Senator John McCain (L), back at full staff less than 24 hours later on Monday morning August 27 (C) and then back down to half-staff Monday afternoon (R) in Washington, U.S., August 27, 2018. REUTERS/Joshua Roberts, Kevin Lamarque and Leah Millis \\n  \\n “Our hearts and prayers are going to the family of Senator John McCain ... and we very much appreciate everything Senator McCain has done for our country,” he told the religious leaders. \\n  \\n Through most of Monday, confusion reigned across the federal government, with flags flying at half-staff over the U.S. Capitol and at hundreds of national parks, but at full-staff over the Pentagon and the U.S. Supreme Court. \\n  \\n The U.S. Department of Homeland Security had issued a government-wide notification after McCain’s death to lower flags at U.S. facilities but rescinded it on Monday, leaving the decision to staff at individual sites, according to an official. \\n  \\n Slideshow (2 Images) \\n  \\n ‘SOMEWHAT SHOCKING’ \\n  \\n Presidents normally follow Congress’ lead on the death of a prominent lawmaker and order flags lowered until sunset on the day of burial. Critics of the president saw his reticence as a final slight against McCain. \\n  \\n “I doubt you could find a comparable situation where the president doesn’t order the flag flown at half-mast until the funeral,” said John Lawrence, history professor at the University of California’s Washington Center. \\n  \\n “The disparity between the Congress and White House policy is obviously noticeable and somewhat shocking.” \\n  \\n McCain was a frequent Trump critic and his family has said he did not want the president to attend his funeral. \\n  \\n A family spokesman issued a farewell statement from McCain in which he said of the United States: “We weaken our greatness when we confuse our patriotism with tribal rivalries ... We weaken it when we hide behind walls, rather than tear them down, when we doubt the power of our ideals, rather than trust them to be the great force for change they have always been.” |||||'"
            ]
          },
          "metadata": {},
          "execution_count": 19
        }
      ]
    },
    {
      "cell_type": "code",
      "metadata": {
        "colab": {
          "base_uri": "https://localhost:8080/",
          "height": 154
        },
        "id": "LAgSeGaDmnSh",
        "outputId": "4cb60578-d23d-45fe-d5af-2a4d05cdf693"
      },
      "source": [
        "df_sample.document[0]"
      ],
      "execution_count": null,
      "outputs": [
        {
          "output_type": "execute_result",
          "data": {
            "application/vnd.google.colaboratory.intrinsic+json": {
              "type": "string"
            },
            "text/plain": [
              "'Flag Flap Underscores Trump\\'s Strained Relationship With McCain \\n  \\n Enlarge this image toggle caption Mandel Ngan/AFP/Getty Images Mandel Ngan/AFP/Getty Images \\n  \\n Updated at 9:37 p.m. ET \\n  \\n The beginning of the national memorial for Sen. John McCain, R-Ariz., has been marred by a fight over a sign of public respect, as President Trump initially avoided issuing a proclamation to lower flags to half-staff at all federal properties in McCain\\'s honor. \\n  \\n Flags were lowered at government buildings across Washington and across the country Saturday evening after McCain died, as is standard practice for a sitting member of Congress. \\n  \\n But on Monday morning the flag atop the White House was back at full-staff, causing some to ask whether Trump\\'s strained relationship with McCain had played into the decision to not keep it lowered. The lack of a proclamation was viewed by some as a disrespectful act reflecting the president\\'s dislike for McCain, which Trump continued to express publicly, even as recently as last week. \\n  \\n Hours after reporters questioned the White House about the move and the president ignored multiple press attempts to ask his reaction to McCain\\'s death, the White House flag was eventually lowered to half-staff Monday afternoon. \\n  \\n Trump said in a statement released shortly afterward: \"Despite our differences on policy and politics, I respect Senator John McCain\\'s service to our country and, in his honor, have signed a proclamation to fly the flag of the United States at half-staff until the day of his interment.\" \\n  \\n Until that point, Trump had not issued a formal statement on McCain or commented on his service to the country, instead tweeting brief condolences Saturday to the senator\\'s family. \\n  \\n Later Monday evening at a dinner with evangelical leaders, Trump made his first public comments since the senator\\'s death Saturday. \"We very much appreciate everything that Senator McCain has done for our country,\" the president said. \\n  \\n \"Our hearts and prayers are going to the family,\" Trump also said, echoing his tweet. \"There\\'s going to be a lot of activity over the next number of days.\" \\n  \\n The dust-up over the flag was viewed as particularly insulting by veterans. McCain was a retired captain in the Navy and the son and grandson of two four-star Navy admirals. He was held for 5 1/2 years as a prisoner of war in Vietnam after the attack aircraft he was piloting was shot down during a bombing raid over Hanoi. He was tortured but refused early release because it would have meant leaving ahead of other soldiers who had been captured before him. \\n  \\n American Legion National Commander Denise Rohan issued a letter before Trump\\'s late afternoon written statement, appealing to the president to follow the custom he had used in recent deaths of national figures. \\n  \\n \"The American Legion urges the White House to follow long-established protocol following the death of prominent government officials,\" she wrote. \"Mr. President, just this year, you released presidential proclamations noting the deaths of Barbara Bush and Billy Graham. Senator John McCain was an American hero and cherished member of The American Legion.\" \\n  \\n The veterans group AMVETS also issued a statement calling the president\\'s actions since McCain\\'s death deeply disappointing. \\n  \\n \"It\\'s outrageous that the White House would mark American hero John McCain\\'s death with a two-sentence tweet, making no mention of his heroic and inspiring life,\" said AMVETS National Executive Director Joe Chenelly. \"And by lowering flags for not one second more than the bare minimum required by law, despite a long-standing tradition of lowering flags until the funeral, the White House is openly showcasing its blatant disrespect for Senator McCain\\'s many decades of service and sacrifice to our country as well as the service of all his fellow veterans.\" \\n  \\n And in what could be viewed as a subtle slap at Trump, the Canadian Embassy in Washington also posted a picture showing that it had lowered its flag to honor McCain. \\n  \\n \" Senator John McCain was a long-serving U.S. Senator, naval officer, strong advocate for NATO, and a good friend to Canada. The flag at the Embassy has been lowered to half-mast in his honour,\" the embassy tweeted. \\n  \\n This week McCain will lie in state in both the U.S. and Arizona capitols and will be memorialized at a funeral at his family\\'s church in Phoenix and at a service at the National Cathedral in Washington, D.C. He will be buried at the cemetery at the U.S. Naval Academy in Annapolis, Md., on Sunday. \\n  \\n According to the U.S. Code, the rules for a member of Congress state that flags are to be lowered on the day of the death plus one additional day. In other instances the White House has issued a proclamation extending the period to keep the flags at half-staff. \\n  \\n It was no secret that the president and McCain frequently clashed. The Washington Post reported that when White House press secretary Sarah Sanders and other officials initially prepared a statement in Trump\\'s name praising McCain, the president rejected that plan, opting instead for his Saturday tweet. \\n  \\n Senate Majority Leader Mitch McConnell, R-Ky., and Senate Minority Leader Chuck Schumer, D-N.Y., sent a joint letter to the Department of Defense on Sunday requesting that flags \"at all government buildings and installations\" remain at half-staff through McCain\\'s burial on Sunday. \\n  \\n \"We\\'ve received the letter and we\\'ll be working with Senator Schumer and Senator McConnell,\" said Tom Crosson, a Pentagon spokesman. But with the White House proclamation issued late on Monday, the Pentagon can point to that as the directive responsive to the congressional request. \\n  \\n NPR\\'s Tom Bowman contributed to this report. ||||| Tension between President Donald Trump and Sen. John McCain made an already sorrowful moment even more strained for Republican senators, like Bob Corker (pictured), returning to the Capitol on Monday. | Toya Sarno Jordan/Getty Images GOP senators ding White House over McCain flag dust-up \\'I think all of us are focused on the good of John McCain, and not the pettiness of others. I’ll just leave it at that,\\' says Sen. Bob Corker. \\n  \\n President Donald Trump\\'s delay in honoring the late Sen. John McCain left some Republican senators questioning on Monday why the president failed to lower the White House flag to half-staff sooner. \\n  \\n Trump’s proclamation Monday to order the White House flag to half-staff in McCain’s honor — after a raising of the flag on Monday morning drew criticism from veterans groups — left even some of the president’s congressional GOP allies scratching their heads. As Americans on both sides of the aisle came together to mourn McCain, the move seemed to strike the late Arizona senator’s bereaved Republican colleagues as a needless unforced error. \\n  \\n Story Continued Below \\n  \\n Sen. Orrin Hatch (R-Utah) said the Monday flap over White House flags rising while Capitol flags remained at half-staff for McCain “should not have happened.” \\n  \\n “That should have been automatic,” Hatch told reporters. “You do things that are sensible. And sensitive.” \\n  \\n Although official code governing the display of the flag calls for a lowering to half-staff for one full day after a member of Congress dies, which the White House had done following McCain’s death on Saturday, usual protocol for particularly high-ranking public officials has involved keeping the flag lowered until the day of interment. \\n  \\n Trump signed a proclamation making that happen on Monday afternoon, only after veterans groups had begun speaking out — and began his statement with an acknowledgment of his and McCain’s “differences on policy and politics.” After tangling with Trump during the 2016 campaign, McCain was unafraid to openly challenge Trump’s agenda and view of the world, including an implicit jab at the president in a farewell statement released publicly on Monday. \\n  \\n Sign up here for POLITICO Huddle A daily play-by-play of congressional news in your inbox. Email Sign Up By signing up you agree to receive email newsletters or alerts from POLITICO. You can unsubscribe at any time. \\n  \\n Trump declined to answer repeated questions from White House reporters about McCain earlier on Monday, but later appeared to warm to honoring the late senator yet again during a dinner with evangelical leaders. “We very much appreciate everything that Sen. McCain has done for our country,\" Trump said, according to a pool report. \\n  \\n That tension between Trump and McCain made an already sorrowful moment even tenser for Republican senators returning to the Capitol on Monday. \\n  \\n “I could not understand why the administration had the flag lowered for such a brief period of time,” Sen. Susan Collins (R-Maine) said. \\n  \\n Asked whether Trump was letting his strained relationship with the late six-term Arizonan get in the way of honoring McCain, Collins added: “It certainly looks that way, but I can’t speak for his motive. I’m just glad that the decision’s been reversed.” \\n  \\n Sen. Cory Gardner (R-Colo.), chief of the GOP Conference’s campaign arm, declined to address the White House’s decision-making on the flag and tried to pull the conversation back to McCain. \\n  \\n “I’m not going to get into that,” Gardner said. “What I am going to say is, this week is about John McCain, his legacy, his lifetime of service to this country.” \\n  \\n Sen. Shelley Moore Capito (R-W.Va.) readily volunteered that she was glad to see the White House return the flags to half-staff. \\n  \\n “I mean, come on, he’s a national hero, much-beloved, and I’m pleased that we’re doing the right thing,” Capito said, circling back to clarify that “I shouldn’t say ‘we’ — the right thing is being done.” \\n  \\n Trump’s proclamation on raising the White House flag came soon after Senate Majority Leader Mitch McConnell (R-Ky.) and Minority Leader Chuck Schumer (D-N.Y.), who each delivered heartfelt speeches in McCain’s honor Monday, asked the Pentagon for assistance in flying flags at half-staff on all government buildings. The Senate also unanimously passed a resolution in McCain’s honor late Monday. \\n  \\n Both McConnell and Schumer are scheduled to deliver remarks Friday at a ceremony in honor of McCain, who will lie in state in the Capitol Rotunda. Vice President Mike Pence is slated to speak on behalf of the administration, while Trump will stay away from both that event and McCain’s Saturday memorial service in Washington. \\n  \\n Schumer has proposed renaming the Russell Senate Office Building, where McCain’s office was located, in honor of the late GOP presidential nominee and decorated veteran. McConnell has yet to fully endorse that idea, saying Monday that he would consult with fellow senators on it. But Sen. Jeff Flake (R-Ariz.) signed on as a cosponsor of Schumer’s plan, and other Republicans signaled potential support. \\n  \\n “I think I’d be in favor of naming almost any building for McCain,” Sen. Chuck Grassley (R-Iowa) told reporters, “but I’m not sure that I want to make a decision on a specific building at this point.” \\n  \\n Although the late former Sen. Richard Russell (D-Ga.) “is somebody that was obviously a huge figure,” Sen. Bob Corker (R-Tenn.) said, “it is an era that’s gone by.” Speculating about potential opposition to the renaming, Corker quipped that “I don’t know who would want to vote against naming a building after somebody who just passed.” \\n  \\n The Foreign Relations chairman also offered a subtle jab at Trump when asked about the White House’s stumble on honoring McCain with the flag at half-staff. \\n  \\n “I think all of us are focused on the good of John McCain, and not the pettiness of others,” Corker said. “I’ll just leave it at that.” \\n  \\n John Bresnahan contributed to this report. \\n  \\n CORRECTION: An initial version of this story incorrectly identified the party of former Sen. Richard Russell. ||||| After ignoring repeated questions all day about whether he would say anything about his political nemesis, John McCain, President Donald Trump finally spoke about him Monday evening, saying \"our hearts and prayers are going to the family of Senator John McCain ... and we very much appreciate everything Sen. McCain has done for our country.\" \\n  \\n Interested in John McCain? Add John McCain as an interest to stay up to date on the latest John McCain news, video, and analysis from ABC News. Add Interest \\n  \\n The president was speaking to a dinner with evangelical leaders. He extended prayers and condolences to the victims of the Jacksonville, Florida shooting as well. \\n  \\n The president\\'s comments came a few hours after the White House abruptly returned its flag to half-staff Monday afternoon in honor of the late senator. Trump had ignored questions about McCain in the Oval Office Monday morning and at other events as well. \\n  \\n The president issued a statement Monday afternoon explaining why the flag was again lowered -- after facing widespread criticism for not keeping it at half-staff. \\n  \\n Leah Millis/Reuters \\n  \\n \"Despite our differences on policy and politics, I respect Senator John McCain’s service to our country and, in his honor, have signed a proclamation to fly the flag of the United States at half-staff until the day of his interment,\" the president said. \\n  \\n \"I have asked Vice President Mike Pence to offer an address at the ceremony honoring Senator McCain at the United States Capitol this Friday,\" the statement continued. \\n  \\n \"At the request of the McCain family, I have also authorized military transportation of Senator McCain’s remains from Arizona to Washington, D.C., military pallbearers and band support, and a horse and caisson transport during the service at the United States Naval Academy. Finally, I have asked General John Kelly, Secretary James Mattis, and Ambassador John Bolton to represent my Administration at his services,\" the president said. \\n  \\n But throughout much of the day, Trump had ignored almost a dozen questions from ABC News chief White House correspondent Jonathan Karl and reporters on McCain. \\n  \\n In contrast, the president\\'s daughter Ivanka Trump praised McCain as a \"hero\" at a women\\'s empowerment event in Washington, D.C. \\n  \\n “As we gather here today I want to extend my deepest sympathies to the family of Sen John McCain –an American patriot who served our country with distinction for more than six decades,\" said Trump. \"The nation is united in its grief and the world mourns the loss of a true hero and a great statesman.\" \\n  \\n \"Why won\\'t you say anything about John McCain?\"@jonkarl asked Pres. Trump ten times today to comment on Senator John McCain, who passed away this weekend at age 81. The president did not respond. https://t.co/HebITj8csN pic.twitter.com/iwKYhGRaNj — ABC News (@ABC) August 27, 2018 \\n  \\n White House officials had returned the U.S. flag to full-staff around midnight, ABC News senior White House correspondent Cecilia Vega told “Good Morning America” host George Stephanopoulos Monday. \\n  \\n The White House flag could then be seen for some time flying at full-staff while the banners surrounding the Washington Monument were at half-staff. \\n  \\n karentravers/Twitter \\n  \\n The initial White House flag-lowering that lasted less than 48 hours broke with precedent that it remain lowered until burial. \\n  \\n The federal code states that the flag shall be lowered on the day of death and the following day for a sitting member of Congress. Flying it at half-staff for an extended period of time is at the discretion of the president. \\n  \\n Susan Walsh/AP, FILE \\n  \\n Meanwhile, Trump inititialy rejected his aides’ recommendation to issue a statement praising the late Arizona senator, The Washington Post reported Sunday. \\n  \\n But Trump did release a tweet of condolences. \\n  \\n My deepest sympathies and respect go out to the family of Senator John McCain. Our hearts and prayers are with you! — Donald J. Trump (@realDonaldTrump) August 26, 2018 \\n  \\n The McCain family had reportedly asked the president not to attend McCain’s funeral even before he died this weekend at age 81. \\n  \\n Two former presidents -- Barack Obama and George W. Bush -- will deliver eulogies Saturday. Vice President Mike Pence has also been invited to the funeral. ||||| WASHINGTON (Reuters) - The White House lowered its U.S. flag to half-staff, raised it back up and on Monday lowered it again after the death of Senator John McCain, in an unusual and confusing break with protocol on the passing of a national leader. \\n  \\n McCain, a prisoner of war in Vietnam, longtime U.S. senator from Arizona and 2008 Republican presidential nominee, died of brain cancer on Saturday at age 81. That prompted many Americans to lower flags to half-staff, a traditional gesture of honor. \\n  \\n But President Donald Trump, who had clashed with fellow Republican McCain over various issues and said during his campaign that the senator was “not a war hero,” wavered in his approach to what presidents normally treat as a gesture of courtesy and respect. \\n  \\n Trump’s White House lowered its flag on Saturday, then raised it back following the minimum period under law. Trump also delayed issuing the customary proclamation for flags to remain at half-staff for longer than the two-day minimum. \\n  \\n Finally, under pressure from veterans and members of Congress, Trump said in a statement later on Monday that he respected McCain’s service to the nation and had ordered flags to half-staff. \\n  \\n In a letter to Trump on its Facebook page, the American Legion veterans group had urged the White House “to follow long-established protocol following the death of prominent government officials.” The Legion described McCain as a “cherished member.” \\n  \\n After a day of ignoring shouted questions about McCain, Trump broke his silence during a gathering of evangelical leaders at the White House on Monday evening. \\n  \\n A combination of three photographs shows the U.S. flag atop the White House flying at half staff Sunday morning August 26 in honor of the death of Senator John McCain (L), back at full staff less than 24 hours later on Monday morning August 27 (C) and then back down to half-staff Monday afternoon (R) in Washington, U.S., August 27, 2018. REUTERS/Joshua Roberts, Kevin Lamarque and Leah Millis \\n  \\n “Our hearts and prayers are going to the family of Senator John McCain ... and we very much appreciate everything Senator McCain has done for our country,” he told the religious leaders. \\n  \\n Through most of Monday, confusion reigned across the federal government, with flags flying at half-staff over the U.S. Capitol and at hundreds of national parks, but at full-staff over the Pentagon and the U.S. Supreme Court. \\n  \\n The U.S. Department of Homeland Security had issued a government-wide notification after McCain’s death to lower flags at U.S. facilities but rescinded it on Monday, leaving the decision to staff at individual sites, according to an official. \\n  \\n Slideshow (2 Images) \\n  \\n ‘SOMEWHAT SHOCKING’ \\n  \\n Presidents normally follow Congress’ lead on the death of a prominent lawmaker and order flags lowered until sunset on the day of burial. Critics of the president saw his reticence as a final slight against McCain. \\n  \\n “I doubt you could find a comparable situation where the president doesn’t order the flag flown at half-mast until the funeral,” said John Lawrence, history professor at the University of California’s Washington Center. \\n  \\n “The disparity between the Congress and White House policy is obviously noticeable and somewhat shocking.” \\n  \\n McCain was a frequent Trump critic and his family has said he did not want the president to attend his funeral. \\n  \\n A family spokesman issued a farewell statement from McCain in which he said of the United States: “We weaken our greatness when we confuse our patriotism with tribal rivalries ... We weaken it when we hide behind walls, rather than tear them down, when we doubt the power of our ideals, rather than trust them to be the great force for change they have always been.” |||||'"
            ]
          },
          "metadata": {},
          "execution_count": 20
        }
      ]
    },
    {
      "cell_type": "markdown",
      "metadata": {
        "id": "yKOdWfcXSWHg"
      },
      "source": [
        "Podemos obervar que ainda permanecer algum caractere com nova linha \"\\n\" (new line) e \"\\\\'s\" ('s contração) que limparemos mais tarde."
      ]
    },
    {
      "cell_type": "markdown",
      "metadata": {
        "id": "GSkiQYLQeI_6"
      },
      "source": [
        "###**2.2 - Limpando o Dataset**"
      ]
    },
    {
      "cell_type": "code",
      "metadata": {
        "id": "jiyBukIxeMH9"
      },
      "source": [
        "# transformar a coluna documento em str\n",
        "# df_sample['document'] = df_sample['document'].astype(str)"
      ],
      "execution_count": null,
      "outputs": []
    },
    {
      "cell_type": "code",
      "metadata": {
        "id": "-g1Wl77mjIle"
      },
      "source": [
        "def split_articles(doc):\n",
        "    '''Funtion to read a set os article and split then in a list of articles.'''\n",
        "    articles=[]\n",
        "    num_articles = doc.count('|||||')\n",
        "    for i in range(0, num_articles):\n",
        "        # localiza o marcador de final de cada história\n",
        "        index = doc.find('|||||')\n",
        "        articles.append(doc[:index])\n",
        "        if i != num_articles:\n",
        "            doc = doc[index+5:]\n",
        "    return articles"
      ],
      "execution_count": null,
      "outputs": []
    },
    {
      "cell_type": "code",
      "metadata": {
        "id": "ym_a3hDUjXHU",
        "colab": {
          "base_uri": "https://localhost:8080/",
          "height": 49,
          "referenced_widgets": [
            "50f4471ed5fb4f9c936d958b3cc9b71c",
            "0cefdb36bb1a4d2db4737a94d50c3c33",
            "c4c505e7074d487fbfb553d26371bb02",
            "43d522449a434e7cae6b93a2463eb357",
            "dd9c8acdfcf24ec7807731684bdf85b1",
            "0475c790d0d6431783cce59f99f319bf",
            "7ffdd6b42a9b4c5395958585daddfde0",
            "316fcf62f9144d81a42ea0dcdfbc28a8",
            "70690fb47fc14ac89b1f3fa18d67b9d7",
            "1bec351165804915ba30c6e4f4b14c8b",
            "8f45275dfc794cb39069312a67bad8ce"
          ]
        },
        "outputId": "7cef7bf7-eea3-4685-9b08-ac9c251c8ff6"
      },
      "source": [
        "# Separa os artigos de cada conjunto de documento\n",
        "articles = df_news[\"document\"].progress_apply(split_articles)\n",
        "# storys"
      ],
      "execution_count": null,
      "outputs": [
        {
          "output_type": "display_data",
          "data": {
            "application/vnd.jupyter.widget-view+json": {
              "model_id": "50f4471ed5fb4f9c936d958b3cc9b71c",
              "version_minor": 0,
              "version_major": 2
            },
            "text/plain": [
              "  0%|          | 0/1000 [00:00<?, ?it/s]"
            ]
          },
          "metadata": {}
        }
      ]
    },
    {
      "cell_type": "code",
      "metadata": {
        "colab": {
          "base_uri": "https://localhost:8080/"
        },
        "id": "9YIW90pakK-g",
        "outputId": "1b80e5ce-f270-4ad1-e212-149bd4c8532d"
      },
      "source": [
        "len(articles[0]), len(articles[1])"
      ],
      "execution_count": null,
      "outputs": [
        {
          "output_type": "execute_result",
          "data": {
            "text/plain": [
              "(4, 2)"
            ]
          },
          "metadata": {},
          "execution_count": 26
        }
      ]
    },
    {
      "cell_type": "code",
      "metadata": {
        "colab": {
          "base_uri": "https://localhost:8080/"
        },
        "id": "9OqRAJGUru82",
        "outputId": "efb22eaf-ac4e-4c6c-cff9-ffc9fbfc01ab"
      },
      "source": [
        "# Cria um dataset com os resultados da quebra dos storys e \n",
        "# expande para que cada linha contenha uma story/artigo\n",
        "df_articles  = pd.DataFrame(articles).explode('document').reset_index(drop=True)\n",
        "df_articles.shape "
      ],
      "execution_count": null,
      "outputs": [
        {
          "output_type": "execute_result",
          "data": {
            "text/plain": [
              "(2729, 1)"
            ]
          },
          "metadata": {},
          "execution_count": 28
        }
      ]
    },
    {
      "cell_type": "code",
      "metadata": {
        "id": "4toHcuj6p6qu"
      },
      "source": [
        "# Apaga linhas que por ventura fiquem vazias na quebra de artigos\n",
        "df_articles.dropna(inplace=True)"
      ],
      "execution_count": null,
      "outputs": []
    },
    {
      "cell_type": "code",
      "metadata": {
        "colab": {
          "base_uri": "https://localhost:8080/",
          "height": 204
        },
        "id": "JAGgIITEik7x",
        "outputId": "d5177a30-1851-444a-bf86-d0a60bfb9195"
      },
      "source": [
        "df_articles.head()"
      ],
      "execution_count": null,
      "outputs": [
        {
          "output_type": "execute_result",
          "data": {
            "text/html": [
              "<div>\n",
              "<style scoped>\n",
              "    .dataframe tbody tr th:only-of-type {\n",
              "        vertical-align: middle;\n",
              "    }\n",
              "\n",
              "    .dataframe tbody tr th {\n",
              "        vertical-align: top;\n",
              "    }\n",
              "\n",
              "    .dataframe thead th {\n",
              "        text-align: right;\n",
              "    }\n",
              "</style>\n",
              "<table border=\"1\" class=\"dataframe\">\n",
              "  <thead>\n",
              "    <tr style=\"text-align: right;\">\n",
              "      <th></th>\n",
              "      <th>document</th>\n",
              "    </tr>\n",
              "  </thead>\n",
              "  <tbody>\n",
              "    <tr>\n",
              "      <th>0</th>\n",
              "      <td>Flag Flap Underscores Trump's Strained Relatio...</td>\n",
              "    </tr>\n",
              "    <tr>\n",
              "      <th>1</th>\n",
              "      <td>Tension between President Donald Trump and Se...</td>\n",
              "    </tr>\n",
              "    <tr>\n",
              "      <th>2</th>\n",
              "      <td>After ignoring repeated questions all day abo...</td>\n",
              "    </tr>\n",
              "    <tr>\n",
              "      <th>3</th>\n",
              "      <td>WASHINGTON (Reuters) - The White House lowere...</td>\n",
              "    </tr>\n",
              "    <tr>\n",
              "      <th>4</th>\n",
              "      <td>Over 60 years after the first excavations at Q...</td>\n",
              "    </tr>\n",
              "  </tbody>\n",
              "</table>\n",
              "</div>"
            ],
            "text/plain": [
              "                                            document\n",
              "0  Flag Flap Underscores Trump's Strained Relatio...\n",
              "1   Tension between President Donald Trump and Se...\n",
              "2   After ignoring repeated questions all day abo...\n",
              "3   WASHINGTON (Reuters) - The White House lowere...\n",
              "4  Over 60 years after the first excavations at Q..."
            ]
          },
          "metadata": {},
          "execution_count": 38
        }
      ]
    },
    {
      "cell_type": "markdown",
      "metadata": {
        "id": "rWGioD-Mn5nQ"
      },
      "source": [
        "Agora que temos a lista de artigos em um dataset, vamos processar as etapas de limpeza e formatação para aplicar o algoritimo de TextRank. Vamos instalar alguma bibliotecas com foco em tarefas de NLP: nltk e spacy. "
      ]
    },
    {
      "cell_type": "code",
      "metadata": {
        "colab": {
          "base_uri": "https://localhost:8080/"
        },
        "id": "7IhSIWuMEjQC",
        "outputId": "491345c0-5846-426f-93fb-c14ff2a47616"
      },
      "source": [
        "import nltk\n",
        "nltk.download('punkt')\n",
        "\n",
        "import re\n",
        "import spacy\n",
        "import nltk\n",
        "from nltk.corpus import stopwords\n",
        "from nltk.tokenize import sent_tokenize, word_tokenize \n",
        "\n",
        "nlp = spacy.load('en_core_web_sm')\n",
        "nltk.download('stopwords')\n",
        "stopwords = stopwords.words('english')\n",
        "punctuations = '!\"#$%&\\'()*+,-/:;<=>?@[\\\\]^_`{|}~©'"
      ],
      "execution_count": null,
      "outputs": [
        {
          "output_type": "stream",
          "name": "stdout",
          "text": [
            "[nltk_data] Downloading package punkt to /root/nltk_data...\n",
            "[nltk_data]   Unzipping tokenizers/punkt.zip.\n",
            "[nltk_data] Downloading package stopwords to /root/nltk_data...\n",
            "[nltk_data]   Unzipping corpora/stopwords.zip.\n"
          ]
        }
      ]
    },
    {
      "cell_type": "code",
      "metadata": {
        "id": "iPws4PHjIGEC"
      },
      "source": [
        "def cleanup_text(text):\n",
        "    '''Clean some especial and new line caracteres'''\n",
        "    # replaced = text.replace(\"b\\'\",'')\n",
        "    replaced = text.replace(\"\\n \",\"\")  \n",
        "    replaced = replaced.replace(\"\\'s\",\"\")\n",
        "    replaced = replaced.replace(\" .\",\".\")\n",
        "    replaced = replaced.replace(\"  \",\" \")\n",
        "    replaced = replaced.strip()\n",
        "    return replaced"
      ],
      "execution_count": null,
      "outputs": []
    },
    {
      "cell_type": "code",
      "metadata": {
        "id": "Y4Jfejw1ZlVp"
      },
      "source": [
        "def process_text(docs, logging=False):\n",
        "    '''Clean text and separeting tokens and convert do lowercase.'''\n",
        "    texts = []\n",
        "    \n",
        "    # inc case of large docs, split docs in sentences\n",
        "    sentences = sent_tokenize(docs)\n",
        "    sent_cleaned = []\n",
        "    for sent in sentences:\n",
        "        # remove caracteres especiais\n",
        "        sent=sent.replace(\"[^a-zA-Z0-9]\",\" \")\n",
        "        doc = nlp(sent, disable=['parser', 'ner'])\n",
        "        tokens = [tok.lemma_.lower().strip() for tok in doc if tok.lemma_ != '-PRON-']\n",
        "        tokens = [tok for tok in tokens if tok not in stopwords and tok not in punctuations] \n",
        "        tokens = ' '.join(tokens)\n",
        "        # tokens = tokens.replace(\"b\\'\",'')\n",
        "        # tokens = tokens.replace(\"\\\\n \",'')  \n",
        "        # tokens = tokens.replace(\"\\\\\\'s\",'') \n",
        "        # print(tokens)\n",
        "        # tokens = tokens.strip()\n",
        "        sent_cleaned.append(tokens)\n",
        "\n",
        "    sent_cleaned = ' '.join(str(x) for x in sent_cleaned)\n",
        "    texts.append(sent_cleaned)\n",
        "    return pd.Series(texts)\n",
        "\n",
        "# str_test = \"Flag Flap Underscores Trump Strained Relationship With McCain  Enlarge this image toggle caption Mandel Ngan/AFP/Getty Images Mandel Ngan/AFP/Getty Images  Updated at 9:37 p.m. ET  The beginning of the national memorial for Sen. John McCain, R-Ariz., has been marred by a fight over a sign of public respect, as President Trump initially avoided issuing a proclamation to lower flags to half-staff at all federal properties in McCain honor.  Flags were lowered at government buildings across Washington and across the country Saturday evening after McCain died, as is standard practice for a sitting member of Congress. \"\n",
        "# process_text(str_test)[0]"
      ],
      "execution_count": null,
      "outputs": []
    },
    {
      "cell_type": "code",
      "metadata": {
        "colab": {
          "base_uri": "https://localhost:8080/",
          "height": 154
        },
        "id": "dFYhwK5mIM69",
        "outputId": "b39b4b75-4c52-462d-f0f0-c81384ac0170"
      },
      "source": [
        "df_articles['document'][0]"
      ],
      "execution_count": null,
      "outputs": [
        {
          "output_type": "execute_result",
          "data": {
            "application/vnd.google.colaboratory.intrinsic+json": {
              "type": "string"
            },
            "text/plain": [
              "'Flag Flap Underscores Trump\\'s Strained Relationship With McCain \\n  \\n Enlarge this image toggle caption Mandel Ngan/AFP/Getty Images Mandel Ngan/AFP/Getty Images \\n  \\n Updated at 9:37 p.m. ET \\n  \\n The beginning of the national memorial for Sen. John McCain, R-Ariz., has been marred by a fight over a sign of public respect, as President Trump initially avoided issuing a proclamation to lower flags to half-staff at all federal properties in McCain\\'s honor. \\n  \\n Flags were lowered at government buildings across Washington and across the country Saturday evening after McCain died, as is standard practice for a sitting member of Congress. \\n  \\n But on Monday morning the flag atop the White House was back at full-staff, causing some to ask whether Trump\\'s strained relationship with McCain had played into the decision to not keep it lowered. The lack of a proclamation was viewed by some as a disrespectful act reflecting the president\\'s dislike for McCain, which Trump continued to express publicly, even as recently as last week. \\n  \\n Hours after reporters questioned the White House about the move and the president ignored multiple press attempts to ask his reaction to McCain\\'s death, the White House flag was eventually lowered to half-staff Monday afternoon. \\n  \\n Trump said in a statement released shortly afterward: \"Despite our differences on policy and politics, I respect Senator John McCain\\'s service to our country and, in his honor, have signed a proclamation to fly the flag of the United States at half-staff until the day of his interment.\" \\n  \\n Until that point, Trump had not issued a formal statement on McCain or commented on his service to the country, instead tweeting brief condolences Saturday to the senator\\'s family. \\n  \\n Later Monday evening at a dinner with evangelical leaders, Trump made his first public comments since the senator\\'s death Saturday. \"We very much appreciate everything that Senator McCain has done for our country,\" the president said. \\n  \\n \"Our hearts and prayers are going to the family,\" Trump also said, echoing his tweet. \"There\\'s going to be a lot of activity over the next number of days.\" \\n  \\n The dust-up over the flag was viewed as particularly insulting by veterans. McCain was a retired captain in the Navy and the son and grandson of two four-star Navy admirals. He was held for 5 1/2 years as a prisoner of war in Vietnam after the attack aircraft he was piloting was shot down during a bombing raid over Hanoi. He was tortured but refused early release because it would have meant leaving ahead of other soldiers who had been captured before him. \\n  \\n American Legion National Commander Denise Rohan issued a letter before Trump\\'s late afternoon written statement, appealing to the president to follow the custom he had used in recent deaths of national figures. \\n  \\n \"The American Legion urges the White House to follow long-established protocol following the death of prominent government officials,\" she wrote. \"Mr. President, just this year, you released presidential proclamations noting the deaths of Barbara Bush and Billy Graham. Senator John McCain was an American hero and cherished member of The American Legion.\" \\n  \\n The veterans group AMVETS also issued a statement calling the president\\'s actions since McCain\\'s death deeply disappointing. \\n  \\n \"It\\'s outrageous that the White House would mark American hero John McCain\\'s death with a two-sentence tweet, making no mention of his heroic and inspiring life,\" said AMVETS National Executive Director Joe Chenelly. \"And by lowering flags for not one second more than the bare minimum required by law, despite a long-standing tradition of lowering flags until the funeral, the White House is openly showcasing its blatant disrespect for Senator McCain\\'s many decades of service and sacrifice to our country as well as the service of all his fellow veterans.\" \\n  \\n And in what could be viewed as a subtle slap at Trump, the Canadian Embassy in Washington also posted a picture showing that it had lowered its flag to honor McCain. \\n  \\n \" Senator John McCain was a long-serving U.S. Senator, naval officer, strong advocate for NATO, and a good friend to Canada. The flag at the Embassy has been lowered to half-mast in his honour,\" the embassy tweeted. \\n  \\n This week McCain will lie in state in both the U.S. and Arizona capitols and will be memorialized at a funeral at his family\\'s church in Phoenix and at a service at the National Cathedral in Washington, D.C. He will be buried at the cemetery at the U.S. Naval Academy in Annapolis, Md., on Sunday. \\n  \\n According to the U.S. Code, the rules for a member of Congress state that flags are to be lowered on the day of the death plus one additional day. In other instances the White House has issued a proclamation extending the period to keep the flags at half-staff. \\n  \\n It was no secret that the president and McCain frequently clashed. The Washington Post reported that when White House press secretary Sarah Sanders and other officials initially prepared a statement in Trump\\'s name praising McCain, the president rejected that plan, opting instead for his Saturday tweet. \\n  \\n Senate Majority Leader Mitch McConnell, R-Ky., and Senate Minority Leader Chuck Schumer, D-N.Y., sent a joint letter to the Department of Defense on Sunday requesting that flags \"at all government buildings and installations\" remain at half-staff through McCain\\'s burial on Sunday. \\n  \\n \"We\\'ve received the letter and we\\'ll be working with Senator Schumer and Senator McConnell,\" said Tom Crosson, a Pentagon spokesman. But with the White House proclamation issued late on Monday, the Pentagon can point to that as the directive responsive to the congressional request. \\n  \\n NPR\\'s Tom Bowman contributed to this report. '"
            ]
          },
          "metadata": {},
          "execution_count": 39
        }
      ]
    },
    {
      "cell_type": "code",
      "metadata": {
        "colab": {
          "base_uri": "https://localhost:8080/",
          "height": 186,
          "referenced_widgets": [
            "8e5db071849d4434beb6aca651828608",
            "650a39c4bb7f431ebacc48c6b9dcac02",
            "7e859d167f9b48d491fc2feb1b43be23",
            "ea6032c8b658479aa2eb05c9adc79739",
            "d15a256497074151b4cfa467e372037e",
            "083705987b9e4414830f0d8a5ff71854",
            "2b4ca01c1af24243bbc362663d52c0a5",
            "aa71e2fe29d64275820d4d5472a2bec2",
            "15b79ab1d58144c0bd81d3e7d0331691",
            "690a43f448d040bdb3be692858acf0f3",
            "d5d3fe3e2aa04b2ebef3d512a72b3c42"
          ]
        },
        "id": "sTsQGhfecohY",
        "outputId": "21bcbebc-3ea4-46f2-c618-e349ef3449f4"
      },
      "source": [
        "# aplica função de limpeza dos marcadores que ainda restaram da conversão \n",
        "# para o encode utf-8\n",
        "df_articles['document_cleaned'] = df_articles['document'].progress_apply(cleanup_text)\n",
        "df_articles['document_cleaned'][0]"
      ],
      "execution_count": null,
      "outputs": [
        {
          "output_type": "display_data",
          "data": {
            "application/vnd.jupyter.widget-view+json": {
              "model_id": "8e5db071849d4434beb6aca651828608",
              "version_minor": 0,
              "version_major": 2
            },
            "text/plain": [
              "  0%|          | 0/2729 [00:00<?, ?it/s]"
            ]
          },
          "metadata": {}
        },
        {
          "output_type": "execute_result",
          "data": {
            "application/vnd.google.colaboratory.intrinsic+json": {
              "type": "string"
            },
            "text/plain": [
              "'Flag Flap Underscores Trump Strained Relationship With McCain Enlarge this image toggle caption Mandel Ngan/AFP/Getty Images Mandel Ngan/AFP/Getty Images Updated at 9:37 p.m. ET The beginning of the national memorial for Sen. John McCain, R-Ariz., has been marred by a fight over a sign of public respect, as President Trump initially avoided issuing a proclamation to lower flags to half-staff at all federal properties in McCain honor. Flags were lowered at government buildings across Washington and across the country Saturday evening after McCain died, as is standard practice for a sitting member of Congress. But on Monday morning the flag atop the White House was back at full-staff, causing some to ask whether Trump strained relationship with McCain had played into the decision to not keep it lowered. The lack of a proclamation was viewed by some as a disrespectful act reflecting the president dislike for McCain, which Trump continued to express publicly, even as recently as last week. Hours after reporters questioned the White House about the move and the president ignored multiple press attempts to ask his reaction to McCain death, the White House flag was eventually lowered to half-staff Monday afternoon. Trump said in a statement released shortly afterward: \"Despite our differences on policy and politics, I respect Senator John McCain service to our country and, in his honor, have signed a proclamation to fly the flag of the United States at half-staff until the day of his interment.\" Until that point, Trump had not issued a formal statement on McCain or commented on his service to the country, instead tweeting brief condolences Saturday to the senator family. Later Monday evening at a dinner with evangelical leaders, Trump made his first public comments since the senator death Saturday. \"We very much appreciate everything that Senator McCain has done for our country,\" the president said. \"Our hearts and prayers are going to the family,\" Trump also said, echoing his tweet. \"There going to be a lot of activity over the next number of days.\" The dust-up over the flag was viewed as particularly insulting by veterans. McCain was a retired captain in the Navy and the son and grandson of two four-star Navy admirals. He was held for 5 1/2 years as a prisoner of war in Vietnam after the attack aircraft he was piloting was shot down during a bombing raid over Hanoi. He was tortured but refused early release because it would have meant leaving ahead of other soldiers who had been captured before him. American Legion National Commander Denise Rohan issued a letter before Trump late afternoon written statement, appealing to the president to follow the custom he had used in recent deaths of national figures. \"The American Legion urges the White House to follow long-established protocol following the death of prominent government officials,\" she wrote. \"Mr. President, just this year, you released presidential proclamations noting the deaths of Barbara Bush and Billy Graham. Senator John McCain was an American hero and cherished member of The American Legion.\" The veterans group AMVETS also issued a statement calling the president actions since McCain death deeply disappointing. \"It outrageous that the White House would mark American hero John McCain death with a two-sentence tweet, making no mention of his heroic and inspiring life,\" said AMVETS National Executive Director Joe Chenelly. \"And by lowering flags for not one second more than the bare minimum required by law, despite a long-standing tradition of lowering flags until the funeral, the White House is openly showcasing its blatant disrespect for Senator McCain many decades of service and sacrifice to our country as well as the service of all his fellow veterans.\" And in what could be viewed as a subtle slap at Trump, the Canadian Embassy in Washington also posted a picture showing that it had lowered its flag to honor McCain. \" Senator John McCain was a long-serving U.S. Senator, naval officer, strong advocate for NATO, and a good friend to Canada. The flag at the Embassy has been lowered to half-mast in his honour,\" the embassy tweeted. This week McCain will lie in state in both the U.S. and Arizona capitols and will be memorialized at a funeral at his family church in Phoenix and at a service at the National Cathedral in Washington, D.C. He will be buried at the cemetery at the U.S. Naval Academy in Annapolis, Md., on Sunday. According to the U.S. Code, the rules for a member of Congress state that flags are to be lowered on the day of the death plus one additional day. In other instances the White House has issued a proclamation extending the period to keep the flags at half-staff. It was no secret that the president and McCain frequently clashed. The Washington Post reported that when White House press secretary Sarah Sanders and other officials initially prepared a statement in Trump name praising McCain, the president rejected that plan, opting instead for his Saturday tweet. Senate Majority Leader Mitch McConnell, R-Ky., and Senate Minority Leader Chuck Schumer, D-N.Y., sent a joint letter to the Department of Defense on Sunday requesting that flags \"at all government buildings and installations\" remain at half-staff through McCain burial on Sunday. \"We\\'ve received the letter and we\\'ll be working with Senator Schumer and Senator McConnell,\" said Tom Crosson, a Pentagon spokesman. But with the White House proclamation issued late on Monday, the Pentagon can point to that as the directive responsive to the congressional request. NPR Tom Bowman contributed to this report.'"
            ]
          },
          "metadata": {},
          "execution_count": 40
        }
      ]
    },
    {
      "cell_type": "code",
      "metadata": {
        "colab": {
          "base_uri": "https://localhost:8080/",
          "height": 186,
          "referenced_widgets": [
            "1c413c28401e438a9ea64f0b3018584d",
            "479e95492f774cfd83b3cb63a445cc33",
            "1485575d3f7342c69e8d35b4b97ceaf2",
            "ff366f714a9e455c96644004b824264f",
            "4a374db8433c4482888e4303f7b87aff",
            "3394465617024fd0a7510f5a807af761",
            "7a15c27ab71d42699f07535f93bb03d4",
            "895ff03c8ce24d66aac06eac83c12bcd",
            "d41ff0eeb2454ab3994306abb18a0edb",
            "dea4278d86b24e12899176b2c0226fa0",
            "9fb1987b375d4db4b43769ca86d5cc5d"
          ]
        },
        "id": "GpZnc9D3BpmS",
        "outputId": "87272a09-bb56-4481-e551-96c7ba79bcaa"
      },
      "source": [
        "# Limpa o texto dos storys em uma nova feature\n",
        "# transformando o texto para minúsculo e retrirando \n",
        "# pontuações, marcações deixada pelo spacy\n",
        "# retira paralavas com baixa representatividade e stopwords \n",
        "# da lingua inglesa como preposições, pronomes e adverbios\n",
        "df_articles['document_cleaned_formated'] = df_articles['document_cleaned'].progress_apply(process_text)\n",
        "df_articles['document_cleaned_formated'][0]"
      ],
      "execution_count": null,
      "outputs": [
        {
          "output_type": "display_data",
          "data": {
            "application/vnd.jupyter.widget-view+json": {
              "model_id": "1c413c28401e438a9ea64f0b3018584d",
              "version_minor": 0,
              "version_major": 2
            },
            "text/plain": [
              "  0%|          | 0/2729 [00:00<?, ?it/s]"
            ]
          },
          "metadata": {}
        },
        {
          "output_type": "execute_result",
          "data": {
            "application/vnd.google.colaboratory.intrinsic+json": {
              "type": "string"
            },
            "text/plain": [
              "\"flag flap underscore trump strained relationship mccain enlarge image toggle caption mandel ngan afp getty images mandel ngan afp getty images update 9:37 p.m. et beginning national memorial sen. john mccain r ariz. mar fight sign public respect president trump initially avoid issue proclamation low flag half staff federal property mccain honor . flag lower government building across washington across country saturday evening mccain die standard practice sit member congress . monday morning flag atop white house back full staff cause ask whether trump strained relationship mccain play decision keep lower . lack proclamation view disrespectful act reflect president dislike mccain trump continue express publicly even recently last week . hour reporter question white house move president ignore multiple press attempt ask reaction mccain death white house flag eventually lower half staff monday afternoon . trump say statement release shortly afterward despite difference policy politic respect senator john mccain service country honor sign proclamation fly flag united states half staff day interment . point trump issue formal statement mccain comment service country instead tweet brief condolence saturday senator family . later monday evening dinner evangelical leader trump make first public comment since senator death saturday . much appreciate everything senator mccain country president say . heart prayer go family trump also say echo tweet . go lot activity next number day . dust flag view particularly insult veteran . mccain retired captain navy son grandson two four star navy admiral . hold 5 1/2 year prisoner war vietnam attack aircraft pilot shoot bombing raid hanoi . torture refuse early release would mean leave ahead soldier capture . american legion national commander denise rohan issue letter trump late afternoon write statement appeal president follow custom use recent death national figure . american legion urge white house follow long establish protocol follow death prominent government official write . mr. president year release presidential proclamation note death barbara bush billy graham . senator john mccain american hero cherished member american legion . veteran group amvets also issue statement call president action since mccain death deeply disappointing . outrageous white house would mark american hero john mccain death two sentence tweet make mention heroic inspiring life say amvets national executive director joe chenelly . lower flag one second bare minimum require law despite long stand tradition lower flag funeral white house openly showcase blatant disrespect senator mccain many decade service sacrifice country well service fellow veteran . could view subtle slap trump canadian embassy washington also post picture show lower flag honor mccain . senator john mccain long serve u.s. senator naval officer strong advocate nato good friend canada . flag embassy lower half mast honour embassy tweet . week mccain lie state u.s. arizona capitol memorialize funeral family church phoenix service national cathedral washington d.c. bury cemetery u.s. naval academy annapolis md. sunday . accord u.s. code rule member congress state flag lower day death plus one additional day . instance white house issue proclamation extend period keep flag half staff . secret president mccain frequently clash . washington post report white house press secretary sarah sanders official initially prepare statement trump name praise mccain president reject plan opt instead saturday tweet . senate majority leader mitch mcconnell r ky. senate minority leader chuck schumer n.y. send joint letter department defense sunday request flag government building installation remain half staff mccain burial sunday . 've receive letter 'll work senator schumer senator mcconnell say tom crosson pentagon spokesman . white house proclamation issue late monday pentagon point directive responsive congressional request . npr tom bowman contribute report .\""
            ]
          },
          "metadata": {},
          "execution_count": 41
        }
      ]
    },
    {
      "cell_type": "code",
      "metadata": {
        "id": "LCQOrbwJe4rD"
      },
      "source": [
        "# salva arquivo com as storys preprocessadas\n",
        "df_articles.to_csv('articles.csv.gz', compression='gzip')"
      ],
      "execution_count": null,
      "outputs": []
    },
    {
      "cell_type": "code",
      "metadata": {
        "colab": {
          "base_uri": "https://localhost:8080/"
        },
        "id": "snkEYJsvX2sr",
        "outputId": "7eb2a37b-b0f4-4c3b-ad29-9ff4972f3c84"
      },
      "source": [
        "ls -l"
      ],
      "execution_count": null,
      "outputs": [
        {
          "output_type": "stream",
          "name": "stdout",
          "text": [
            "total 6360\n",
            "-rw-r--r-- 1 root root 6502331 Nov  3 12:06 articles.csv.gz\n",
            "drwxr-xr-x 4 root root    4096 Nov  3 11:33 \u001b[0m\u001b[01;34mdata\u001b[0m/\n",
            "drwxr-xr-x 1 root root    4096 Nov  1 13:35 \u001b[01;34msample_data\u001b[0m/\n"
          ]
        }
      ]
    },
    {
      "cell_type": "markdown",
      "metadata": {
        "id": "h9DzCwer0Iah"
      },
      "source": [
        "**Analisando o tamanho dos documentos**"
      ]
    },
    {
      "cell_type": "code",
      "metadata": {
        "id": "rd_xohc-0IG_"
      },
      "source": [
        "# guarda o tamanho dos textos limpos e formatados como features\n",
        "df_articles['document_cleaned_lenght'] = df_articles['document_cleaned'].str.len()\n",
        "df_articles['document_cleaned_formated_lenght'] = df_articles['document_cleaned_formated'].str.len()"
      ],
      "execution_count": null,
      "outputs": []
    },
    {
      "cell_type": "code",
      "metadata": {
        "colab": {
          "base_uri": "https://localhost:8080/"
        },
        "id": "C0Ys2ZmKfpc-",
        "outputId": "ae94a268-66b6-4bc8-a56c-91c0b0f59c03"
      },
      "source": [
        "df_articles['document_cleaned_lenght'].describe()"
      ],
      "execution_count": null,
      "outputs": [
        {
          "output_type": "execute_result",
          "data": {
            "text/plain": [
              "count      2729.000000\n",
              "mean       3882.851228\n",
              "std        4825.630377\n",
              "min          26.000000\n",
              "25%        1431.000000\n",
              "50%        2862.000000\n",
              "75%        4947.000000\n",
              "max      101328.000000\n",
              "Name: document_cleaned_lenght, dtype: float64"
            ]
          },
          "metadata": {},
          "execution_count": 47
        }
      ]
    },
    {
      "cell_type": "markdown",
      "metadata": {
        "id": "_7cAqE1Vf3ML"
      },
      "source": [
        "Máximo de palavras em um artigo original => 2.892.949 palavras"
      ]
    },
    {
      "cell_type": "code",
      "metadata": {
        "colab": {
          "base_uri": "https://localhost:8080/"
        },
        "id": "3ImnIZO30kZd",
        "outputId": "088153c5-35fb-4bb2-a240-ddbe58248e1f"
      },
      "source": [
        "df_articles['document_cleaned_formated_lenght'].describe()"
      ],
      "execution_count": null,
      "outputs": [
        {
          "output_type": "execute_result",
          "data": {
            "text/plain": [
              "count     2729.000000\n",
              "mean      2698.946134\n",
              "std       3555.861832\n",
              "min         12.000000\n",
              "25%        989.000000\n",
              "50%       1973.000000\n",
              "75%       3417.000000\n",
              "max      90116.000000\n",
              "Name: document_cleaned_formated_lenght, dtype: float64"
            ]
          },
          "metadata": {},
          "execution_count": 48
        }
      ]
    },
    {
      "cell_type": "markdown",
      "metadata": {
        "id": "QT-OwVL42Zkv"
      },
      "source": [
        "Máximo de palavras em um artigo depois de processado => 2.069.084 palavras"
      ]
    },
    {
      "cell_type": "code",
      "metadata": {
        "colab": {
          "base_uri": "https://localhost:8080/"
        },
        "id": "vhVS9ude2SM9",
        "outputId": "9ee94783-98bb-41ba-ef01-7a9c9cf86275"
      },
      "source": [
        "df_articles['document_cleaned_formated_lenght'].sort_values()"
      ],
      "execution_count": null,
      "outputs": [
        {
          "output_type": "execute_result",
          "data": {
            "text/plain": [
              "2205       12\n",
              "2006       17\n",
              "375        25\n",
              "2671       26\n",
              "2272       42\n",
              "        ...  \n",
              "675     28175\n",
              "1786    29712\n",
              "2294    37389\n",
              "1552    61426\n",
              "622     90116\n",
              "Name: document_cleaned_formated_lenght, Length: 2729, dtype: int64"
            ]
          },
          "metadata": {},
          "execution_count": 49
        }
      ]
    },
    {
      "cell_type": "code",
      "metadata": {
        "colab": {
          "base_uri": "https://localhost:8080/",
          "height": 49
        },
        "id": "fYbnN9ae3hiR",
        "outputId": "0de81628-3419-416f-ce23-8da547bf8dd7"
      },
      "source": [
        "# verificando se existe algum artigo com tamanho 0\n",
        "df_articles[df_articles['document_cleaned_formated_lenght'] ==0]"
      ],
      "execution_count": null,
      "outputs": [
        {
          "output_type": "execute_result",
          "data": {
            "text/html": [
              "<div>\n",
              "<style scoped>\n",
              "    .dataframe tbody tr th:only-of-type {\n",
              "        vertical-align: middle;\n",
              "    }\n",
              "\n",
              "    .dataframe tbody tr th {\n",
              "        vertical-align: top;\n",
              "    }\n",
              "\n",
              "    .dataframe thead th {\n",
              "        text-align: right;\n",
              "    }\n",
              "</style>\n",
              "<table border=\"1\" class=\"dataframe\">\n",
              "  <thead>\n",
              "    <tr style=\"text-align: right;\">\n",
              "      <th></th>\n",
              "      <th>document</th>\n",
              "      <th>document_cleaned</th>\n",
              "      <th>document_cleaned_formated</th>\n",
              "      <th>document_cleaned_formated_lenght</th>\n",
              "      <th>document_cleaned_lenght</th>\n",
              "    </tr>\n",
              "  </thead>\n",
              "  <tbody>\n",
              "  </tbody>\n",
              "</table>\n",
              "</div>"
            ],
            "text/plain": [
              "Empty DataFrame\n",
              "Columns: [document, document_cleaned, document_cleaned_formated, document_cleaned_formated_lenght, document_cleaned_lenght]\n",
              "Index: []"
            ]
          },
          "metadata": {},
          "execution_count": 51
        }
      ]
    },
    {
      "cell_type": "markdown",
      "metadata": {
        "id": "SKBPh3AlppJj"
      },
      "source": [
        "##**3 - Gerando Resumo**"
      ]
    },
    {
      "cell_type": "markdown",
      "metadata": {
        "id": "8JAGOSaAlPCK"
      },
      "source": [
        "###**3.1 - Usando a bibliotec Spacy**"
      ]
    },
    {
      "cell_type": "markdown",
      "metadata": {
        "id": "R9eS6lJNc-Io"
      },
      "source": [
        "Para gerar o resumo extrativo, uma técnica é utilizar o algoritmo TextRank, derivado do PageRank desenvolvido pelo Google. Este método consiste em encontrar as sentenças de um documento que tem maior ranking usando um frequência ponderada das palavras do documento. Neste notebook vamos usar um variaçao muito semelhante ao algotítmo TextRank. Abaixo os passos que precisamoes executar:\n",
        "\n",
        "1. Converter todos os documentos em sentenças;\n",
        "2. Processar o texto das sentenças - convertendo para minúsculas, retirando stopwords e caractreres especiais;\n",
        "3. Tokenizar as sentenças - para tratar cada palavra (token) como um elemento para ser considerado no cálculo da frequência;\n",
        "4. Calculae a frequência ponderada - para cada palavra do texto vamos calcular a frequência ponderadda em relação do documento. Faremos isso dividindo a frequência de cada palavra pela frequencia da palavra com mais ocorrência no documento;\n",
        "5. Substituir palavras de maior frequencia ponderada na sentença original;\n",
        "6. Ordenar as sentenças em ordem descrescente de soma da frequencia;"
      ]
    },
    {
      "cell_type": "code",
      "metadata": {
        "colab": {
          "base_uri": "https://localhost:8080/"
        },
        "id": "bS6XB87NptJf",
        "outputId": "e42cdcd0-a5c7-411d-9f3b-663914adfeb6"
      },
      "source": [
        "nltk.download('punkt')\n",
        "import heapq\n",
        "\n",
        "def generate_summary(text_without_removing_dot, cleaned_text, logging=False):\n",
        "    sample_text = text_without_removing_dot\n",
        "\n",
        "    if len(sample_text)>0:\n",
        "        # Input text documetn into spacy nlp function\n",
        "        doc = nlp(sample_text)\n",
        "        # we are using spacy for sentence tokenization\n",
        "        sentence_list=[]\n",
        "        for idx, sentence in enumerate(doc.sents): \n",
        "            sentence_list.append(re.sub(r'[^\\w\\s]','',str(sentence)))\n",
        "\n",
        "        # get stopwords list from english\n",
        "        stopwords = nltk.corpus.stopwords.words('english')\n",
        "\n",
        "        # calculate words frequency - TF\n",
        "        word_frequencies = {}  \n",
        "        for word in nltk.word_tokenize(cleaned_text):  \n",
        "            if word not in stopwords:\n",
        "                if word not in word_frequencies.keys():\n",
        "                    word_frequencies[word] = 1\n",
        "                else:\n",
        "                    word_frequencies[word] += 1\n",
        "\n",
        "        # identify higher word frequency \n",
        "        maximum_frequncy = max(word_frequencies.values())\n",
        "\n",
        "        # calculate a inverse word frequency for workd list - TF-IDF\n",
        "        for word in word_frequencies.keys():  \n",
        "            word_frequencies[word] = (word_frequencies[word]/maximum_frequncy)\n",
        "\n",
        "        # calcula scores for every sentences\n",
        "        sentence_scores = {}  \n",
        "        for sent in sentence_list:  \n",
        "            for word in nltk.word_tokenize(sent.lower()):\n",
        "                if word in word_frequencies.keys():\n",
        "                    if len(sent.split(' ')) < 50: # max number of words in each sentence\n",
        "                        if sent not in sentence_scores.keys():\n",
        "                            sentence_scores[sent] = word_frequencies[word]\n",
        "                        else:\n",
        "                            sentence_scores[sent] += word_frequencies[word]\n",
        "\n",
        "        # get seven higher score sentences\n",
        "        summary_sentences = heapq.nlargest(7, sentence_scores, key=sentence_scores.get)\n",
        "        summary = ' '.join(summary_sentences)\n",
        "\n",
        "        # or if no summary can compute, first sentence\n",
        "        if len(summary) == 0:\n",
        "            summary = sentence_list[0]\n",
        "\n",
        "        if logging:\n",
        "            print(\"Original Text:\\n\")\n",
        "            print(text_without_removing_dot)\n",
        "            print('\\n\\nSummarized text:\\n')\n",
        "            print(summary)\n",
        "    else:\n",
        "        summary = sample_text\n",
        "    \n",
        "    return summary"
      ],
      "execution_count": null,
      "outputs": [
        {
          "output_type": "stream",
          "name": "stdout",
          "text": [
            "[nltk_data] Downloading package punkt to /root/nltk_data...\n",
            "[nltk_data]   Package punkt is already up-to-date!\n"
          ]
        }
      ]
    },
    {
      "cell_type": "markdown",
      "metadata": {
        "id": "awbvUd1hg-zf"
      },
      "source": [
        "Testando a função de resumo com o primeiro elemento do dataset de artigos."
      ]
    },
    {
      "cell_type": "code",
      "metadata": {
        "colab": {
          "base_uri": "https://localhost:8080/"
        },
        "id": "M0OkDFbGg4dG",
        "outputId": "a0179170-e2c4-488d-ac3e-3c97f5eed664"
      },
      "source": [
        "len(df_articles.document_cleaned[0])"
      ],
      "execution_count": null,
      "outputs": [
        {
          "output_type": "execute_result",
          "data": {
            "text/plain": [
              "5629"
            ]
          },
          "metadata": {},
          "execution_count": 53
        }
      ]
    },
    {
      "cell_type": "code",
      "metadata": {
        "colab": {
          "base_uri": "https://localhost:8080/"
        },
        "id": "Wb90jaX-gdgm",
        "outputId": "38b61fd7-a3ac-4ad3-e869-8f09294da82e"
      },
      "source": [
        "len(generate_summary(df_articles.document_cleaned[0], df_articles.document_cleaned_formated[0], logging=False))"
      ],
      "execution_count": null,
      "outputs": [
        {
          "output_type": "execute_result",
          "data": {
            "text/plain": [
              "891"
            ]
          },
          "metadata": {},
          "execution_count": 54
        }
      ]
    },
    {
      "cell_type": "code",
      "metadata": {
        "colab": {
          "base_uri": "https://localhost:8080/",
          "height": 293
        },
        "id": "3h-ohZK8pyVv",
        "outputId": "ea220ac9-07d0-45f1-ad5e-5fb82f2ad96d"
      },
      "source": [
        "# gerando o resumo o primeiro artigo\n",
        "generate_summary( df_articles['document_cleaned'][0], df_articles['document_cleaned_formated'][0], logging=True)"
      ],
      "execution_count": null,
      "outputs": [
        {
          "output_type": "stream",
          "name": "stdout",
          "text": [
            "Original Text:\n",
            "\n",
            "Flag Flap Underscores Trump Strained Relationship With McCain Enlarge this image toggle caption Mandel Ngan/AFP/Getty Images Mandel Ngan/AFP/Getty Images Updated at 9:37 p.m. ET The beginning of the national memorial for Sen. John McCain, R-Ariz., has been marred by a fight over a sign of public respect, as President Trump initially avoided issuing a proclamation to lower flags to half-staff at all federal properties in McCain honor. Flags were lowered at government buildings across Washington and across the country Saturday evening after McCain died, as is standard practice for a sitting member of Congress. But on Monday morning the flag atop the White House was back at full-staff, causing some to ask whether Trump strained relationship with McCain had played into the decision to not keep it lowered. The lack of a proclamation was viewed by some as a disrespectful act reflecting the president dislike for McCain, which Trump continued to express publicly, even as recently as last week. Hours after reporters questioned the White House about the move and the president ignored multiple press attempts to ask his reaction to McCain death, the White House flag was eventually lowered to half-staff Monday afternoon. Trump said in a statement released shortly afterward: \"Despite our differences on policy and politics, I respect Senator John McCain service to our country and, in his honor, have signed a proclamation to fly the flag of the United States at half-staff until the day of his interment.\" Until that point, Trump had not issued a formal statement on McCain or commented on his service to the country, instead tweeting brief condolences Saturday to the senator family. Later Monday evening at a dinner with evangelical leaders, Trump made his first public comments since the senator death Saturday. \"We very much appreciate everything that Senator McCain has done for our country,\" the president said. \"Our hearts and prayers are going to the family,\" Trump also said, echoing his tweet. \"There going to be a lot of activity over the next number of days.\" The dust-up over the flag was viewed as particularly insulting by veterans. McCain was a retired captain in the Navy and the son and grandson of two four-star Navy admirals. He was held for 5 1/2 years as a prisoner of war in Vietnam after the attack aircraft he was piloting was shot down during a bombing raid over Hanoi. He was tortured but refused early release because it would have meant leaving ahead of other soldiers who had been captured before him. American Legion National Commander Denise Rohan issued a letter before Trump late afternoon written statement, appealing to the president to follow the custom he had used in recent deaths of national figures. \"The American Legion urges the White House to follow long-established protocol following the death of prominent government officials,\" she wrote. \"Mr. President, just this year, you released presidential proclamations noting the deaths of Barbara Bush and Billy Graham. Senator John McCain was an American hero and cherished member of The American Legion.\" The veterans group AMVETS also issued a statement calling the president actions since McCain death deeply disappointing. \"It outrageous that the White House would mark American hero John McCain death with a two-sentence tweet, making no mention of his heroic and inspiring life,\" said AMVETS National Executive Director Joe Chenelly. \"And by lowering flags for not one second more than the bare minimum required by law, despite a long-standing tradition of lowering flags until the funeral, the White House is openly showcasing its blatant disrespect for Senator McCain many decades of service and sacrifice to our country as well as the service of all his fellow veterans.\" And in what could be viewed as a subtle slap at Trump, the Canadian Embassy in Washington also posted a picture showing that it had lowered its flag to honor McCain. \" Senator John McCain was a long-serving U.S. Senator, naval officer, strong advocate for NATO, and a good friend to Canada. The flag at the Embassy has been lowered to half-mast in his honour,\" the embassy tweeted. This week McCain will lie in state in both the U.S. and Arizona capitols and will be memorialized at a funeral at his family church in Phoenix and at a service at the National Cathedral in Washington, D.C. He will be buried at the cemetery at the U.S. Naval Academy in Annapolis, Md., on Sunday. According to the U.S. Code, the rules for a member of Congress state that flags are to be lowered on the day of the death plus one additional day. In other instances the White House has issued a proclamation extending the period to keep the flags at half-staff. It was no secret that the president and McCain frequently clashed. The Washington Post reported that when White House press secretary Sarah Sanders and other officials initially prepared a statement in Trump name praising McCain, the president rejected that plan, opting instead for his Saturday tweet. Senate Majority Leader Mitch McConnell, R-Ky., and Senate Minority Leader Chuck Schumer, D-N.Y., sent a joint letter to the Department of Defense on Sunday requesting that flags \"at all government buildings and installations\" remain at half-staff through McCain burial on Sunday. \"We've received the letter and we'll be working with Senator Schumer and Senator McConnell,\" said Tom Crosson, a Pentagon spokesman. But with the White House proclamation issued late on Monday, the Pentagon can point to that as the directive responsive to the congressional request. NPR Tom Bowman contributed to this report.\n",
            "\n",
            "\n",
            "Summarized text:\n",
            "\n",
            "Flag Flap Underscores Trump Strained Relationship With McCain Enlarge this image toggle caption Mandel NganAFPGetty Images Mandel NganAFPGetty Images Updated at 937 pm Senator John McCain was an American hero and cherished member of The American Legion Senator John McCain was a longserving US Senator naval officer strong advocate for NATO and a good friend to Canada The veterans group AMVETS also issued a statement calling the president actions since McCain death deeply disappointing Flags were lowered at government buildings across Washington and across the country Saturday evening after McCain died as is standard practice for a sitting member of Congress We very much appreciate everything that Senator McCain has done for our country the president said Later Monday evening at a dinner with evangelical leaders Trump made his first public comments since the senator death Saturday\n"
          ]
        },
        {
          "output_type": "execute_result",
          "data": {
            "application/vnd.google.colaboratory.intrinsic+json": {
              "type": "string"
            },
            "text/plain": [
              "'Flag Flap Underscores Trump Strained Relationship With McCain Enlarge this image toggle caption Mandel NganAFPGetty Images Mandel NganAFPGetty Images Updated at 937 pm Senator John McCain was an American hero and cherished member of The American Legion Senator John McCain was a longserving US Senator naval officer strong advocate for NATO and a good friend to Canada The veterans group AMVETS also issued a statement calling the president actions since McCain death deeply disappointing Flags were lowered at government buildings across Washington and across the country Saturday evening after McCain died as is standard practice for a sitting member of Congress We very much appreciate everything that Senator McCain has done for our country the president said Later Monday evening at a dinner with evangelical leaders Trump made his first public comments since the senator death Saturday'"
            ]
          },
          "metadata": {},
          "execution_count": 55
        }
      ]
    },
    {
      "cell_type": "markdown",
      "metadata": {
        "id": "U5KVgowoz6JH"
      },
      "source": [
        "Testando com os 100 primeiro artigos:"
      ]
    },
    {
      "cell_type": "code",
      "metadata": {
        "id": "aKWPYJJGzxxv"
      },
      "source": [
        "df_sample = df_articles[0:100]\n",
        "df_sample['generated_summary'] = df_sample.progress_apply(lambda x: generate_summary(x.document_cleaned, x.document_cleaned_formated), axis=1)\n",
        "df_sample"
      ],
      "execution_count": null,
      "outputs": []
    },
    {
      "cell_type": "code",
      "metadata": {
        "id": "Q7n44g1Z4iKz"
      },
      "source": [
        "df_sample.to_csv('storys_summarized_sample.csv', compression='gzip')"
      ],
      "execution_count": null,
      "outputs": []
    },
    {
      "cell_type": "markdown",
      "metadata": {
        "id": "sxdpa7_-0Mbi"
      },
      "source": [
        "Agora processando o dataset completo:"
      ]
    },
    {
      "cell_type": "code",
      "metadata": {
        "id": "dMyRHxS7gS61",
        "colab": {
          "base_uri": "https://localhost:8080/",
          "height": 562,
          "referenced_widgets": [
            "122865e45adf474b99dd41f4839f0028",
            "1308e1b03e5543ea91bd882900e59bba",
            "880b93da35f94a2f86ae8dcdb8b1bc4f",
            "292f8dc6a71d4a2db1fb48dc60e5f363",
            "fe40ef973acc4364a505ab4d3baee43f",
            "21759587edbe488f87dd21e3b7d55e2d",
            "c79db8ec6bab4286bb1a2a0ec3f151f4",
            "6063dbe5166d40afbfa9852cf2f619c6",
            "87a849bfd45d4dbab1740a27092f0926",
            "843169b6955c4412904365258c561ab8",
            "378c813a9bd64d8ebd027c7894c4e85a"
          ]
        },
        "outputId": "83d345bf-aefa-4b84-c847-feb5a4ede155"
      },
      "source": [
        "# Criando uma nova coluna para armazenar o resumo gerado\n",
        "# OBS: este processo é bem demorado \n",
        "df_articles['generated_summary'] = df_articles.progress_apply(lambda x: generate_summary(x.document_cleaned, x.document_cleaned_formated), axis=1)\n",
        "df_articles['generated_summary_lenght'] = df_articles['generated_summary'].str.len()\n",
        "df_articles.head()"
      ],
      "execution_count": null,
      "outputs": [
        {
          "output_type": "display_data",
          "data": {
            "application/vnd.jupyter.widget-view+json": {
              "model_id": "122865e45adf474b99dd41f4839f0028",
              "version_minor": 0,
              "version_major": 2
            },
            "text/plain": [
              "  0%|          | 0/2729 [00:00<?, ?it/s]"
            ]
          },
          "metadata": {}
        },
        {
          "output_type": "execute_result",
          "data": {
            "text/html": [
              "<div>\n",
              "<style scoped>\n",
              "    .dataframe tbody tr th:only-of-type {\n",
              "        vertical-align: middle;\n",
              "    }\n",
              "\n",
              "    .dataframe tbody tr th {\n",
              "        vertical-align: top;\n",
              "    }\n",
              "\n",
              "    .dataframe thead th {\n",
              "        text-align: right;\n",
              "    }\n",
              "</style>\n",
              "<table border=\"1\" class=\"dataframe\">\n",
              "  <thead>\n",
              "    <tr style=\"text-align: right;\">\n",
              "      <th></th>\n",
              "      <th>document</th>\n",
              "      <th>document_cleaned</th>\n",
              "      <th>document_cleaned_formated</th>\n",
              "      <th>document_cleaned_formated_lenght</th>\n",
              "      <th>document_cleaned_lenght</th>\n",
              "      <th>generated_summary</th>\n",
              "      <th>generated_summary_lenght</th>\n",
              "    </tr>\n",
              "  </thead>\n",
              "  <tbody>\n",
              "    <tr>\n",
              "      <th>0</th>\n",
              "      <td>Flag Flap Underscores Trump's Strained Relatio...</td>\n",
              "      <td>Flag Flap Underscores Trump Strained Relations...</td>\n",
              "      <td>flag flap underscore trump strained relationsh...</td>\n",
              "      <td>3999</td>\n",
              "      <td>5629</td>\n",
              "      <td>ET The beginning of the national memorial for ...</td>\n",
              "      <td>1567</td>\n",
              "    </tr>\n",
              "    <tr>\n",
              "      <th>1</th>\n",
              "      <td>Tension between President Donald Trump and Se...</td>\n",
              "      <td>Tension between President Donald Trump and Sen...</td>\n",
              "      <td>tension president donald trump sen. john mccai...</td>\n",
              "      <td>4251</td>\n",
              "      <td>6026</td>\n",
              "      <td>President Donald Trump delay in honoring the l...</td>\n",
              "      <td>1546</td>\n",
              "    </tr>\n",
              "    <tr>\n",
              "      <th>2</th>\n",
              "      <td>After ignoring repeated questions all day abo...</td>\n",
              "      <td>After ignoring repeated questions all day abou...</td>\n",
              "      <td>ignore repeat question day whether would say a...</td>\n",
              "      <td>3095</td>\n",
              "      <td>4221</td>\n",
              "      <td>Add John McCain as an interest to stay up to d...</td>\n",
              "      <td>1304</td>\n",
              "    </tr>\n",
              "    <tr>\n",
              "      <th>3</th>\n",
              "      <td>WASHINGTON (Reuters) - The White House lowere...</td>\n",
              "      <td>WASHINGTON (Reuters) - The White House lowered...</td>\n",
              "      <td>washington reuters white house lower u.s. flag...</td>\n",
              "      <td>2624</td>\n",
              "      <td>3704</td>\n",
              "      <td>The White House lowered its US flag to halfsta...</td>\n",
              "      <td>1420</td>\n",
              "    </tr>\n",
              "    <tr>\n",
              "      <th>4</th>\n",
              "      <td>Over 60 years after the first excavations at Q...</td>\n",
              "      <td>Over 60 years after the first excavations at Q...</td>\n",
              "      <td>60 year first excavation qumran researcher heb...</td>\n",
              "      <td>2958</td>\n",
              "      <td>4398</td>\n",
              "      <td>Over 60 years after the first excavations at Q...</td>\n",
              "      <td>1523</td>\n",
              "    </tr>\n",
              "  </tbody>\n",
              "</table>\n",
              "</div>"
            ],
            "text/plain": [
              "                                            document  ... generated_summary_lenght\n",
              "0  Flag Flap Underscores Trump's Strained Relatio...  ...                     1567\n",
              "1   Tension between President Donald Trump and Se...  ...                     1546\n",
              "2   After ignoring repeated questions all day abo...  ...                     1304\n",
              "3   WASHINGTON (Reuters) - The White House lowere...  ...                     1420\n",
              "4  Over 60 years after the first excavations at Q...  ...                     1523\n",
              "\n",
              "[5 rows x 7 columns]"
            ]
          },
          "metadata": {},
          "execution_count": 186
        }
      ]
    },
    {
      "cell_type": "code",
      "metadata": {
        "id": "MhxCQGgRhU_4",
        "colab": {
          "base_uri": "https://localhost:8080/"
        },
        "outputId": "3eba1e8d-2c45-4f1d-f4fc-96a21f180193"
      },
      "source": [
        "# conferindo o tamanho do story original e do resumo\n",
        "len(df_articles.document[0]), len(df_articles.generated_summary[0])"
      ],
      "execution_count": null,
      "outputs": [
        {
          "output_type": "execute_result",
          "data": {
            "text/plain": [
              "(5783, 1567)"
            ]
          },
          "metadata": {},
          "execution_count": 187
        }
      ]
    },
    {
      "cell_type": "code",
      "metadata": {
        "colab": {
          "base_uri": "https://localhost:8080/"
        },
        "id": "70uF713NxXlm",
        "outputId": "0d1f0041-6aa2-49de-f202-0b324a4abaee"
      },
      "source": [
        "# comparando o tamanhos das string do artico original e do resumo\n",
        "# OBS: no dataset completo esta operação vai demorar\n",
        "df_articles.document.str.len().mean(), df_articles.generated_summary.str.len().mean()"
      ],
      "execution_count": null,
      "outputs": [
        {
          "output_type": "execute_result",
          "data": {
            "text/plain": [
              "(3979.47050201539, 1055.837303041407)"
            ]
          },
          "metadata": {},
          "execution_count": 188
        }
      ]
    },
    {
      "cell_type": "code",
      "metadata": {
        "colab": {
          "base_uri": "https://localhost:8080/"
        },
        "id": "iC7iot6Z0ijJ",
        "outputId": "9452d0b3-8867-48f3-8a73-5050c72f3695"
      },
      "source": [
        "df_articles.document.str.len().min(), df_articles.generated_summary.str.len().min()"
      ],
      "execution_count": null,
      "outputs": [
        {
          "output_type": "execute_result",
          "data": {
            "text/plain": [
              "(28, 26)"
            ]
          },
          "metadata": {},
          "execution_count": 189
        }
      ]
    },
    {
      "cell_type": "code",
      "metadata": {
        "colab": {
          "base_uri": "https://localhost:8080/",
          "height": 69
        },
        "id": "TPF8ymhD00iY",
        "outputId": "63262402-af9b-4c9a-925a-9d880be621e1"
      },
      "source": [
        "# verificar se existem resumos vazios\n",
        "df_articles[df_articles.generated_summary_lenght<1]"
      ],
      "execution_count": null,
      "outputs": [
        {
          "output_type": "execute_result",
          "data": {
            "text/html": [
              "<div>\n",
              "<style scoped>\n",
              "    .dataframe tbody tr th:only-of-type {\n",
              "        vertical-align: middle;\n",
              "    }\n",
              "\n",
              "    .dataframe tbody tr th {\n",
              "        vertical-align: top;\n",
              "    }\n",
              "\n",
              "    .dataframe thead th {\n",
              "        text-align: right;\n",
              "    }\n",
              "</style>\n",
              "<table border=\"1\" class=\"dataframe\">\n",
              "  <thead>\n",
              "    <tr style=\"text-align: right;\">\n",
              "      <th></th>\n",
              "      <th>document</th>\n",
              "      <th>document_cleaned</th>\n",
              "      <th>document_cleaned_formated</th>\n",
              "      <th>document_cleaned_formated_lenght</th>\n",
              "      <th>document_cleaned_lenght</th>\n",
              "      <th>generated_summary</th>\n",
              "      <th>generated_summary_lenght</th>\n",
              "    </tr>\n",
              "  </thead>\n",
              "  <tbody>\n",
              "  </tbody>\n",
              "</table>\n",
              "</div>"
            ],
            "text/plain": [
              "Empty DataFrame\n",
              "Columns: [document, document_cleaned, document_cleaned_formated, document_cleaned_formated_lenght, document_cleaned_lenght, generated_summary, generated_summary_lenght]\n",
              "Index: []"
            ]
          },
          "metadata": {},
          "execution_count": 191
        }
      ]
    },
    {
      "cell_type": "code",
      "metadata": {
        "colab": {
          "base_uri": "https://localhost:8080/",
          "height": 188
        },
        "id": "Il-S0h-mkCT5",
        "outputId": "88affa33-a0c0-47dd-c0c9-97f8d9faa003"
      },
      "source": [
        "# Resumo do primeiro artigo\n",
        "df_articles.generated_summary[0]"
      ],
      "execution_count": null,
      "outputs": [
        {
          "output_type": "execute_result",
          "data": {
            "application/vnd.google.colaboratory.intrinsic+json": {
              "type": "string"
            },
            "text/plain": [
              "'ET The beginning of the national memorial for Sen John McCain RAriz has been marred by a fight over a sign of public respect as President Trump initially avoided issuing a proclamation to lower flags to halfstaff at all federal properties in McCain honor Hours after reporters questioned the White House about the move and the president ignored multiple press attempts to ask his reaction to McCain death the White House flag was eventually lowered to halfstaff Monday afternoon Trump said in a statement released shortly afterward Despite our differences on policy and politics I respect Senator John McCain service to our country and in his honor have signed a proclamation to fly the flag of the United States at halfstaff until the day of his interment The Washington Post reported that when White House press secretary Sarah Sanders and other officials initially prepared a statement in Trump name praising McCain the president rejected that plan opting instead for his Saturday tweet It outrageous that the White House would mark American hero John McCain death with a twosentence tweet making no mention of his heroic and inspiring life said AMVETS National Executive Director Joe Chenelly But on Monday morning the flag atop the White House was back at fullstaff causing some to ask whether Trump strained relationship with McCain had played into the decision to not keep it lowered  Until that point Trump had not issued a formal statement on McCain or commented on his service to the country instead tweeting brief condolences Saturday to the senator family'"
            ]
          },
          "metadata": {},
          "execution_count": 192
        }
      ]
    },
    {
      "cell_type": "code",
      "metadata": {
        "id": "MB5-PnaLsTta"
      },
      "source": [
        "# salva arquivo com as storys preprocessadas\n",
        "df_articles.to_csv('storys_summarized.csv.gz', compression='gzip')"
      ],
      "execution_count": null,
      "outputs": []
    },
    {
      "cell_type": "markdown",
      "metadata": {
        "id": "boeS1qU4kIxs"
      },
      "source": [
        "###**3.2 - Usansdo a Biblioteca Textrank**"
      ]
    },
    {
      "cell_type": "markdown",
      "metadata": {
        "id": "7nY0fvjQnuuu"
      },
      "source": [
        "Existe uma biblioteca com uma implementação o médoto TextRank (pytextrank) que pode ser utilizado para os casos de resumos extrativos. Abaixo um teste realizado com esta biblioteca em conjunto com um pipeline do spacy."
      ]
    },
    {
      "cell_type": "code",
      "metadata": {
        "id": "zAYzW8o004H8"
      },
      "source": [
        "!pip install pytextrank"
      ],
      "execution_count": null,
      "outputs": []
    },
    {
      "cell_type": "code",
      "metadata": {
        "colab": {
          "base_uri": "https://localhost:8080/"
        },
        "id": "MawprxXG9EKg",
        "outputId": "16a9071e-c4bf-4432-8c19-2249420f1b9e"
      },
      "source": [
        "# import spacy\n",
        "import pytextrank\n",
        "\n",
        "# example text\n",
        "# text = \"Compatibility of systems of linear constraints over the set of natural numbers. Criteria of compatibility of a system of linear Diophantine equations, strict inequations, and nonstrict inequations are considered. Upper bounds for components of a minimal set of solutions and algorithms of construction of minimal generating sets of solutions for all types of systems are given. These criteria and the corresponding algorithms for constructing a minimal supporting set of solutions can be used in solving all the considered types systems and systems of mixed types.\"\n",
        "text = df_articles.document_cleaned[0]\n",
        "\n",
        "# load a spaCy model, depending on language, scale, etc.\n",
        "nlp = spacy.load(\"en_core_web_sm\")\n",
        "\n",
        "# add PyTextRank to the spaCy pipeline\n",
        "# tr = pytextrank.TextRank()\n",
        "\n",
        "# add PyTextRank to the spaCy pipeline\n",
        "nlp.add_pipe(\"textrank\")\n",
        "doc = nlp(text)\n",
        "\n",
        "# examine the top-ranked phrases in the document\n",
        "# for phrase in doc._.phrases:\n",
        "#     print(phrase.text)\n",
        "#     print(phrase.rank, phrase.count)\n",
        "#     print(phrase.chunks)\n",
        "\n",
        "# for phrase in doc._.phrases[:10]:\n",
        "#     print(phrase)\n",
        "\n",
        "tr = doc._.textrank\n",
        "for sent in tr.summary(limit_phrases=10, limit_sentences=3):\n",
        "    print(sent)\n"
      ],
      "execution_count": null,
      "outputs": [
        {
          "output_type": "stream",
          "name": "stdout",
          "text": [
            "ET The beginning of the national memorial for Sen. John McCain, R-Ariz., has been marred by a fight over a sign of public respect, as President Trump initially avoided issuing a proclamation to lower flags to half-staff at all federal properties in McCain honor.\n",
            "Hours after reporters questioned the White House about the move and the president ignored multiple press attempts to ask his reaction to McCain death, the White House flag was eventually lowered to half-staff Monday afternoon.\n",
            "The veterans group AMVETS also issued a statement calling the president actions since McCain death deeply disappointing.\n"
          ]
        }
      ]
    },
    {
      "cell_type": "markdown",
      "metadata": {
        "id": "vciTKPIOqxMM"
      },
      "source": [
        "##**4 - Avaliando O Resultado**"
      ]
    },
    {
      "cell_type": "markdown",
      "metadata": {
        "id": "WQRR3AI11Rw_"
      },
      "source": [
        "###**4.1 - Calculando as métricas Rouge**"
      ]
    },
    {
      "cell_type": "markdown",
      "metadata": {
        "id": "Yz7Qicqr4Han"
      },
      "source": [
        "para calcular as métricas ROUGE vamos utilizar a bibloteca rouge disponível  para instalação via pip."
      ]
    },
    {
      "cell_type": "code",
      "metadata": {
        "colab": {
          "base_uri": "https://localhost:8080/"
        },
        "id": "3k1ph_l2q0nL",
        "outputId": "9fde414c-d5c1-49b8-d8eb-6ff6d3791d38"
      },
      "source": [
        "# instalando lib rouge.  Observar para que a versão 1.0.1 seja escolhida.\n",
        "!pip install rouge"
      ],
      "execution_count": null,
      "outputs": [
        {
          "output_type": "stream",
          "name": "stdout",
          "text": [
            "Collecting rouge\n",
            "  Downloading rouge-1.0.1-py3-none-any.whl (13 kB)\n",
            "Requirement already satisfied: six in /usr/local/lib/python3.7/dist-packages (from rouge) (1.15.0)\n",
            "Installing collected packages: rouge\n",
            "Successfully installed rouge-1.0.1\n"
          ]
        }
      ]
    },
    {
      "cell_type": "markdown",
      "metadata": {
        "id": "4oQEFcNv9F_E"
      },
      "source": [
        "A função get_scores recupera as métricas definidas no parâmetro:"
      ]
    },
    {
      "cell_type": "code",
      "metadata": {
        "colab": {
          "base_uri": "https://localhost:8080/"
        },
        "id": "AM7HHPJUrM1n",
        "outputId": "de050466-f6cd-403b-c7ee-a01f3c7c88c7"
      },
      "source": [
        "# calcula métricas rouge para todo o dataset\n",
        "from rouge import Rouge\n",
        "rouge = Rouge(metrics=['rouge-1', 'rouge-2','rouge-l'])\n",
        "# rouge = Rouge(metrics=['rouge-n', 'rouge-l', 'rouge-w'])\n",
        "\n",
        "# o parâmetro avg=True calcula a média do dataset\n",
        "rouge.get_scores(df_articles.generated_summary,\n",
        "                 df_articles.document, \n",
        "                 avg=True)"
      ],
      "execution_count": null,
      "outputs": [
        {
          "output_type": "execute_result",
          "data": {
            "text/plain": [
              "{'rouge-1': {'f': 0.5830407188271377,\n",
              "  'p': 0.9045512281857051,\n",
              "  'r': 0.46787875160045383},\n",
              " 'rouge-2': {'f': 0.48046573983053303,\n",
              "  'p': 0.7835732339525427,\n",
              "  'r': 0.3853929468061236},\n",
              " 'rouge-l': {'f': 0.577619245233806,\n",
              "  'p': 0.8957396083363237,\n",
              "  'r': 0.4635808325237329}}"
            ]
          },
          "metadata": {},
          "execution_count": 194
        }
      ]
    },
    {
      "cell_type": "markdown",
      "metadata": {
        "id": "DDH97Bwp1Kcs"
      },
      "source": [
        "###**4.2 - Conclusão**"
      ]
    },
    {
      "cell_type": "markdown",
      "metadata": {
        "id": "5jvAXLsr5A5E"
      },
      "source": [
        "Olhando para as três métricas percebemos que o precision apresentam resultado próximo a 1 (quanto mais próximo a 1 melhor), isto é, o modelo está encontrando grande partes dos n-grams coincidentes no texto referência e no resumo. Se considerarmos o rouge-2 podermos ver 0.7835 de precision.\n",
        "\n",
        "Porém, o recall está baixo, o que indica que o número de n-grams presentes nos dois textos comparativos (modelo e referência) estão bem abaixo dos n-grans do texto referência. Isso se deve a fato de que os artigos escolhido para nosso dataset são textos longos.\n",
        "\n",
        "O resultado parece satisfatório, uma vez que os bachmarks com métodos de resumos extrativos tem valores de rouge e f1 próximos as estes."
      ]
    },
    {
      "cell_type": "markdown",
      "metadata": {
        "id": "Zs0BCXzR-N0n"
      },
      "source": [
        "##**5 - Salvando Arquivos**"
      ]
    },
    {
      "cell_type": "markdown",
      "metadata": {
        "id": "yQlbelcr-SoE"
      },
      "source": [
        "**Usando o GDrive**"
      ]
    },
    {
      "cell_type": "code",
      "metadata": {
        "id": "odYJb38y6nUJ",
        "colab": {
          "base_uri": "https://localhost:8080/"
        },
        "outputId": "34fa9bca-f800-42ae-c6ca-2351b363ec3b"
      },
      "source": [
        "from google.colab import drive\n",
        "drive.mount('/content/drive')"
      ],
      "execution_count": null,
      "outputs": [
        {
          "output_type": "stream",
          "name": "stdout",
          "text": [
            "Mounted at /content/drive\n"
          ]
        }
      ]
    },
    {
      "cell_type": "code",
      "metadata": {
        "id": "zIOZqlO09sCE"
      },
      "source": [
        "# copiando os datasets compactados\n",
        "!cp *.gz /content/drive/My\\ Drive/Colab\\ Notebooks/files/"
      ],
      "execution_count": null,
      "outputs": []
    },
    {
      "cell_type": "code",
      "metadata": {
        "colab": {
          "base_uri": "https://localhost:8080/"
        },
        "id": "rcdMPnG3_Wt-",
        "outputId": "f47647ff-ff3f-4f1e-a34b-dc664637c0cf"
      },
      "source": [
        "drive.flush_and_unmount()\n",
        "print('All changes made in this colab session should now be visible in Drive.')"
      ],
      "execution_count": null,
      "outputs": [
        {
          "output_type": "stream",
          "name": "stdout",
          "text": [
            "All changes made in this colab session should now be visible in Drive.\n"
          ]
        }
      ]
    },
    {
      "cell_type": "markdown",
      "metadata": {
        "id": "j8y6MGqj-A8o"
      },
      "source": [
        "**Usando API do GCS**"
      ]
    },
    {
      "cell_type": "code",
      "metadata": {
        "id": "EmSVog1w-Ezg"
      },
      "source": [
        "from google.colab import auth\n",
        "auth.authenticate_user()"
      ],
      "execution_count": null,
      "outputs": []
    },
    {
      "cell_type": "code",
      "metadata": {
        "id": "t8l8Z7WN7ERP"
      },
      "source": [
        "!gsutil cp storys.csv.gz gs://alice-platform.appspot.com/files"
      ],
      "execution_count": null,
      "outputs": []
    }
  ]
}